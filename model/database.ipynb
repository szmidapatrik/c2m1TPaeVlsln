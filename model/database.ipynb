{
 "cells": [
  {
   "cell_type": "markdown",
   "metadata": {},
   "source": [
    "# Database\n",
    "\n",
    "In this file the dataset is created in which the graph data will be stored. First part is to read the *.dem* files of the matches played on inferno, than convert the datas into ***HeteroData*** structure so that it can be stored in a PyG database."
   ]
  },
  {
   "cell_type": "markdown",
   "metadata": {},
   "source": [
    "## Creating HeteroData objects from game snapshots"
   ]
  },
  {
   "cell_type": "code",
   "execution_count": 63,
   "metadata": {},
   "outputs": [],
   "source": [
    "import torch\n",
    "from torch_geometric.data import HeteroData, DataLoader\n",
    "from torch_geometric.data import Dataset, Data\n",
    "\n",
    "import matplotlib.pyplot as plt\n",
    "from math import floor\n",
    "import pandas as pd\n",
    "import numpy as np\n",
    "import os\n",
    "\n",
    "pd.set_option('display.max_columns', 50)\n",
    "pd.set_option('display.max_rows', 50)"
   ]
  },
  {
   "cell_type": "markdown",
   "metadata": {},
   "source": [
    "Reading the inferno csv files"
   ]
  },
  {
   "cell_type": "code",
   "execution_count": 64,
   "metadata": {},
   "outputs": [],
   "source": [
    "def get_inferno_matches(folder_path):\n",
    "    matches = []\n",
    "    for filename in os.listdir(folder_path + '/frames/'):\n",
    "        if 'inferno' in filename:\n",
    "            matches.append(filename)\n",
    "    return matches"
   ]
  },
  {
   "cell_type": "markdown",
   "metadata": {},
   "source": [
    "Reading dataframes."
   ]
  },
  {
   "cell_type": "code",
   "execution_count": 65,
   "metadata": {},
   "outputs": [],
   "source": [
    "def get_base_dataframes(folder_path, filename):\n",
    "    playerFrames = pd.read_csv(folder_path + '/playerFrames/' + filename)\n",
    "    kills = pd.read_csv(folder_path +'/kills/' + filename)\n",
    "    rounds = pd.read_csv(folder_path +'/rounds/' + filename)\n",
    "\n",
    "\n",
    "    rounds = rounds[['roundNum', 'tScore', \"ctScore\" ,'endTScore', 'endCTScore']]\n",
    "    pf = playerFrames[['tick', 'roundNum', 'seconds', 'side', 'name', 'x', 'y', 'z','eyeX', 'eyeY', 'eyeZ', 'velocityX', 'velocityY', 'velocityZ',\n",
    "        'hp', 'armor', 'activeWeapon','flashGrenades', 'smokeGrenades', 'heGrenades', 'totalUtility','isAlive', 'isReloading', 'isDefusing', 'isPlanting', 'isUnknown',\n",
    "        'equipmentValue', 'equipmentValueRoundStart', 'hasHelmet','hasDefuse', 'hasBomb']]\n",
    "    \n",
    "    return pf, kills, rounds"
   ]
  },
  {
   "cell_type": "markdown",
   "metadata": {},
   "source": [
    "Formatting the dataframes."
   ]
  },
  {
   "cell_type": "code",
   "execution_count": 66,
   "metadata": {},
   "outputs": [],
   "source": [
    "def format_base_dataframes(pf, kills, rounds):\n",
    "    \n",
    "    # Merge playerFrames with rounds\n",
    "    pf = pf.merge(rounds, on='roundNum')\n",
    "    \n",
    "    # Calculate whether or not a player won the round\n",
    "    pf[\"winsRounds\"] = pf.apply(lambda x: \n",
    "        1 if ( (x['side'] == 'T') and (x['endTScore'] > x['tScore']) ) or ( (x['side'] == 'CT') and (x['endCTScore'] > x['ctScore']) )\n",
    "        else 0, axis=1)\n",
    "\n",
    "    pf['kills'] = 0\n",
    "    pf['deaths'] = 0\n",
    "    \n",
    "    # Setting kill-counts\n",
    "    for index, row in kills.iterrows():\n",
    "        pf.loc[(pf['tick'] >= row['tick']) & (pf['name'] == row['attackerName']), 'kills'] += 1\n",
    "        pf.loc[(pf['tick'] >= row['tick']) & (pf['name'] == row['victimName']), 'deaths'] += 1\n",
    "        \n",
    "    # Rounded-down seconds\n",
    "    pf['sec'] = pf['seconds'].apply(lambda x: floor(x))\n",
    "        \n",
    "    return pf, kills, rounds"
   ]
  },
  {
   "cell_type": "code",
   "execution_count": 67,
   "metadata": {},
   "outputs": [],
   "source": [
    "def get_dummies(pf):\n",
    "    \n",
    "    # Tracked weapons\n",
    "    tracked_weapons = ['activeWeapon_AK-47','activeWeapon_Knife','activeWeapon_AWP','activeWeapon_M4A1','activeWeapon_Smoke Grenade','activeWeapon_M4A4','activeWeapon_Galil AR','activeWeapon_Desert Eagle','activeWeapon_Flashbang','activeWeapon_Glock-18','activeWeapon_USP-S']\n",
    "    \n",
    "    # Create dummie cols\n",
    "    dummies = pd.get_dummies(pf['activeWeapon'], prefix=\"activeWeapon\",drop_first=False)\n",
    "    for col in dummies.columns:\n",
    "        if col not in tracked_weapons:\n",
    "            dummies = dummies.drop(col, axis=1)\n",
    "    \n",
    "    dummies = dummies*1\n",
    "    pf = pf.merge(dummies, left_index = True, right_index = True, how = 'left')\n",
    "    \n",
    "    return pf"
   ]
  },
  {
   "cell_type": "code",
   "execution_count": 68,
   "metadata": {},
   "outputs": [],
   "source": [
    "def create_players_dataframes(pf):\n",
    "    \n",
    "    startAsCTPlayerNames = pf[(pf['side'] == 'CT') & (pf['roundNum'] == 1)]['name'].unique()\n",
    "    startAsTPlayerNames = pf[(pf['side'] == 'T') & (pf['roundNum'] == 1)]['name'].unique()\n",
    "    players = {}\n",
    "\n",
    "    # Team 1: start on CT side\n",
    "    players[0] = pf[pf['name'] == startAsCTPlayerNames[0]].drop_duplicates(subset=['sec','roundNum']).copy()\n",
    "    players[1] = pf[pf['name'] == startAsCTPlayerNames[1]].drop_duplicates(subset=['sec','roundNum']).copy()\n",
    "    players[2] = pf[pf['name'] == startAsCTPlayerNames[2]].drop_duplicates(subset=['sec','roundNum']).copy()\n",
    "    players[3] = pf[pf['name'] == startAsCTPlayerNames[3]].drop_duplicates(subset=['sec','roundNum']).copy()\n",
    "    players[4] = pf[pf['name'] == startAsCTPlayerNames[4]].drop_duplicates(subset=['sec','roundNum']).copy()\n",
    "\n",
    "    # Team 2: start on T side\n",
    "    players[5] = pf[pf['name'] == startAsTPlayerNames[0]].drop_duplicates(subset=['sec','roundNum']).copy()\n",
    "    players[6] = pf[pf['name'] == startAsTPlayerNames[1]].drop_duplicates(subset=['sec','roundNum']).copy()\n",
    "    players[7] = pf[pf['name'] == startAsTPlayerNames[2]].drop_duplicates(subset=['sec','roundNum']).copy()\n",
    "    players[8] = pf[pf['name'] == startAsTPlayerNames[3]].drop_duplicates(subset=['sec','roundNum']).copy()\n",
    "    players[9] = pf[pf['name'] == startAsTPlayerNames[4]].drop_duplicates(subset=['sec','roundNum']).copy()\n",
    "    \n",
    "    return players\n"
   ]
  },
  {
   "cell_type": "code",
   "execution_count": 69,
   "metadata": {},
   "outputs": [],
   "source": [
    "# Calculate closest map-graph node\n",
    "def find_closest(row):\n",
    "    nodes = pd.read_csv('../inferno_graph/graph_models/manual/nodes_v1_5.csv')\n",
    "    distances = np.sqrt((nodes['x'] - row['x'])**2 + (nodes['y'] - row['y'])**2)\n",
    "    return nodes.loc[distances.idxmin(), 'nodeId']\n",
    "\n",
    "def calculate_closest_map_node_to_player(pf):\n",
    "    \n",
    "    # Read nodes and create players\n",
    "    players = create_players_dataframes(pf)\n",
    "\n",
    "    for idx, player in enumerate(players):\n",
    "        \n",
    "        players[idx] = players[idx].replace(True, 1)\n",
    "        players[idx] = players[idx].replace(False, 0)\n",
    "        players[idx]['isCT'] = players[idx]['side'].apply(lambda x: 1 if x == 'CT' else 0)\n",
    "        players[idx]['closestId'] = players[idx].apply(find_closest, axis=1)\n",
    "\n",
    "        del players[idx]['side']\n",
    "        del players[idx]['activeWeapon']\n",
    "        del players[idx]['winsRounds']\n",
    "    \n",
    "    return players"
   ]
  },
  {
   "cell_type": "code",
   "execution_count": 70,
   "metadata": {},
   "outputs": [],
   "source": [
    "def get_player_edges(players):\n",
    "    \n",
    "    playerEdges = None\n",
    "\n",
    "    for idx in range(0,len(players)):\n",
    "        temp = players[idx][['roundNum','sec','closestId']].copy()\n",
    "        temp['playerId'] = idx\n",
    "        if playerEdges is None:\n",
    "            playerEdges = temp\n",
    "        else:\n",
    "            playerEdges = pd.concat([playerEdges, temp])\n",
    "    \n",
    "    return playerEdges"
   ]
  },
  {
   "cell_type": "code",
   "execution_count": 71,
   "metadata": {},
   "outputs": [],
   "source": [
    "def get_graph_level_data(players, rounds):\n",
    "    # Copy players object\n",
    "    graph_players = {}\n",
    "    for idx in range(0,len(players)):\n",
    "        graph_players[idx] = players[idx].copy()\n",
    "\n",
    "    colsNotToRename = ['tick', 'roundNum', 'seconds', 'sec']\n",
    "\n",
    "    # Rename columns except for tick, roundNum, seconds, floorSec\n",
    "    for idx in range(0,len(graph_players)):\n",
    "        \n",
    "        for col in graph_players[idx].columns:\n",
    "            if col not in colsNotToRename:\n",
    "                graph_players[idx].rename(columns={col: \"player\" + str(idx) + \"_\" + col}, inplace=True)\n",
    "\n",
    "    # Create a graph dataframe to store all players in 1 row per second\n",
    "    graph_data = graph_players[0].copy()\n",
    "\n",
    "    # Merge dataframes\n",
    "    for i in range(1, len(graph_players)):\n",
    "        graph_data = graph_data.merge(graph_players[i], on=colsNotToRename)\n",
    "        \n",
    "    graph_data = graph_data.merge(rounds, on=['roundNum'])\n",
    "    graph_data['CTwinsRound'] = graph_data.apply(lambda x: \n",
    "        1 if \n",
    "        (x['endCTScore'] > x['ctScore'])\n",
    "        else 0, axis=1)\n",
    "    graph_data['team1AliveNum'] = graph_data[['player0_isAlive','player1_isAlive','player2_isAlive','player3_isAlive','player4_isAlive']].sum(axis=1)\n",
    "    graph_data['team2AliveNum'] = graph_data[['player5_isAlive','player6_isAlive','player7_isAlive','player8_isAlive','player9_isAlive']].sum(axis=1)\n",
    "    graph_data = graph_data[['roundNum','seconds','sec','team1AliveNum','team2AliveNum','CTwinsRound']]\n",
    "    \n",
    "    return graph_data"
   ]
  },
  {
   "cell_type": "code",
   "execution_count": 72,
   "metadata": {},
   "outputs": [],
   "source": [
    "def get_nodes_and_edges():\n",
    "    nodes = pd.read_csv('../inferno_graph/graph_models/manual/nodes_v1_5.csv')\n",
    "    edges = pd.read_csv('../inferno_graph/graph_models/manual/edges_v1_5.csv')\n",
    "    \n",
    "    nodes['x'] = nodes['x'].astype('float32')\n",
    "    nodes['y'] = nodes['y'].astype('float32')\n",
    "    nodes['isPath'] = nodes['type'].apply(lambda x: 1 if x == 'path' else 0)\n",
    "    \n",
    "    return nodes, edges"
   ]
  },
  {
   "cell_type": "code",
   "execution_count": 73,
   "metadata": {},
   "outputs": [],
   "source": [
    "def get_player_overall_statistics(players):\n",
    "    # Needed columns\n",
    "    neededC_stats = ['player_name', 'rating_2.0', 'DPR', 'KAST', 'Impact', 'ADR', 'KPR','total_kills', 'HS%', 'total_deaths', 'KD_ratio', 'dmgPR',\n",
    "       'grenade_dmgPR', 'maps_played', 'saved_by_teammatePR', 'saved_teammatesPR','opening_kill_rating', 'team_W%_after_opening',\n",
    "       'opening_kill_in_W_rounds', 'rating_1.0_all_Career', 'clutches_won_1on4', 'clutches_won_1on5']\n",
    "    \n",
    "    stats = pd.read_csv('../scrape-parse/hltv-stat/stats.csv')\n",
    "    stats['player_name'] = stats['player_name'].apply(lambda x: x.replace('-', '') if '-' in x else x)\n",
    "    stats['player_name'] = stats['player_name'].apply(lambda x: x.replace(' ', '') if '-' in x else x)\n",
    "    stats = stats[neededC_stats]\n",
    "    stats['rating_1.0_all_Career'] = stats['rating_1.0_all_Career'].str[:-7].astype('float32')\n",
    "    \n",
    "    inf_stats = pd.read_csv('../scrape-parse/hltv-stat/stats_inf.csv')\n",
    "    inf_stats['player_name'] = inf_stats['player_name'].apply(lambda x: x.replace('-', '') if '-' in x else x)\n",
    "    inf_stats['player_name'] = inf_stats['player_name'].apply(lambda x: x.replace(' ', '') if '-' in x else x)\n",
    "    inf_stats = inf_stats[neededC_stats]\n",
    "    inf_stats['rating_1.0_all_Career'] = inf_stats['rating_1.0_all_Career'].str[:-7].astype('float32')\n",
    "    \n",
    "\n",
    "    for col in stats.columns:\n",
    "        if col != 'player_name':\n",
    "            stats[col] = stats[col].astype('float32')\n",
    "            stats.rename(columns={col: \"overall_\" + col}, inplace=True)\n",
    "            \n",
    "            inf_stats[col] = inf_stats[col].astype('float32')\n",
    "            inf_stats.rename(columns={col: \"inf_\" + col}, inplace=True)\n",
    "    \n",
    "    for idx in range(0,len(players)):\n",
    "        players[idx] = pd.merge(players[idx], stats, left_on='name', right_on='player_name', how='left').drop(columns=['player_name'])\n",
    "        players[idx] = pd.merge(players[idx], inf_stats, left_on='name', right_on='player_name', how='left').drop(columns=['player_name'])\n",
    "        \n",
    "    return players"
   ]
  },
  {
   "cell_type": "code",
   "execution_count": 74,
   "metadata": {},
   "outputs": [],
   "source": [
    "def create_playerFrameData_for_graph(players, roundNum, sec):\n",
    "    playerFrameData = pd.DataFrame(columns=players[0].columns)\n",
    "    for idx in range(0,len(players)):\n",
    "        playerFrameData.loc[idx] = players[idx].loc[(players[idx]['roundNum'] == roundNum) & (players[idx]['sec'] == sec)].iloc[0]\n",
    "        \n",
    "    playerFrameData.drop(columns=['tick', 'roundNum', 'seconds', 'name', 'closestId'], inplace=True)\n",
    "    playerFrameData = playerFrameData.astype('float32')\n",
    "    \n",
    "    return playerFrameData"
   ]
  },
  {
   "cell_type": "code",
   "execution_count": 75,
   "metadata": {},
   "outputs": [],
   "source": [
    "def create_HeteroData(playerFrameData, playerEdges, graph_data, nodes, edges, roundNum, sec):\n",
    "    data = HeteroData()\n",
    "\n",
    "    # Create a sample heterogeneous graph with node, edge, and multiple graph-level features\n",
    "    data['player'].x = torch.tensor(playerFrameData.astype('float32').values)\n",
    "    data['map'].x = torch.tensor(nodes[['x','y','isPath']].astype('float32').values)\n",
    "\n",
    "    data['map', 'connected_to', 'map'].edge_index = torch.tensor(edges.T.values)\n",
    "    data['player', 'closest_to', 'map'].edge_index = torch.tensor(playerEdges.loc[ (playerEdges['roundNum'] == roundNum) & (playerEdges['sec'] == sec)][['playerId','closestId']].T.values)\n",
    "\n",
    "\n",
    "    # Define multiple graph-level features\n",
    "    data.y = {\n",
    "        'roundNum': roundNum.astype('float32'),\n",
    "        'sec': sec.astype('float32'),\n",
    "        'team1AliveNum': torch.tensor(graph_data.loc[ (graph_data['roundNum'] == roundNum) & (graph_data['sec'] == sec)]['team1AliveNum'].iloc[0].astype('float32')),\n",
    "        'team2AliveNum': torch.tensor(graph_data.loc[ (graph_data['roundNum'] == roundNum) & (graph_data['sec'] == sec)]['team2AliveNum'].iloc[0].astype('float32')),\n",
    "        'CTwinsRound': torch.tensor(graph_data.loc[ (graph_data['roundNum'] == roundNum) & (graph_data['sec'] == sec)]['CTwinsRound'].iloc[0])\n",
    "    }\n",
    "    \n",
    "    return data"
   ]
  },
  {
   "cell_type": "markdown",
   "metadata": {},
   "source": [
    "Code to create the HeteroData object.\n",
    "\n",
    "```python"
   ]
  },
  {
   "cell_type": "markdown",
   "metadata": {},
   "source": [
    "## Dataset for HeteroData objects"
   ]
  },
  {
   "cell_type": "code",
   "execution_count": 76,
   "metadata": {},
   "outputs": [],
   "source": [
    "class InfernoDataset(Dataset):\n",
    "    def __init__(self, data_list):\n",
    "        super(InfernoDataset, self).__init__()\n",
    "        self.data_list = data_list\n",
    "\n",
    "    def len(self):\n",
    "        return len(self.data_list)\n",
    "\n",
    "    def get(self, idx):\n",
    "        return self.data_list[idx]\n"
   ]
  },
  {
   "cell_type": "markdown",
   "metadata": {},
   "source": [
    "Codes testing the created dataset class"
   ]
  },
  {
   "cell_type": "code",
   "execution_count": 15,
   "metadata": {},
   "outputs": [],
   "source": [
    "# infdataset = InfernoDataset([data])\n",
    "\n",
    "# torch.save(infdataset, './data/_/test_dataset.pt')\n",
    "\n",
    "# dataset = torch.load('./data/_/test_dataset.pt')\n",
    "\n",
    "# loader = DataLoader(infdataset, batch_size=1, shuffle=True)"
   ]
  },
  {
   "cell_type": "markdown",
   "metadata": {},
   "source": [
    "## Creating the dataset"
   ]
  },
  {
   "cell_type": "code",
   "execution_count": 83,
   "metadata": {},
   "outputs": [
    {
     "ename": "KeyboardInterrupt",
     "evalue": "",
     "output_type": "error",
     "traceback": [
      "\u001b[1;31m---------------------------------------------------------------------------\u001b[0m",
      "\u001b[1;31mKeyboardInterrupt\u001b[0m                         Traceback (most recent call last)",
      "\u001b[1;32md:\\BME\\csgo\\csgo-gnn\\model\\database.ipynb Cell 25\u001b[0m line \u001b[0;36m1\n\u001b[0;32m     <a href='vscode-notebook-cell:/d%3A/BME/csgo/csgo-gnn/model/database.ipynb#X41sZmlsZQ%3D%3D?line=12'>13</a>\u001b[0m     \u001b[39mcontinue\u001b[39;00m\n\u001b[0;32m     <a href='vscode-notebook-cell:/d%3A/BME/csgo/csgo-gnn/model/database.ipynb#X41sZmlsZQ%3D%3D?line=14'>15</a>\u001b[0m pf, kills, rounds \u001b[39m=\u001b[39m get_base_dataframes(folder_path, match)\n\u001b[1;32m---> <a href='vscode-notebook-cell:/d%3A/BME/csgo/csgo-gnn/model/database.ipynb#X41sZmlsZQ%3D%3D?line=15'>16</a>\u001b[0m pf, kills, rounds \u001b[39m=\u001b[39m format_base_dataframes(pf, kills, rounds)\n\u001b[0;32m     <a href='vscode-notebook-cell:/d%3A/BME/csgo/csgo-gnn/model/database.ipynb#X41sZmlsZQ%3D%3D?line=16'>17</a>\u001b[0m pf \u001b[39m=\u001b[39m get_dummies(pf)\n\u001b[0;32m     <a href='vscode-notebook-cell:/d%3A/BME/csgo/csgo-gnn/model/database.ipynb#X41sZmlsZQ%3D%3D?line=17'>18</a>\u001b[0m players \u001b[39m=\u001b[39m calculate_closest_map_node_to_player(pf)\n",
      "\u001b[1;32md:\\BME\\csgo\\csgo-gnn\\model\\database.ipynb Cell 25\u001b[0m line \u001b[0;36m7\n\u001b[0;32m      <a href='vscode-notebook-cell:/d%3A/BME/csgo/csgo-gnn/model/database.ipynb#X41sZmlsZQ%3D%3D?line=3'>4</a>\u001b[0m pf \u001b[39m=\u001b[39m pf\u001b[39m.\u001b[39mmerge(rounds, on\u001b[39m=\u001b[39m\u001b[39m'\u001b[39m\u001b[39mroundNum\u001b[39m\u001b[39m'\u001b[39m)\n\u001b[0;32m      <a href='vscode-notebook-cell:/d%3A/BME/csgo/csgo-gnn/model/database.ipynb#X41sZmlsZQ%3D%3D?line=5'>6</a>\u001b[0m \u001b[39m# Calculate whether or not a player won the round\u001b[39;00m\n\u001b[1;32m----> <a href='vscode-notebook-cell:/d%3A/BME/csgo/csgo-gnn/model/database.ipynb#X41sZmlsZQ%3D%3D?line=6'>7</a>\u001b[0m pf[\u001b[39m\"\u001b[39m\u001b[39mwinsRounds\u001b[39m\u001b[39m\"\u001b[39m] \u001b[39m=\u001b[39m pf\u001b[39m.\u001b[39;49mapply(\u001b[39mlambda\u001b[39;49;00m x: \n\u001b[0;32m      <a href='vscode-notebook-cell:/d%3A/BME/csgo/csgo-gnn/model/database.ipynb#X41sZmlsZQ%3D%3D?line=7'>8</a>\u001b[0m     \u001b[39m1\u001b[39;49m \u001b[39mif\u001b[39;49;00m ( (x[\u001b[39m'\u001b[39;49m\u001b[39mside\u001b[39;49m\u001b[39m'\u001b[39;49m] \u001b[39m==\u001b[39;49m \u001b[39m'\u001b[39;49m\u001b[39mT\u001b[39;49m\u001b[39m'\u001b[39;49m) \u001b[39mand\u001b[39;49;00m (x[\u001b[39m'\u001b[39;49m\u001b[39mendTScore\u001b[39;49m\u001b[39m'\u001b[39;49m] \u001b[39m>\u001b[39;49m x[\u001b[39m'\u001b[39;49m\u001b[39mtScore\u001b[39;49m\u001b[39m'\u001b[39;49m]) ) \u001b[39mor\u001b[39;49;00m ( (x[\u001b[39m'\u001b[39;49m\u001b[39mside\u001b[39;49m\u001b[39m'\u001b[39;49m] \u001b[39m==\u001b[39;49m \u001b[39m'\u001b[39;49m\u001b[39mCT\u001b[39;49m\u001b[39m'\u001b[39;49m) \u001b[39mand\u001b[39;49;00m (x[\u001b[39m'\u001b[39;49m\u001b[39mendCTScore\u001b[39;49m\u001b[39m'\u001b[39;49m] \u001b[39m>\u001b[39;49m x[\u001b[39m'\u001b[39;49m\u001b[39mctScore\u001b[39;49m\u001b[39m'\u001b[39;49m]) )\n\u001b[0;32m      <a href='vscode-notebook-cell:/d%3A/BME/csgo/csgo-gnn/model/database.ipynb#X41sZmlsZQ%3D%3D?line=8'>9</a>\u001b[0m     \u001b[39melse\u001b[39;49;00m \u001b[39m0\u001b[39;49m, axis\u001b[39m=\u001b[39;49m\u001b[39m1\u001b[39;49m)\n\u001b[0;32m     <a href='vscode-notebook-cell:/d%3A/BME/csgo/csgo-gnn/model/database.ipynb#X41sZmlsZQ%3D%3D?line=10'>11</a>\u001b[0m pf[\u001b[39m'\u001b[39m\u001b[39mkills\u001b[39m\u001b[39m'\u001b[39m] \u001b[39m=\u001b[39m \u001b[39m0\u001b[39m\n\u001b[0;32m     <a href='vscode-notebook-cell:/d%3A/BME/csgo/csgo-gnn/model/database.ipynb#X41sZmlsZQ%3D%3D?line=11'>12</a>\u001b[0m pf[\u001b[39m'\u001b[39m\u001b[39mdeaths\u001b[39m\u001b[39m'\u001b[39m] \u001b[39m=\u001b[39m \u001b[39m0\u001b[39m\n",
      "File \u001b[1;32m~\\AppData\\Local\\Packages\\PythonSoftwareFoundation.Python.3.11_qbz5n2kfra8p0\\LocalCache\\local-packages\\Python311\\site-packages\\pandas\\core\\frame.py:9423\u001b[0m, in \u001b[0;36mDataFrame.apply\u001b[1;34m(self, func, axis, raw, result_type, args, **kwargs)\u001b[0m\n\u001b[0;32m   9412\u001b[0m \u001b[39mfrom\u001b[39;00m \u001b[39mpandas\u001b[39;00m\u001b[39m.\u001b[39;00m\u001b[39mcore\u001b[39;00m\u001b[39m.\u001b[39;00m\u001b[39mapply\u001b[39;00m \u001b[39mimport\u001b[39;00m frame_apply\n\u001b[0;32m   9414\u001b[0m op \u001b[39m=\u001b[39m frame_apply(\n\u001b[0;32m   9415\u001b[0m     \u001b[39mself\u001b[39m,\n\u001b[0;32m   9416\u001b[0m     func\u001b[39m=\u001b[39mfunc,\n\u001b[1;32m   (...)\u001b[0m\n\u001b[0;32m   9421\u001b[0m     kwargs\u001b[39m=\u001b[39mkwargs,\n\u001b[0;32m   9422\u001b[0m )\n\u001b[1;32m-> 9423\u001b[0m \u001b[39mreturn\u001b[39;00m op\u001b[39m.\u001b[39;49mapply()\u001b[39m.\u001b[39m__finalize__(\u001b[39mself\u001b[39m, method\u001b[39m=\u001b[39m\u001b[39m\"\u001b[39m\u001b[39mapply\u001b[39m\u001b[39m\"\u001b[39m)\n",
      "File \u001b[1;32m~\\AppData\\Local\\Packages\\PythonSoftwareFoundation.Python.3.11_qbz5n2kfra8p0\\LocalCache\\local-packages\\Python311\\site-packages\\pandas\\core\\apply.py:678\u001b[0m, in \u001b[0;36mFrameApply.apply\u001b[1;34m(self)\u001b[0m\n\u001b[0;32m    675\u001b[0m \u001b[39melif\u001b[39;00m \u001b[39mself\u001b[39m\u001b[39m.\u001b[39mraw:\n\u001b[0;32m    676\u001b[0m     \u001b[39mreturn\u001b[39;00m \u001b[39mself\u001b[39m\u001b[39m.\u001b[39mapply_raw()\n\u001b[1;32m--> 678\u001b[0m \u001b[39mreturn\u001b[39;00m \u001b[39mself\u001b[39;49m\u001b[39m.\u001b[39;49mapply_standard()\n",
      "File \u001b[1;32m~\\AppData\\Local\\Packages\\PythonSoftwareFoundation.Python.3.11_qbz5n2kfra8p0\\LocalCache\\local-packages\\Python311\\site-packages\\pandas\\core\\apply.py:798\u001b[0m, in \u001b[0;36mFrameApply.apply_standard\u001b[1;34m(self)\u001b[0m\n\u001b[0;32m    797\u001b[0m \u001b[39mdef\u001b[39;00m \u001b[39mapply_standard\u001b[39m(\u001b[39mself\u001b[39m):\n\u001b[1;32m--> 798\u001b[0m     results, res_index \u001b[39m=\u001b[39m \u001b[39mself\u001b[39;49m\u001b[39m.\u001b[39;49mapply_series_generator()\n\u001b[0;32m    800\u001b[0m     \u001b[39m# wrap results\u001b[39;00m\n\u001b[0;32m    801\u001b[0m     \u001b[39mreturn\u001b[39;00m \u001b[39mself\u001b[39m\u001b[39m.\u001b[39mwrap_results(results, res_index)\n",
      "File \u001b[1;32m~\\AppData\\Local\\Packages\\PythonSoftwareFoundation.Python.3.11_qbz5n2kfra8p0\\LocalCache\\local-packages\\Python311\\site-packages\\pandas\\core\\apply.py:812\u001b[0m, in \u001b[0;36mFrameApply.apply_series_generator\u001b[1;34m(self)\u001b[0m\n\u001b[0;32m    809\u001b[0m results \u001b[39m=\u001b[39m {}\n\u001b[0;32m    811\u001b[0m \u001b[39mwith\u001b[39;00m option_context(\u001b[39m\"\u001b[39m\u001b[39mmode.chained_assignment\u001b[39m\u001b[39m\"\u001b[39m, \u001b[39mNone\u001b[39;00m):\n\u001b[1;32m--> 812\u001b[0m     \u001b[39mfor\u001b[39;00m i, v \u001b[39min\u001b[39;00m \u001b[39menumerate\u001b[39m(series_gen):\n\u001b[0;32m    813\u001b[0m         \u001b[39m# ignore SettingWithCopy here in case the user mutates\u001b[39;00m\n\u001b[0;32m    814\u001b[0m         results[i] \u001b[39m=\u001b[39m \u001b[39mself\u001b[39m\u001b[39m.\u001b[39mf(v)\n\u001b[0;32m    815\u001b[0m         \u001b[39mif\u001b[39;00m \u001b[39misinstance\u001b[39m(results[i], ABCSeries):\n\u001b[0;32m    816\u001b[0m             \u001b[39m# If we have a view on v, we need to make a copy because\u001b[39;00m\n\u001b[0;32m    817\u001b[0m             \u001b[39m#  series_generator will swap out the underlying data\u001b[39;00m\n",
      "File \u001b[1;32m~\\AppData\\Local\\Packages\\PythonSoftwareFoundation.Python.3.11_qbz5n2kfra8p0\\LocalCache\\local-packages\\Python311\\site-packages\\pandas\\core\\apply.py:940\u001b[0m, in \u001b[0;36mFrameColumnApply.series_generator\u001b[1;34m(self)\u001b[0m\n\u001b[0;32m    937\u001b[0m \u001b[39mfor\u001b[39;00m arr, name \u001b[39min\u001b[39;00m \u001b[39mzip\u001b[39m(values, \u001b[39mself\u001b[39m\u001b[39m.\u001b[39mindex):\n\u001b[0;32m    938\u001b[0m     \u001b[39m# GH#35462 re-pin mgr in case setitem changed it\u001b[39;00m\n\u001b[0;32m    939\u001b[0m     ser\u001b[39m.\u001b[39m_mgr \u001b[39m=\u001b[39m mgr\n\u001b[1;32m--> 940\u001b[0m     mgr\u001b[39m.\u001b[39;49mset_values(arr)\n\u001b[0;32m    941\u001b[0m     \u001b[39mobject\u001b[39m\u001b[39m.\u001b[39m\u001b[39m__setattr__\u001b[39m(ser, \u001b[39m\"\u001b[39m\u001b[39m_name\u001b[39m\u001b[39m\"\u001b[39m, name)\n\u001b[0;32m    942\u001b[0m     \u001b[39myield\u001b[39;00m ser\n",
      "File \u001b[1;32m~\\AppData\\Local\\Packages\\PythonSoftwareFoundation.Python.3.11_qbz5n2kfra8p0\\LocalCache\\local-packages\\Python311\\site-packages\\pandas\\core\\internals\\managers.py:2074\u001b[0m, in \u001b[0;36mSingleBlockManager.set_values\u001b[1;34m(self, values)\u001b[0m\n\u001b[0;32m   2070\u001b[0m \u001b[39m# TODO(CoW) do we need to handle copy on write here? Currently this is\u001b[39;00m\n\u001b[0;32m   2071\u001b[0m \u001b[39m# only used for FrameColumnApply.series_generator (what if apply is\u001b[39;00m\n\u001b[0;32m   2072\u001b[0m \u001b[39m# mutating inplace?)\u001b[39;00m\n\u001b[0;32m   2073\u001b[0m \u001b[39mself\u001b[39m\u001b[39m.\u001b[39mblocks[\u001b[39m0\u001b[39m]\u001b[39m.\u001b[39mvalues \u001b[39m=\u001b[39m values\n\u001b[1;32m-> 2074\u001b[0m \u001b[39mself\u001b[39m\u001b[39m.\u001b[39mblocks[\u001b[39m0\u001b[39m]\u001b[39m.\u001b[39m_mgr_locs \u001b[39m=\u001b[39m BlockPlacement(\u001b[39mslice\u001b[39;49m(\u001b[39mlen\u001b[39;49m(values)))\n",
      "\u001b[1;31mKeyboardInterrupt\u001b[0m: "
     ]
    }
   ],
   "source": [
    "folder_path = '../scrape-parse/demo/parse/2023'\n",
    "matches = get_inferno_matches(folder_path)\n",
    "hetero_data_list = []\n",
    "skip_done = False\n",
    "last_saved = ''\n",
    "with open('last-saved.txt', 'r') as file:\n",
    "    last_saved = file.read()\n",
    "\n",
    "for idx,match in enumerate(matches):\n",
    "        \n",
    "    if last_saved == '':\n",
    "        skip_done = True\n",
    "    elif last_saved != match and skip_done == False:\n",
    "        continue\n",
    "    elif last_saved == match and skip_done == False:\n",
    "        skip_done = True\n",
    "        continue\n",
    "    \n",
    "    if match == 'blast-premier-spring-final-2023-g2-vs-cloud9-bo3-l6_WROLL2MODdQ0NexGWUJg2-vs-cloud9-m2-inferno.dem.csv':\n",
    "        continue\n",
    "    \n",
    "    pf, kills, rounds = get_base_dataframes(folder_path, match)\n",
    "    pf, kills, rounds = format_base_dataframes(pf, kills, rounds)\n",
    "    pf = get_dummies(pf)\n",
    "    players = calculate_closest_map_node_to_player(pf)\n",
    "    players = get_player_overall_statistics(players)\n",
    "    player_edges = get_player_edges(players)\n",
    "    graph_data = get_graph_level_data(players, rounds)\n",
    "    nodes, edges = get_nodes_and_edges()\n",
    "\n",
    "    rounds_list = pf['roundNum'].unique()\n",
    "    for roundNum in rounds_list:\n",
    "        sec_list = pf[pf['roundNum'] == roundNum]['sec'].unique()\n",
    "        for sec in sec_list:\n",
    "            playerFrameData = create_playerFrameData_for_graph(players, roundNum, sec)\n",
    "            data = create_HeteroData(playerFrameData, player_edges, graph_data, nodes, edges, roundNum, sec)\n",
    "            hetero_data_list.append(data)\n",
    "        print(match,roundNum)\n",
    "    \n",
    "    if idx % 5 == 0:\n",
    "        if os.path.exists('./data/inferno_graph_dataset.pt') == False:\n",
    "            infdataset = InfernoDataset(hetero_data_list)\n",
    "            torch.save(infdataset, './data/inferno_graph_dataset.pt')\n",
    "            hetero_data_list = []\n",
    "        elif os.path.exists('./data/inferno_graph_dataset.pt') == True:\n",
    "            infdataset = torch.load('./data/inferno_graph_dataset.pt')\n",
    "            infdataset.data_list = infdataset.data_list + hetero_data_list\n",
    "            torch.save(infdataset, './data/inferno_graph_dataset.pt')\n",
    "            hetero_data_list = []\n",
    "        \n",
    "        with open('last-saved.txt', 'w') as file:\n",
    "            file.write(match)"
   ]
  },
  {
   "cell_type": "code",
   "execution_count": 85,
   "metadata": {},
   "outputs": [],
   "source": [
    "file_path = 'example.txt'\n",
    "\n",
    "# Open the file for writing, creating it if it doesn't exist\n",
    "with open(file_path, 'w') as file:\n",
    "    file.write(\"asd!\\n\")"
   ]
  }
 ],
 "metadata": {
  "kernelspec": {
   "display_name": "Python 3",
   "language": "python",
   "name": "python3"
  },
  "language_info": {
   "codemirror_mode": {
    "name": "ipython",
    "version": 3
   },
   "file_extension": ".py",
   "mimetype": "text/x-python",
   "name": "python",
   "nbconvert_exporter": "python",
   "pygments_lexer": "ipython3",
   "version": "3.11.5"
  }
 },
 "nbformat": 4,
 "nbformat_minor": 2
}
