{
 "cells": [
  {
   "cell_type": "markdown",
   "metadata": {},
   "source": [
    "# Database\n",
    "\n",
    "In this file the dataset is created in which the graph data will be stored. First part is to read the *.dem* files of the matches played on inferno, than convert the datas into ***HeteroData*** structure so that it can be stored in a PyG database."
   ]
  },
  {
   "cell_type": "markdown",
   "metadata": {},
   "source": [
    "## Creating HeteroData objects from game snapshots"
   ]
  },
  {
   "cell_type": "code",
   "execution_count": 1,
   "metadata": {},
   "outputs": [],
   "source": [
    "import torch\n",
    "from torch_geometric.data import HeteroData, DataLoader\n",
    "from torch_geometric.data import Dataset, Data\n",
    "\n",
    "import matplotlib.pyplot as plt\n",
    "from math import floor\n",
    "import pandas as pd\n",
    "import numpy as np\n",
    "import os\n",
    "\n",
    "pd.set_option('display.max_columns', 50)\n",
    "pd.set_option('display.max_rows', 50)"
   ]
  },
  {
   "cell_type": "markdown",
   "metadata": {},
   "source": [
    "Reading the inferno csv files"
   ]
  },
  {
   "cell_type": "code",
   "execution_count": 2,
   "metadata": {},
   "outputs": [],
   "source": [
    "def get_inferno_matches(folder_path):\n",
    "    matches = []\n",
    "    for filename in os.listdir(folder_path + '/frames/'):\n",
    "        if 'inferno' in filename:\n",
    "            matches.append(filename)\n",
    "    return matches"
   ]
  },
  {
   "cell_type": "markdown",
   "metadata": {},
   "source": [
    "Reading dataframes."
   ]
  },
  {
   "cell_type": "code",
   "execution_count": 3,
   "metadata": {},
   "outputs": [],
   "source": [
    "def get_base_dataframes(folder_path, filename):\n",
    "    playerFrames = pd.read_csv(folder_path + '/playerFrames/' + filename)\n",
    "    kills = pd.read_csv(folder_path +'/kills/' + filename)\n",
    "    rounds = pd.read_csv(folder_path +'/rounds/' + filename)\n",
    "\n",
    "\n",
    "    rounds = rounds[['roundNum', 'tScore', \"ctScore\" ,'endTScore', 'endCTScore']]\n",
    "    pf = playerFrames[['tick', 'roundNum', 'seconds', 'side', 'name', 'x', 'y', 'z','eyeX', 'eyeY', 'eyeZ', 'velocityX', 'velocityY', 'velocityZ',\n",
    "        'hp', 'armor', 'activeWeapon','flashGrenades', 'smokeGrenades', 'heGrenades', 'totalUtility','isAlive', 'isReloading', 'isDefusing', 'isPlanting', 'isUnknown',\n",
    "        'equipmentValue', 'equipmentValueRoundStart', 'hasHelmet','hasDefuse', 'hasBomb']]\n",
    "    \n",
    "    return pf, kills, rounds"
   ]
  },
  {
   "cell_type": "markdown",
   "metadata": {},
   "source": [
    "Formatting the dataframes."
   ]
  },
  {
   "cell_type": "code",
   "execution_count": 4,
   "metadata": {},
   "outputs": [],
   "source": [
    "def format_base_dataframes(pf, kills, rounds):\n",
    "    \n",
    "    # Merge playerFrames with rounds\n",
    "    pf = pf.merge(rounds, on='roundNum')\n",
    "    \n",
    "    # Calculate whether or not a player won the round\n",
    "    pf[\"winsRounds\"] = pf.apply(lambda x: \n",
    "        1 if ( (x['side'] == 'T') and (x['endTScore'] > x['tScore']) ) or ( (x['side'] == 'CT') and (x['endCTScore'] > x['ctScore']) )\n",
    "        else 0, axis=1)\n",
    "\n",
    "    pf['kills'] = 0\n",
    "    pf['deaths'] = 0\n",
    "    \n",
    "    # Setting kill-counts\n",
    "    for index, row in kills.iterrows():\n",
    "        pf.loc[(pf['tick'] >= row['tick']) & (pf['name'] == row['attackerName']), 'kills'] += 1\n",
    "        pf.loc[(pf['tick'] >= row['tick']) & (pf['name'] == row['victimName']), 'deaths'] += 1\n",
    "        \n",
    "    # Rounded-down seconds\n",
    "    pf['sec'] = pf['seconds'].apply(lambda x: floor(x))\n",
    "        \n",
    "    return pf, kills, rounds"
   ]
  },
  {
   "cell_type": "code",
   "execution_count": 5,
   "metadata": {},
   "outputs": [],
   "source": [
    "def get_dummies(pf):\n",
    "    \n",
    "    # Create dummie cols\n",
    "    dummies = pd.get_dummies(pf['activeWeapon'], prefix=\"activeWeapon\",drop_first=False)[['activeWeapon_AK-47','activeWeapon_Knife','activeWeapon_AWP','activeWeapon_M4A1','activeWeapon_Smoke Grenade','activeWeapon_M4A4','activeWeapon_Galil AR','activeWeapon_Desert Eagle','activeWeapon_Flashbang','activeWeapon_Glock-18','activeWeapon_USP-S']]\n",
    "    dummies = dummies*1\n",
    "    pf = pf.merge(dummies, left_index = True, right_index = True, how = 'left')\n",
    "    \n",
    "    return pf"
   ]
  },
  {
   "cell_type": "code",
   "execution_count": 6,
   "metadata": {},
   "outputs": [],
   "source": [
    "def create_players_dataframes(pf):\n",
    "    \n",
    "    startAsCTPlayerNames = pf[(pf['side'] == 'CT') & (pf['roundNum'] == 1)]['name'].unique()\n",
    "    startAsTPlayerNames = pf[(pf['side'] == 'T') & (pf['roundNum'] == 1)]['name'].unique()\n",
    "    players = {}\n",
    "\n",
    "    # Team 1: start on CT side\n",
    "    players[0] = pf[pf['name'] == startAsCTPlayerNames[0]].drop_duplicates(subset=['sec','roundNum']).copy()\n",
    "    players[1] = pf[pf['name'] == startAsCTPlayerNames[1]].drop_duplicates(subset=['sec','roundNum']).copy()\n",
    "    players[2] = pf[pf['name'] == startAsCTPlayerNames[2]].drop_duplicates(subset=['sec','roundNum']).copy()\n",
    "    players[3] = pf[pf['name'] == startAsCTPlayerNames[3]].drop_duplicates(subset=['sec','roundNum']).copy()\n",
    "    players[4] = pf[pf['name'] == startAsCTPlayerNames[4]].drop_duplicates(subset=['sec','roundNum']).copy()\n",
    "\n",
    "    # Team 2: start on T side\n",
    "    players[5] = pf[pf['name'] == startAsTPlayerNames[0]].drop_duplicates(subset=['sec','roundNum']).copy()\n",
    "    players[6] = pf[pf['name'] == startAsTPlayerNames[1]].drop_duplicates(subset=['sec','roundNum']).copy()\n",
    "    players[7] = pf[pf['name'] == startAsTPlayerNames[2]].drop_duplicates(subset=['sec','roundNum']).copy()\n",
    "    players[8] = pf[pf['name'] == startAsTPlayerNames[3]].drop_duplicates(subset=['sec','roundNum']).copy()\n",
    "    players[9] = pf[pf['name'] == startAsTPlayerNames[4]].drop_duplicates(subset=['sec','roundNum']).copy()\n",
    "    \n",
    "    return players\n"
   ]
  },
  {
   "cell_type": "code",
   "execution_count": 7,
   "metadata": {},
   "outputs": [],
   "source": [
    "# Calculate closest map-graph node\n",
    "def find_closest(row):\n",
    "    nodes = pd.read_csv('../inferno_graph/graph_models/manual/nodes_v1_5.csv')\n",
    "    distances = np.sqrt((nodes['x'] - row['x'])**2 + (nodes['y'] - row['y'])**2)\n",
    "    return nodes.loc[distances.idxmin(), 'nodeId']\n",
    "\n",
    "def calculate_closest_map_node_to_player(pf):\n",
    "    \n",
    "    # Read nodes and create players\n",
    "    players = create_players_dataframes(pf)\n",
    "\n",
    "    for idx, player in enumerate(players):\n",
    "        \n",
    "        players[idx] = players[idx].replace(True, 1)\n",
    "        players[idx] = players[idx].replace(False, 0)\n",
    "        players[idx]['isCT'] = players[idx]['side'].apply(lambda x: 1 if x == 'CT' else 0)\n",
    "        players[idx]['closestId'] = players[idx].apply(find_closest, axis=1)\n",
    "\n",
    "        del players[idx]['side']\n",
    "        del players[idx]['activeWeapon']\n",
    "        del players[idx]['winsRounds']\n",
    "    \n",
    "    return players"
   ]
  },
  {
   "cell_type": "code",
   "execution_count": 8,
   "metadata": {},
   "outputs": [],
   "source": [
    "def get_player_edges(players):\n",
    "    \n",
    "    playerEdges = None\n",
    "\n",
    "    for idx in range(0,len(players)):\n",
    "        temp = players[idx][['roundNum','sec','closestId']].copy()\n",
    "        temp['playerId'] = idx\n",
    "        if playerEdges is None:\n",
    "            playerEdges = temp\n",
    "        else:\n",
    "            playerEdges = pd.concat([playerEdges, temp])\n",
    "    \n",
    "    return playerEdges"
   ]
  },
  {
   "cell_type": "code",
   "execution_count": 9,
   "metadata": {},
   "outputs": [],
   "source": [
    "def get_graph_level_data(players, rounds):\n",
    "    # Copy players object\n",
    "    graph_players = {}\n",
    "    for idx in range(0,len(players)):\n",
    "        graph_players[idx] = players[idx].copy()\n",
    "\n",
    "    colsNotToRename = ['tick', 'roundNum', 'seconds', 'sec']\n",
    "\n",
    "    # Rename columns except for tick, roundNum, seconds, floorSec\n",
    "    for idx in range(0,len(graph_players)):\n",
    "        \n",
    "        for col in graph_players[idx].columns:\n",
    "            if col not in colsNotToRename:\n",
    "                graph_players[idx].rename(columns={col: \"player\" + str(idx) + \"_\" + col}, inplace=True)\n",
    "\n",
    "    # Create a graph dataframe to store all players in 1 row per second\n",
    "    graph_data = graph_players[0].copy()\n",
    "\n",
    "    # Merge dataframes\n",
    "    for i in range(1, len(graph_players)):\n",
    "        graph_data = graph_data.merge(graph_players[i], on=colsNotToRename)\n",
    "        \n",
    "    graph_data = graph_data.merge(rounds, on=['roundNum'])\n",
    "    graph_data['CTwinsRound'] = graph_data.apply(lambda x: \n",
    "        1 if \n",
    "        (x['endCTScore'] > x['ctScore'])\n",
    "        else 0, axis=1)\n",
    "    graph_data['team1AliveNum'] = graph_data[['player0_isAlive','player1_isAlive','player2_isAlive','player3_isAlive','player4_isAlive']].sum(axis=1)\n",
    "    graph_data['team2AliveNum'] = graph_data[['player5_isAlive','player6_isAlive','player7_isAlive','player8_isAlive','player9_isAlive']].sum(axis=1)\n",
    "    graph_data = graph_data[['roundNum','seconds','sec','team1AliveNum','team2AliveNum','CTwinsRound']]\n",
    "    \n",
    "    return graph_data"
   ]
  },
  {
   "cell_type": "code",
   "execution_count": 10,
   "metadata": {},
   "outputs": [],
   "source": [
    "def get_nodes_and_edges():\n",
    "    nodes = pd.read_csv('../inferno_graph/graph_models/manual/nodes_v1_5.csv')\n",
    "    edges = pd.read_csv('../inferno_graph/graph_models/manual/edges_v1_5.csv')\n",
    "    \n",
    "    nodes['x'] = nodes['x'].astype('float32')\n",
    "    nodes['y'] = nodes['y'].astype('float32')\n",
    "    nodes['isPath'] = nodes['type'].apply(lambda x: 1 if x == 'path' else 0)\n",
    "    \n",
    "    return nodes, edges"
   ]
  },
  {
   "cell_type": "code",
   "execution_count": 11,
   "metadata": {},
   "outputs": [],
   "source": [
    "def create_playerFrameData_for_graph(players, roundNum, sec):\n",
    "    playerFrameData = pd.DataFrame(columns=players[0].columns)\n",
    "    for idx in range(0,len(players)):\n",
    "        playerFrameData.loc[idx] = players[idx].loc[(players[idx]['roundNum'] == roundNum) & (players[idx]['sec'] == sec)].iloc[0]\n",
    "        \n",
    "    playerFrameData.drop(columns=['tick', 'roundNum', 'seconds', 'name', 'closestId'], inplace=True)\n",
    "    playerFrameData = playerFrameData.astype('float32')\n",
    "    \n",
    "    return playerFrameData"
   ]
  },
  {
   "cell_type": "code",
   "execution_count": 12,
   "metadata": {},
   "outputs": [],
   "source": [
    "def create_HeteroData(playerFrameData, playerEdges, graph_data, nodes, edges, roundNum, sec):\n",
    "    data = HeteroData()\n",
    "\n",
    "    # Create a sample heterogeneous graph with node, edge, and multiple graph-level features\n",
    "    data['player'].x = torch.tensor(playerFrameData.astype('float32').values)\n",
    "    data['map'].x = torch.tensor(nodes[['x','y','isPath']].astype('float32').values)\n",
    "\n",
    "    data['map', 'connected_to', 'map'].edge_index = torch.tensor(edges.T.values)\n",
    "    data['player', 'closest_to', 'map'].edge_index = torch.tensor(playerEdges.loc[ (playerEdges['roundNum'] == roundNum) & (playerEdges['sec'] == sec)][['playerId','closestId']].T.values)\n",
    "\n",
    "\n",
    "    # Define multiple graph-level features\n",
    "    data.y = {\n",
    "        'roundNum': roundNum.astype('float32'),\n",
    "        'sec': sec.astype('float32'),\n",
    "        'team1AliveNum': torch.tensor(graph_data.loc[ (graph_data['roundNum'] == roundNum) & (graph_data['sec'] == sec)]['team1AliveNum'].iloc[0].astype('float32')),\n",
    "        'team2AliveNum': torch.tensor(graph_data.loc[ (graph_data['roundNum'] == roundNum) & (graph_data['sec'] == sec)]['team2AliveNum'].iloc[0].astype('float32')),\n",
    "        'CTwinsRound': torch.tensor(graph_data.loc[ (graph_data['roundNum'] == roundNum) & (graph_data['sec'] == sec)]['CTwinsRound'].iloc[0])\n",
    "    }\n",
    "    \n",
    "    return data"
   ]
  },
  {
   "cell_type": "markdown",
   "metadata": {},
   "source": [
    "Code to create the HeteroData object.\n",
    "\n",
    "```python"
   ]
  },
  {
   "cell_type": "markdown",
   "metadata": {},
   "source": [
    "## Dataset for HeteroData objects"
   ]
  },
  {
   "cell_type": "code",
   "execution_count": 13,
   "metadata": {},
   "outputs": [],
   "source": [
    "class InfernoDataset(Dataset):\n",
    "    def __init__(self, data_list):\n",
    "        super(InfernoDataset, self).__init__()\n",
    "        self.data_list = data_list\n",
    "\n",
    "    def len(self):\n",
    "        return len(self.data_list)\n",
    "\n",
    "    def get(self, idx):\n",
    "        return self.data_list[idx]\n"
   ]
  },
  {
   "cell_type": "markdown",
   "metadata": {},
   "source": [
    "Codes testing the created dataset class"
   ]
  },
  {
   "cell_type": "code",
   "execution_count": 15,
   "metadata": {},
   "outputs": [],
   "source": [
    "# infdataset = InfernoDataset([data])\n",
    "\n",
    "# torch.save(infdataset, './data/_/test_dataset.pt')\n",
    "\n",
    "# dataset = torch.load('./data/_/test_dataset.pt')\n",
    "\n",
    "# loader = DataLoader(infdataset, batch_size=1, shuffle=True)"
   ]
  },
  {
   "cell_type": "markdown",
   "metadata": {},
   "source": [
    "## Creating the dataset"
   ]
  },
  {
   "cell_type": "code",
   "execution_count": 16,
   "metadata": {},
   "outputs": [
    {
     "name": "stdout",
     "output_type": "stream",
     "text": [
      "blast-premier-fall-groups-2023-evil-geniuses-vs-g2-bo3-skJ60UDCIzjbZIG70cNfnjevil-geniuses-vs-g2-m1-inferno.dem.csv 1\n",
      "blast-premier-fall-groups-2023-evil-geniuses-vs-g2-bo3-skJ60UDCIzjbZIG70cNfnjevil-geniuses-vs-g2-m1-inferno.dem.csv 2\n",
      "blast-premier-fall-groups-2023-evil-geniuses-vs-g2-bo3-skJ60UDCIzjbZIG70cNfnjevil-geniuses-vs-g2-m1-inferno.dem.csv 3\n",
      "blast-premier-fall-groups-2023-evil-geniuses-vs-g2-bo3-skJ60UDCIzjbZIG70cNfnjevil-geniuses-vs-g2-m1-inferno.dem.csv 4\n",
      "blast-premier-fall-groups-2023-evil-geniuses-vs-g2-bo3-skJ60UDCIzjbZIG70cNfnjevil-geniuses-vs-g2-m1-inferno.dem.csv 5\n",
      "blast-premier-fall-groups-2023-evil-geniuses-vs-g2-bo3-skJ60UDCIzjbZIG70cNfnjevil-geniuses-vs-g2-m1-inferno.dem.csv 6\n",
      "blast-premier-fall-groups-2023-evil-geniuses-vs-g2-bo3-skJ60UDCIzjbZIG70cNfnjevil-geniuses-vs-g2-m1-inferno.dem.csv 7\n",
      "blast-premier-fall-groups-2023-evil-geniuses-vs-g2-bo3-skJ60UDCIzjbZIG70cNfnjevil-geniuses-vs-g2-m1-inferno.dem.csv 8\n",
      "blast-premier-fall-groups-2023-evil-geniuses-vs-g2-bo3-skJ60UDCIzjbZIG70cNfnjevil-geniuses-vs-g2-m1-inferno.dem.csv 9\n",
      "blast-premier-fall-groups-2023-evil-geniuses-vs-g2-bo3-skJ60UDCIzjbZIG70cNfnjevil-geniuses-vs-g2-m1-inferno.dem.csv 10\n",
      "blast-premier-fall-groups-2023-evil-geniuses-vs-g2-bo3-skJ60UDCIzjbZIG70cNfnjevil-geniuses-vs-g2-m1-inferno.dem.csv 11\n",
      "blast-premier-fall-groups-2023-evil-geniuses-vs-g2-bo3-skJ60UDCIzjbZIG70cNfnjevil-geniuses-vs-g2-m1-inferno.dem.csv 12\n",
      "blast-premier-fall-groups-2023-evil-geniuses-vs-g2-bo3-skJ60UDCIzjbZIG70cNfnjevil-geniuses-vs-g2-m1-inferno.dem.csv 13\n",
      "blast-premier-fall-groups-2023-evil-geniuses-vs-g2-bo3-skJ60UDCIzjbZIG70cNfnjevil-geniuses-vs-g2-m1-inferno.dem.csv 14\n",
      "blast-premier-fall-groups-2023-evil-geniuses-vs-g2-bo3-skJ60UDCIzjbZIG70cNfnjevil-geniuses-vs-g2-m1-inferno.dem.csv 15\n",
      "blast-premier-fall-groups-2023-evil-geniuses-vs-g2-bo3-skJ60UDCIzjbZIG70cNfnjevil-geniuses-vs-g2-m1-inferno.dem.csv 16\n",
      "blast-premier-fall-groups-2023-evil-geniuses-vs-g2-bo3-skJ60UDCIzjbZIG70cNfnjevil-geniuses-vs-g2-m1-inferno.dem.csv 17\n",
      "blast-premier-fall-groups-2023-evil-geniuses-vs-g2-bo3-skJ60UDCIzjbZIG70cNfnjevil-geniuses-vs-g2-m1-inferno.dem.csv 18\n",
      "blast-premier-fall-groups-2023-evil-geniuses-vs-g2-bo3-skJ60UDCIzjbZIG70cNfnjevil-geniuses-vs-g2-m1-inferno.dem.csv 19\n",
      "blast-premier-fall-groups-2023-evil-geniuses-vs-g2-bo3-skJ60UDCIzjbZIG70cNfnjevil-geniuses-vs-g2-m1-inferno.dem.csv 20\n",
      "blast-premier-fall-groups-2023-evil-geniuses-vs-g2-bo3-skJ60UDCIzjbZIG70cNfnjevil-geniuses-vs-g2-m1-inferno.dem.csv 21\n",
      "blast-premier-fall-groups-2023-evil-geniuses-vs-g2-bo3-skJ60UDCIzjbZIG70cNfnjevil-geniuses-vs-g2-m1-inferno.dem.csv 22\n",
      "blast-premier-fall-groups-2023-evil-geniuses-vs-g2-bo3-skJ60UDCIzjbZIG70cNfnjevil-geniuses-vs-g2-m1-inferno.dem.csv 23\n",
      "blast-premier-fall-groups-2023-evil-geniuses-vs-g2-bo3-skJ60UDCIzjbZIG70cNfnjevil-geniuses-vs-g2-m1-inferno.dem.csv 1\n",
      "blast-premier-fall-groups-2023-evil-geniuses-vs-g2-bo3-skJ60UDCIzjbZIG70cNfnjevil-geniuses-vs-g2-m1-inferno.dem.csv 2\n",
      "blast-premier-fall-groups-2023-evil-geniuses-vs-g2-bo3-skJ60UDCIzjbZIG70cNfnjevil-geniuses-vs-g2-m1-inferno.dem.csv 3\n",
      "blast-premier-fall-groups-2023-evil-geniuses-vs-g2-bo3-skJ60UDCIzjbZIG70cNfnjevil-geniuses-vs-g2-m1-inferno.dem.csv 4\n",
      "blast-premier-fall-groups-2023-evil-geniuses-vs-g2-bo3-skJ60UDCIzjbZIG70cNfnjevil-geniuses-vs-g2-m1-inferno.dem.csv 5\n",
      "blast-premier-fall-groups-2023-evil-geniuses-vs-g2-bo3-skJ60UDCIzjbZIG70cNfnjevil-geniuses-vs-g2-m1-inferno.dem.csv 6\n",
      "blast-premier-fall-groups-2023-evil-geniuses-vs-g2-bo3-skJ60UDCIzjbZIG70cNfnjevil-geniuses-vs-g2-m1-inferno.dem.csv 7\n",
      "blast-premier-fall-groups-2023-evil-geniuses-vs-g2-bo3-skJ60UDCIzjbZIG70cNfnjevil-geniuses-vs-g2-m1-inferno.dem.csv 8\n",
      "blast-premier-fall-groups-2023-evil-geniuses-vs-g2-bo3-skJ60UDCIzjbZIG70cNfnjevil-geniuses-vs-g2-m1-inferno.dem.csv 9\n",
      "blast-premier-fall-groups-2023-evil-geniuses-vs-g2-bo3-skJ60UDCIzjbZIG70cNfnjevil-geniuses-vs-g2-m1-inferno.dem.csv 10\n",
      "blast-premier-fall-groups-2023-evil-geniuses-vs-g2-bo3-skJ60UDCIzjbZIG70cNfnjevil-geniuses-vs-g2-m1-inferno.dem.csv 11\n",
      "blast-premier-fall-groups-2023-evil-geniuses-vs-g2-bo3-skJ60UDCIzjbZIG70cNfnjevil-geniuses-vs-g2-m1-inferno.dem.csv 12\n",
      "blast-premier-fall-groups-2023-evil-geniuses-vs-g2-bo3-skJ60UDCIzjbZIG70cNfnjevil-geniuses-vs-g2-m1-inferno.dem.csv 13\n",
      "blast-premier-fall-groups-2023-evil-geniuses-vs-g2-bo3-skJ60UDCIzjbZIG70cNfnjevil-geniuses-vs-g2-m1-inferno.dem.csv 14\n",
      "blast-premier-fall-groups-2023-evil-geniuses-vs-g2-bo3-skJ60UDCIzjbZIG70cNfnjevil-geniuses-vs-g2-m1-inferno.dem.csv 15\n",
      "blast-premier-fall-groups-2023-evil-geniuses-vs-g2-bo3-skJ60UDCIzjbZIG70cNfnjevil-geniuses-vs-g2-m1-inferno.dem.csv 16\n",
      "blast-premier-fall-groups-2023-evil-geniuses-vs-g2-bo3-skJ60UDCIzjbZIG70cNfnjevil-geniuses-vs-g2-m1-inferno.dem.csv 17\n",
      "blast-premier-fall-groups-2023-evil-geniuses-vs-g2-bo3-skJ60UDCIzjbZIG70cNfnjevil-geniuses-vs-g2-m1-inferno.dem.csv 18\n",
      "blast-premier-fall-groups-2023-evil-geniuses-vs-g2-bo3-skJ60UDCIzjbZIG70cNfnjevil-geniuses-vs-g2-m1-inferno.dem.csv 19\n",
      "blast-premier-fall-groups-2023-evil-geniuses-vs-g2-bo3-skJ60UDCIzjbZIG70cNfnjevil-geniuses-vs-g2-m1-inferno.dem.csv 20\n",
      "blast-premier-fall-groups-2023-evil-geniuses-vs-g2-bo3-skJ60UDCIzjbZIG70cNfnjevil-geniuses-vs-g2-m1-inferno.dem.csv 21\n",
      "blast-premier-fall-groups-2023-evil-geniuses-vs-g2-bo3-skJ60UDCIzjbZIG70cNfnjevil-geniuses-vs-g2-m1-inferno.dem.csv 22\n",
      "blast-premier-fall-groups-2023-evil-geniuses-vs-g2-bo3-skJ60UDCIzjbZIG70cNfnjevil-geniuses-vs-g2-m1-inferno.dem.csv 23\n",
      "blast-premier-fall-groups-2023-evil-geniuses-vs-g2-bo3-skJ60UDCIzjbZIG70cNfnjevil-geniuses-vs-g2-m1-inferno.dem.csv 1\n",
      "blast-premier-fall-groups-2023-evil-geniuses-vs-g2-bo3-skJ60UDCIzjbZIG70cNfnjevil-geniuses-vs-g2-m1-inferno.dem.csv 2\n",
      "blast-premier-fall-groups-2023-evil-geniuses-vs-g2-bo3-skJ60UDCIzjbZIG70cNfnjevil-geniuses-vs-g2-m1-inferno.dem.csv 3\n",
      "blast-premier-fall-groups-2023-evil-geniuses-vs-g2-bo3-skJ60UDCIzjbZIG70cNfnjevil-geniuses-vs-g2-m1-inferno.dem.csv 4\n",
      "blast-premier-fall-groups-2023-evil-geniuses-vs-g2-bo3-skJ60UDCIzjbZIG70cNfnjevil-geniuses-vs-g2-m1-inferno.dem.csv 5\n",
      "blast-premier-fall-groups-2023-evil-geniuses-vs-g2-bo3-skJ60UDCIzjbZIG70cNfnjevil-geniuses-vs-g2-m1-inferno.dem.csv 6\n",
      "blast-premier-fall-groups-2023-evil-geniuses-vs-g2-bo3-skJ60UDCIzjbZIG70cNfnjevil-geniuses-vs-g2-m1-inferno.dem.csv 7\n",
      "blast-premier-fall-groups-2023-evil-geniuses-vs-g2-bo3-skJ60UDCIzjbZIG70cNfnjevil-geniuses-vs-g2-m1-inferno.dem.csv 8\n",
      "blast-premier-fall-groups-2023-evil-geniuses-vs-g2-bo3-skJ60UDCIzjbZIG70cNfnjevil-geniuses-vs-g2-m1-inferno.dem.csv 9\n",
      "blast-premier-fall-groups-2023-evil-geniuses-vs-g2-bo3-skJ60UDCIzjbZIG70cNfnjevil-geniuses-vs-g2-m1-inferno.dem.csv 10\n",
      "blast-premier-fall-groups-2023-evil-geniuses-vs-g2-bo3-skJ60UDCIzjbZIG70cNfnjevil-geniuses-vs-g2-m1-inferno.dem.csv 11\n",
      "blast-premier-fall-groups-2023-evil-geniuses-vs-g2-bo3-skJ60UDCIzjbZIG70cNfnjevil-geniuses-vs-g2-m1-inferno.dem.csv 12\n",
      "blast-premier-fall-groups-2023-evil-geniuses-vs-g2-bo3-skJ60UDCIzjbZIG70cNfnjevil-geniuses-vs-g2-m1-inferno.dem.csv 13\n",
      "blast-premier-fall-groups-2023-evil-geniuses-vs-g2-bo3-skJ60UDCIzjbZIG70cNfnjevil-geniuses-vs-g2-m1-inferno.dem.csv 14\n",
      "blast-premier-fall-groups-2023-evil-geniuses-vs-g2-bo3-skJ60UDCIzjbZIG70cNfnjevil-geniuses-vs-g2-m1-inferno.dem.csv 15\n",
      "blast-premier-fall-groups-2023-evil-geniuses-vs-g2-bo3-skJ60UDCIzjbZIG70cNfnjevil-geniuses-vs-g2-m1-inferno.dem.csv 16\n",
      "blast-premier-fall-groups-2023-evil-geniuses-vs-g2-bo3-skJ60UDCIzjbZIG70cNfnjevil-geniuses-vs-g2-m1-inferno.dem.csv 17\n",
      "blast-premier-fall-groups-2023-evil-geniuses-vs-g2-bo3-skJ60UDCIzjbZIG70cNfnjevil-geniuses-vs-g2-m1-inferno.dem.csv 18\n",
      "blast-premier-fall-groups-2023-evil-geniuses-vs-g2-bo3-skJ60UDCIzjbZIG70cNfnjevil-geniuses-vs-g2-m1-inferno.dem.csv 19\n",
      "blast-premier-fall-groups-2023-evil-geniuses-vs-g2-bo3-skJ60UDCIzjbZIG70cNfnjevil-geniuses-vs-g2-m1-inferno.dem.csv 20\n",
      "blast-premier-fall-groups-2023-evil-geniuses-vs-g2-bo3-skJ60UDCIzjbZIG70cNfnjevil-geniuses-vs-g2-m1-inferno.dem.csv 21\n",
      "blast-premier-fall-groups-2023-evil-geniuses-vs-g2-bo3-skJ60UDCIzjbZIG70cNfnjevil-geniuses-vs-g2-m1-inferno.dem.csv 22\n",
      "blast-premier-fall-groups-2023-evil-geniuses-vs-g2-bo3-skJ60UDCIzjbZIG70cNfnjevil-geniuses-vs-g2-m1-inferno.dem.csv 23\n",
      "blast-premier-fall-groups-2023-evil-geniuses-vs-g2-bo3-skJ60UDCIzjbZIG70cNfnjevil-geniuses-vs-g2-m1-inferno.dem.csv 1\n",
      "blast-premier-fall-groups-2023-evil-geniuses-vs-g2-bo3-skJ60UDCIzjbZIG70cNfnjevil-geniuses-vs-g2-m1-inferno.dem.csv 2\n",
      "blast-premier-fall-groups-2023-evil-geniuses-vs-g2-bo3-skJ60UDCIzjbZIG70cNfnjevil-geniuses-vs-g2-m1-inferno.dem.csv 3\n",
      "blast-premier-fall-groups-2023-evil-geniuses-vs-g2-bo3-skJ60UDCIzjbZIG70cNfnjevil-geniuses-vs-g2-m1-inferno.dem.csv 4\n",
      "blast-premier-fall-groups-2023-evil-geniuses-vs-g2-bo3-skJ60UDCIzjbZIG70cNfnjevil-geniuses-vs-g2-m1-inferno.dem.csv 5\n",
      "blast-premier-fall-groups-2023-evil-geniuses-vs-g2-bo3-skJ60UDCIzjbZIG70cNfnjevil-geniuses-vs-g2-m1-inferno.dem.csv 6\n",
      "blast-premier-fall-groups-2023-evil-geniuses-vs-g2-bo3-skJ60UDCIzjbZIG70cNfnjevil-geniuses-vs-g2-m1-inferno.dem.csv 7\n",
      "blast-premier-fall-groups-2023-evil-geniuses-vs-g2-bo3-skJ60UDCIzjbZIG70cNfnjevil-geniuses-vs-g2-m1-inferno.dem.csv 8\n",
      "blast-premier-fall-groups-2023-evil-geniuses-vs-g2-bo3-skJ60UDCIzjbZIG70cNfnjevil-geniuses-vs-g2-m1-inferno.dem.csv 9\n",
      "blast-premier-fall-groups-2023-evil-geniuses-vs-g2-bo3-skJ60UDCIzjbZIG70cNfnjevil-geniuses-vs-g2-m1-inferno.dem.csv 10\n",
      "blast-premier-fall-groups-2023-evil-geniuses-vs-g2-bo3-skJ60UDCIzjbZIG70cNfnjevil-geniuses-vs-g2-m1-inferno.dem.csv 11\n",
      "blast-premier-fall-groups-2023-evil-geniuses-vs-g2-bo3-skJ60UDCIzjbZIG70cNfnjevil-geniuses-vs-g2-m1-inferno.dem.csv 12\n",
      "blast-premier-fall-groups-2023-evil-geniuses-vs-g2-bo3-skJ60UDCIzjbZIG70cNfnjevil-geniuses-vs-g2-m1-inferno.dem.csv 13\n",
      "blast-premier-fall-groups-2023-evil-geniuses-vs-g2-bo3-skJ60UDCIzjbZIG70cNfnjevil-geniuses-vs-g2-m1-inferno.dem.csv 14\n",
      "blast-premier-fall-groups-2023-evil-geniuses-vs-g2-bo3-skJ60UDCIzjbZIG70cNfnjevil-geniuses-vs-g2-m1-inferno.dem.csv 15\n",
      "blast-premier-fall-groups-2023-evil-geniuses-vs-g2-bo3-skJ60UDCIzjbZIG70cNfnjevil-geniuses-vs-g2-m1-inferno.dem.csv 16\n",
      "blast-premier-fall-groups-2023-evil-geniuses-vs-g2-bo3-skJ60UDCIzjbZIG70cNfnjevil-geniuses-vs-g2-m1-inferno.dem.csv 17\n",
      "blast-premier-fall-groups-2023-evil-geniuses-vs-g2-bo3-skJ60UDCIzjbZIG70cNfnjevil-geniuses-vs-g2-m1-inferno.dem.csv 18\n",
      "blast-premier-fall-groups-2023-evil-geniuses-vs-g2-bo3-skJ60UDCIzjbZIG70cNfnjevil-geniuses-vs-g2-m1-inferno.dem.csv 19\n",
      "blast-premier-fall-groups-2023-evil-geniuses-vs-g2-bo3-skJ60UDCIzjbZIG70cNfnjevil-geniuses-vs-g2-m1-inferno.dem.csv 20\n",
      "blast-premier-fall-groups-2023-evil-geniuses-vs-g2-bo3-skJ60UDCIzjbZIG70cNfnjevil-geniuses-vs-g2-m1-inferno.dem.csv 21\n",
      "blast-premier-fall-groups-2023-evil-geniuses-vs-g2-bo3-skJ60UDCIzjbZIG70cNfnjevil-geniuses-vs-g2-m1-inferno.dem.csv 22\n",
      "blast-premier-fall-groups-2023-evil-geniuses-vs-g2-bo3-skJ60UDCIzjbZIG70cNfnjevil-geniuses-vs-g2-m1-inferno.dem.csv 23\n",
      "blast-premier-fall-groups-2023-evil-geniuses-vs-g2-bo3-skJ60UDCIzjbZIG70cNfnjevil-geniuses-vs-g2-m1-inferno.dem.csv 1\n",
      "blast-premier-fall-groups-2023-evil-geniuses-vs-g2-bo3-skJ60UDCIzjbZIG70cNfnjevil-geniuses-vs-g2-m1-inferno.dem.csv 2\n",
      "blast-premier-fall-groups-2023-evil-geniuses-vs-g2-bo3-skJ60UDCIzjbZIG70cNfnjevil-geniuses-vs-g2-m1-inferno.dem.csv 3\n",
      "blast-premier-fall-groups-2023-evil-geniuses-vs-g2-bo3-skJ60UDCIzjbZIG70cNfnjevil-geniuses-vs-g2-m1-inferno.dem.csv 4\n",
      "blast-premier-fall-groups-2023-evil-geniuses-vs-g2-bo3-skJ60UDCIzjbZIG70cNfnjevil-geniuses-vs-g2-m1-inferno.dem.csv 5\n",
      "blast-premier-fall-groups-2023-evil-geniuses-vs-g2-bo3-skJ60UDCIzjbZIG70cNfnjevil-geniuses-vs-g2-m1-inferno.dem.csv 6\n",
      "blast-premier-fall-groups-2023-evil-geniuses-vs-g2-bo3-skJ60UDCIzjbZIG70cNfnjevil-geniuses-vs-g2-m1-inferno.dem.csv 7\n",
      "blast-premier-fall-groups-2023-evil-geniuses-vs-g2-bo3-skJ60UDCIzjbZIG70cNfnjevil-geniuses-vs-g2-m1-inferno.dem.csv 8\n"
     ]
    },
    {
     "ename": "KeyboardInterrupt",
     "evalue": "",
     "output_type": "error",
     "traceback": [
      "\u001b[1;31m---------------------------------------------------------------------------\u001b[0m",
      "\u001b[1;31mKeyboardInterrupt\u001b[0m                         Traceback (most recent call last)",
      "\u001b[1;32md:\\BME\\csgo\\csgo-gnn\\model\\database.ipynb Cell 24\u001b[0m line \u001b[0;36m1\n\u001b[0;32m     <a href='vscode-notebook-cell:/d%3A/BME/csgo/csgo-gnn/model/database.ipynb#X41sZmlsZQ%3D%3D?line=16'>17</a>\u001b[0m sec_list \u001b[39m=\u001b[39m pf[pf[\u001b[39m'\u001b[39m\u001b[39mroundNum\u001b[39m\u001b[39m'\u001b[39m] \u001b[39m==\u001b[39m roundNum][\u001b[39m'\u001b[39m\u001b[39msec\u001b[39m\u001b[39m'\u001b[39m]\u001b[39m.\u001b[39munique()\n\u001b[0;32m     <a href='vscode-notebook-cell:/d%3A/BME/csgo/csgo-gnn/model/database.ipynb#X41sZmlsZQ%3D%3D?line=17'>18</a>\u001b[0m \u001b[39mfor\u001b[39;00m sec \u001b[39min\u001b[39;00m sec_list:\n\u001b[1;32m---> <a href='vscode-notebook-cell:/d%3A/BME/csgo/csgo-gnn/model/database.ipynb#X41sZmlsZQ%3D%3D?line=18'>19</a>\u001b[0m     playerFrameData \u001b[39m=\u001b[39m create_playerFrameData_for_graph(players, roundNum, sec)\n\u001b[0;32m     <a href='vscode-notebook-cell:/d%3A/BME/csgo/csgo-gnn/model/database.ipynb#X41sZmlsZQ%3D%3D?line=19'>20</a>\u001b[0m     data \u001b[39m=\u001b[39m create_HeteroData(playerFrameData, player_edges, graph_data, nodes, edges, roundNum, sec)\n\u001b[0;32m     <a href='vscode-notebook-cell:/d%3A/BME/csgo/csgo-gnn/model/database.ipynb#X41sZmlsZQ%3D%3D?line=20'>21</a>\u001b[0m     hetero_data_list\u001b[39m.\u001b[39mappend(data)\n",
      "\u001b[1;32md:\\BME\\csgo\\csgo-gnn\\model\\database.ipynb Cell 24\u001b[0m line \u001b[0;36m4\n\u001b[0;32m      <a href='vscode-notebook-cell:/d%3A/BME/csgo/csgo-gnn/model/database.ipynb#X41sZmlsZQ%3D%3D?line=1'>2</a>\u001b[0m playerFrameData \u001b[39m=\u001b[39m pd\u001b[39m.\u001b[39mDataFrame(columns\u001b[39m=\u001b[39mplayers[\u001b[39m0\u001b[39m]\u001b[39m.\u001b[39mcolumns)\n\u001b[0;32m      <a href='vscode-notebook-cell:/d%3A/BME/csgo/csgo-gnn/model/database.ipynb#X41sZmlsZQ%3D%3D?line=2'>3</a>\u001b[0m \u001b[39mfor\u001b[39;00m idx \u001b[39min\u001b[39;00m \u001b[39mrange\u001b[39m(\u001b[39m0\u001b[39m,\u001b[39mlen\u001b[39m(players)):\n\u001b[1;32m----> <a href='vscode-notebook-cell:/d%3A/BME/csgo/csgo-gnn/model/database.ipynb#X41sZmlsZQ%3D%3D?line=3'>4</a>\u001b[0m     playerFrameData\u001b[39m.\u001b[39;49mloc[idx] \u001b[39m=\u001b[39m players[idx]\u001b[39m.\u001b[39mloc[(players[idx][\u001b[39m'\u001b[39m\u001b[39mroundNum\u001b[39m\u001b[39m'\u001b[39m] \u001b[39m==\u001b[39m roundNum) \u001b[39m&\u001b[39m (players[idx][\u001b[39m'\u001b[39m\u001b[39msec\u001b[39m\u001b[39m'\u001b[39m] \u001b[39m==\u001b[39m sec)]\u001b[39m.\u001b[39miloc[\u001b[39m0\u001b[39m]\n\u001b[0;32m      <a href='vscode-notebook-cell:/d%3A/BME/csgo/csgo-gnn/model/database.ipynb#X41sZmlsZQ%3D%3D?line=5'>6</a>\u001b[0m playerFrameData\u001b[39m.\u001b[39mdrop(columns\u001b[39m=\u001b[39m[\u001b[39m'\u001b[39m\u001b[39mtick\u001b[39m\u001b[39m'\u001b[39m, \u001b[39m'\u001b[39m\u001b[39mroundNum\u001b[39m\u001b[39m'\u001b[39m, \u001b[39m'\u001b[39m\u001b[39mseconds\u001b[39m\u001b[39m'\u001b[39m, \u001b[39m'\u001b[39m\u001b[39mname\u001b[39m\u001b[39m'\u001b[39m, \u001b[39m'\u001b[39m\u001b[39mclosestId\u001b[39m\u001b[39m'\u001b[39m], inplace\u001b[39m=\u001b[39m\u001b[39mTrue\u001b[39;00m)\n\u001b[0;32m      <a href='vscode-notebook-cell:/d%3A/BME/csgo/csgo-gnn/model/database.ipynb#X41sZmlsZQ%3D%3D?line=6'>7</a>\u001b[0m playerFrameData \u001b[39m=\u001b[39m playerFrameData\u001b[39m.\u001b[39mastype(\u001b[39m'\u001b[39m\u001b[39mfloat32\u001b[39m\u001b[39m'\u001b[39m)\n",
      "File \u001b[1;32m~\\AppData\\Local\\Packages\\PythonSoftwareFoundation.Python.3.11_qbz5n2kfra8p0\\LocalCache\\local-packages\\Python311\\site-packages\\pandas\\core\\indexing.py:849\u001b[0m, in \u001b[0;36m_LocationIndexer.__setitem__\u001b[1;34m(self, key, value)\u001b[0m\n\u001b[0;32m    846\u001b[0m \u001b[39mself\u001b[39m\u001b[39m.\u001b[39m_has_valid_setitem_indexer(key)\n\u001b[0;32m    848\u001b[0m iloc \u001b[39m=\u001b[39m \u001b[39mself\u001b[39m \u001b[39mif\u001b[39;00m \u001b[39mself\u001b[39m\u001b[39m.\u001b[39mname \u001b[39m==\u001b[39m \u001b[39m\"\u001b[39m\u001b[39miloc\u001b[39m\u001b[39m\"\u001b[39m \u001b[39melse\u001b[39;00m \u001b[39mself\u001b[39m\u001b[39m.\u001b[39mobj\u001b[39m.\u001b[39miloc\n\u001b[1;32m--> 849\u001b[0m iloc\u001b[39m.\u001b[39;49m_setitem_with_indexer(indexer, value, \u001b[39mself\u001b[39;49m\u001b[39m.\u001b[39;49mname)\n",
      "File \u001b[1;32m~\\AppData\\Local\\Packages\\PythonSoftwareFoundation.Python.3.11_qbz5n2kfra8p0\\LocalCache\\local-packages\\Python311\\site-packages\\pandas\\core\\indexing.py:1825\u001b[0m, in \u001b[0;36m_iLocIndexer._setitem_with_indexer\u001b[1;34m(self, indexer, value, name)\u001b[0m\n\u001b[0;32m   1822\u001b[0m     indexer, missing \u001b[39m=\u001b[39m convert_missing_indexer(indexer)\n\u001b[0;32m   1824\u001b[0m     \u001b[39mif\u001b[39;00m missing:\n\u001b[1;32m-> 1825\u001b[0m         \u001b[39mself\u001b[39;49m\u001b[39m.\u001b[39;49m_setitem_with_indexer_missing(indexer, value)\n\u001b[0;32m   1826\u001b[0m         \u001b[39mreturn\u001b[39;00m\n\u001b[0;32m   1828\u001b[0m \u001b[39mif\u001b[39;00m name \u001b[39m==\u001b[39m \u001b[39m\"\u001b[39m\u001b[39mloc\u001b[39m\u001b[39m\"\u001b[39m:\n\u001b[0;32m   1829\u001b[0m     \u001b[39m# must come after setting of missing\u001b[39;00m\n",
      "File \u001b[1;32m~\\AppData\\Local\\Packages\\PythonSoftwareFoundation.Python.3.11_qbz5n2kfra8p0\\LocalCache\\local-packages\\Python311\\site-packages\\pandas\\core\\indexing.py:2180\u001b[0m, in \u001b[0;36m_iLocIndexer._setitem_with_indexer_missing\u001b[1;34m(self, indexer, value)\u001b[0m\n\u001b[0;32m   2178\u001b[0m     \u001b[39mself\u001b[39m\u001b[39m.\u001b[39mobj\u001b[39m.\u001b[39m_mgr \u001b[39m=\u001b[39m df\u001b[39m.\u001b[39m_mgr\n\u001b[0;32m   2179\u001b[0m \u001b[39melse\u001b[39;00m:\n\u001b[1;32m-> 2180\u001b[0m     \u001b[39mself\u001b[39m\u001b[39m.\u001b[39mobj\u001b[39m.\u001b[39m_mgr \u001b[39m=\u001b[39m \u001b[39mself\u001b[39;49m\u001b[39m.\u001b[39;49mobj\u001b[39m.\u001b[39;49m_append(value)\u001b[39m.\u001b[39m_mgr\n\u001b[0;32m   2181\u001b[0m \u001b[39mself\u001b[39m\u001b[39m.\u001b[39mobj\u001b[39m.\u001b[39m_maybe_update_cacher(clear\u001b[39m=\u001b[39m\u001b[39mTrue\u001b[39;00m)\n",
      "File \u001b[1;32m~\\AppData\\Local\\Packages\\PythonSoftwareFoundation.Python.3.11_qbz5n2kfra8p0\\LocalCache\\local-packages\\Python311\\site-packages\\pandas\\core\\frame.py:9540\u001b[0m, in \u001b[0;36mDataFrame._append\u001b[1;34m(self, other, ignore_index, verify_integrity, sort)\u001b[0m\n\u001b[0;32m   9537\u001b[0m     row_df \u001b[39m=\u001b[39m other\u001b[39m.\u001b[39mto_frame()\u001b[39m.\u001b[39mT\n\u001b[0;32m   9538\u001b[0m     \u001b[39m# infer_objects is needed for\u001b[39;00m\n\u001b[0;32m   9539\u001b[0m     \u001b[39m#  test_append_empty_frame_to_series_with_dateutil_tz\u001b[39;00m\n\u001b[1;32m-> 9540\u001b[0m     other \u001b[39m=\u001b[39m row_df\u001b[39m.\u001b[39;49minfer_objects(copy\u001b[39m=\u001b[39;49m\u001b[39mFalse\u001b[39;49;00m)\u001b[39m.\u001b[39mrename_axis(\n\u001b[0;32m   9541\u001b[0m         index\u001b[39m.\u001b[39mnames, copy\u001b[39m=\u001b[39m\u001b[39mFalse\u001b[39;00m\n\u001b[0;32m   9542\u001b[0m     )\n\u001b[0;32m   9543\u001b[0m \u001b[39melif\u001b[39;00m \u001b[39misinstance\u001b[39m(other, \u001b[39mlist\u001b[39m):\n\u001b[0;32m   9544\u001b[0m     \u001b[39mif\u001b[39;00m \u001b[39mnot\u001b[39;00m other:\n",
      "File \u001b[1;32m~\\AppData\\Local\\Packages\\PythonSoftwareFoundation.Python.3.11_qbz5n2kfra8p0\\LocalCache\\local-packages\\Python311\\site-packages\\pandas\\core\\generic.py:6515\u001b[0m, in \u001b[0;36mNDFrame.infer_objects\u001b[1;34m(self, copy)\u001b[0m\n\u001b[0;32m   6470\u001b[0m \u001b[39m@final\u001b[39m\n\u001b[0;32m   6471\u001b[0m \u001b[39mdef\u001b[39;00m \u001b[39minfer_objects\u001b[39m(\u001b[39mself\u001b[39m: NDFrameT, copy: bool_t \u001b[39m|\u001b[39m \u001b[39mNone\u001b[39;00m \u001b[39m=\u001b[39m \u001b[39mNone\u001b[39;00m) \u001b[39m-\u001b[39m\u001b[39m>\u001b[39m NDFrameT:\n\u001b[0;32m   6472\u001b[0m \u001b[39m    \u001b[39m\u001b[39m\"\"\"\u001b[39;00m\n\u001b[0;32m   6473\u001b[0m \u001b[39m    Attempt to infer better dtypes for object columns.\u001b[39;00m\n\u001b[0;32m   6474\u001b[0m \n\u001b[1;32m   (...)\u001b[0m\n\u001b[0;32m   6513\u001b[0m \u001b[39m    dtype: object\u001b[39;00m\n\u001b[0;32m   6514\u001b[0m \u001b[39m    \"\"\"\u001b[39;00m\n\u001b[1;32m-> 6515\u001b[0m     new_mgr \u001b[39m=\u001b[39m \u001b[39mself\u001b[39;49m\u001b[39m.\u001b[39;49m_mgr\u001b[39m.\u001b[39;49mconvert(copy\u001b[39m=\u001b[39;49mcopy)\n\u001b[0;32m   6516\u001b[0m     \u001b[39mreturn\u001b[39;00m \u001b[39mself\u001b[39m\u001b[39m.\u001b[39m_constructor(new_mgr)\u001b[39m.\u001b[39m__finalize__(\u001b[39mself\u001b[39m, method\u001b[39m=\u001b[39m\u001b[39m\"\u001b[39m\u001b[39minfer_objects\u001b[39m\u001b[39m\"\u001b[39m)\n",
      "File \u001b[1;32m~\\AppData\\Local\\Packages\\PythonSoftwareFoundation.Python.3.11_qbz5n2kfra8p0\\LocalCache\\local-packages\\Python311\\site-packages\\pandas\\core\\internals\\managers.py:468\u001b[0m, in \u001b[0;36mBaseBlockManager.convert\u001b[1;34m(self, copy)\u001b[0m\n\u001b[0;32m    465\u001b[0m \u001b[39melif\u001b[39;00m using_copy_on_write():\n\u001b[0;32m    466\u001b[0m     copy \u001b[39m=\u001b[39m \u001b[39mFalse\u001b[39;00m\n\u001b[1;32m--> 468\u001b[0m \u001b[39mreturn\u001b[39;00m \u001b[39mself\u001b[39;49m\u001b[39m.\u001b[39;49mapply(\u001b[39m\"\u001b[39;49m\u001b[39mconvert\u001b[39;49m\u001b[39m\"\u001b[39;49m, copy\u001b[39m=\u001b[39;49mcopy, using_cow\u001b[39m=\u001b[39;49musing_copy_on_write())\n",
      "File \u001b[1;32m~\\AppData\\Local\\Packages\\PythonSoftwareFoundation.Python.3.11_qbz5n2kfra8p0\\LocalCache\\local-packages\\Python311\\site-packages\\pandas\\core\\internals\\managers.py:352\u001b[0m, in \u001b[0;36mBaseBlockManager.apply\u001b[1;34m(self, f, align_keys, **kwargs)\u001b[0m\n\u001b[0;32m    350\u001b[0m         applied \u001b[39m=\u001b[39m b\u001b[39m.\u001b[39mapply(f, \u001b[39m*\u001b[39m\u001b[39m*\u001b[39mkwargs)\n\u001b[0;32m    351\u001b[0m     \u001b[39melse\u001b[39;00m:\n\u001b[1;32m--> 352\u001b[0m         applied \u001b[39m=\u001b[39m \u001b[39mgetattr\u001b[39;49m(b, f)(\u001b[39m*\u001b[39;49m\u001b[39m*\u001b[39;49mkwargs)\n\u001b[0;32m    353\u001b[0m     result_blocks \u001b[39m=\u001b[39m extend_blocks(applied, result_blocks)\n\u001b[0;32m    355\u001b[0m out \u001b[39m=\u001b[39m \u001b[39mtype\u001b[39m(\u001b[39mself\u001b[39m)\u001b[39m.\u001b[39mfrom_blocks(result_blocks, \u001b[39mself\u001b[39m\u001b[39m.\u001b[39maxes)\n",
      "File \u001b[1;32m~\\AppData\\Local\\Packages\\PythonSoftwareFoundation.Python.3.11_qbz5n2kfra8p0\\LocalCache\\local-packages\\Python311\\site-packages\\pandas\\core\\internals\\blocks.py:139\u001b[0m, in \u001b[0;36mmaybe_split.<locals>.newfunc\u001b[1;34m(self, *args, **kwargs)\u001b[0m\n\u001b[0;32m    136\u001b[0m     \u001b[39mreturn\u001b[39;00m meth(\u001b[39mself\u001b[39m, \u001b[39m*\u001b[39margs, \u001b[39m*\u001b[39m\u001b[39m*\u001b[39mkwargs)\n\u001b[0;32m    137\u001b[0m \u001b[39melse\u001b[39;00m:\n\u001b[0;32m    138\u001b[0m     \u001b[39m# Split and operate column-by-column\u001b[39;00m\n\u001b[1;32m--> 139\u001b[0m     \u001b[39mreturn\u001b[39;00m \u001b[39mself\u001b[39;49m\u001b[39m.\u001b[39;49msplit_and_operate(meth, \u001b[39m*\u001b[39;49margs, \u001b[39m*\u001b[39;49m\u001b[39m*\u001b[39;49mkwargs)\n",
      "File \u001b[1;32m~\\AppData\\Local\\Packages\\PythonSoftwareFoundation.Python.3.11_qbz5n2kfra8p0\\LocalCache\\local-packages\\Python311\\site-packages\\pandas\\core\\internals\\blocks.py:406\u001b[0m, in \u001b[0;36mBlock.split_and_operate\u001b[1;34m(self, func, *args, **kwargs)\u001b[0m\n\u001b[0;32m    404\u001b[0m res_blocks \u001b[39m=\u001b[39m []\n\u001b[0;32m    405\u001b[0m \u001b[39mfor\u001b[39;00m nb \u001b[39min\u001b[39;00m \u001b[39mself\u001b[39m\u001b[39m.\u001b[39m_split():\n\u001b[1;32m--> 406\u001b[0m     rbs \u001b[39m=\u001b[39m func(nb, \u001b[39m*\u001b[39;49margs, \u001b[39m*\u001b[39;49m\u001b[39m*\u001b[39;49mkwargs)\n\u001b[0;32m    407\u001b[0m     res_blocks\u001b[39m.\u001b[39mextend(rbs)\n\u001b[0;32m    408\u001b[0m \u001b[39mreturn\u001b[39;00m res_blocks\n",
      "File \u001b[1;32m~\\AppData\\Local\\Packages\\PythonSoftwareFoundation.Python.3.11_qbz5n2kfra8p0\\LocalCache\\local-packages\\Python311\\site-packages\\pandas\\core\\internals\\blocks.py:2284\u001b[0m, in \u001b[0;36mObjectBlock.convert\u001b[1;34m(self, copy, using_cow)\u001b[0m\n\u001b[0;32m   2279\u001b[0m \u001b[39mif\u001b[39;00m values\u001b[39m.\u001b[39mndim \u001b[39m==\u001b[39m \u001b[39m2\u001b[39m:\n\u001b[0;32m   2280\u001b[0m     \u001b[39m# maybe_split ensures we only get here with values.shape[0] == 1,\u001b[39;00m\n\u001b[0;32m   2281\u001b[0m     \u001b[39m# avoid doing .ravel as that might make a copy\u001b[39;00m\n\u001b[0;32m   2282\u001b[0m     values \u001b[39m=\u001b[39m values[\u001b[39m0\u001b[39m]\n\u001b[1;32m-> 2284\u001b[0m res_values \u001b[39m=\u001b[39m lib\u001b[39m.\u001b[39;49mmaybe_convert_objects(\n\u001b[0;32m   2285\u001b[0m     values,\n\u001b[0;32m   2286\u001b[0m     convert_datetime\u001b[39m=\u001b[39;49m\u001b[39mTrue\u001b[39;49;00m,\n\u001b[0;32m   2287\u001b[0m     convert_timedelta\u001b[39m=\u001b[39;49m\u001b[39mTrue\u001b[39;49;00m,\n\u001b[0;32m   2288\u001b[0m     convert_period\u001b[39m=\u001b[39;49m\u001b[39mTrue\u001b[39;49;00m,\n\u001b[0;32m   2289\u001b[0m     convert_interval\u001b[39m=\u001b[39;49m\u001b[39mTrue\u001b[39;49;00m,\n\u001b[0;32m   2290\u001b[0m )\n\u001b[0;32m   2291\u001b[0m refs \u001b[39m=\u001b[39m \u001b[39mNone\u001b[39;00m\n\u001b[0;32m   2292\u001b[0m \u001b[39mif\u001b[39;00m copy \u001b[39mand\u001b[39;00m res_values \u001b[39mis\u001b[39;00m values:\n",
      "\u001b[1;31mKeyboardInterrupt\u001b[0m: "
     ]
    }
   ],
   "source": [
    "folder_path = '../scrape-parse/demo/parse/2023'\n",
    "matches = get_inferno_matches(folder_path)\n",
    "hetero_data_list = []\n",
    "\n",
    "for idx,match in enumerate(matches):\n",
    "    pf, kills, rounds = get_base_dataframes(folder_path, match)\n",
    "    pf, kills, rounds = format_base_dataframes(pf, kills, rounds)\n",
    "    pf = get_dummies(pf)\n",
    "    players = calculate_closest_map_node_to_player(pf)\n",
    "    player_edges = get_player_edges(players)\n",
    "    graph_data = get_graph_level_data(players, rounds)\n",
    "    nodes, edges = get_nodes_and_edges()\n",
    "\n",
    "    rounds_list = pf['roundNum'].unique()\n",
    "    for roundNum in rounds_list:\n",
    "        sec_list = pf[pf['roundNum'] == roundNum]['sec'].unique()\n",
    "        for sec in sec_list:\n",
    "            playerFrameData = create_playerFrameData_for_graph(players, roundNum, sec)\n",
    "            data = create_HeteroData(playerFrameData, player_edges, graph_data, nodes, edges, roundNum, sec)\n",
    "            hetero_data_list.append(data)\n",
    "        print(match,roundNum)\n",
    "    \n",
    "    if idx % 5 == 0:\n",
    "        infdataset = InfernoDataset(hetero_data_list)\n",
    "        torch.save(infdataset, './data/inferno_graph_dataset.pt')\n",
    "        hetero_data_list = []"
   ]
  },
  {
   "cell_type": "code",
   "execution_count": 66,
   "metadata": {},
   "outputs": [],
   "source": [
    "infdataset = InfernoDataset(hetero_data_list)\n",
    "torch.save(infdataset, './data/blast-premier-fall-groups-2023-evil-geniuses-vs-g2-bo3-m1-inferno.pt')"
   ]
  }
 ],
 "metadata": {
  "kernelspec": {
   "display_name": "Python 3",
   "language": "python",
   "name": "python3"
  },
  "language_info": {
   "codemirror_mode": {
    "name": "ipython",
    "version": 3
   },
   "file_extension": ".py",
   "mimetype": "text/x-python",
   "name": "python",
   "nbconvert_exporter": "python",
   "pygments_lexer": "ipython3",
   "version": "3.11.5"
  }
 },
 "nbformat": 4,
 "nbformat_minor": 2
}
