{
 "cells": [
  {
   "cell_type": "markdown",
   "metadata": {},
   "source": [
    "# Heterogeneous GNN"
   ]
  },
  {
   "cell_type": "code",
   "execution_count": 2,
   "metadata": {},
   "outputs": [],
   "source": [
    "import pandas as pd\n",
    "import numpy as np\n",
    "import matplotlib.pyplot as plt\n",
    "import torch\n",
    "from torch_geometric.data import HeteroData, DataLoader, Dataset\n",
    "from torch_geometric.nn import RGCNConv\n",
    "import torch.nn.functional as F\n",
    "from torch_geometric.nn import SAGEConv, to_hetero, GCNConv\n",
    "from torch_geometric.nn import HeteroConv, GCNConv, SAGEConv, GATConv, GraphConv, Linear\n",
    "from torch_geometric.nn import global_mean_pool\n",
    "from torch_geometric.utils import trim_to_layer\n",
    "from torch_geometric.loader import DataLoader\n",
    "import pandas as pd\n",
    "import numpy as np\n",
    "import matplotlib.pyplot as plt\n",
    "\n",
    "class InfernoDataset(Dataset):\n",
    "    def __init__(self, data_list):\n",
    "        super(InfernoDataset, self).__init__()\n",
    "        self.data_list = data_list\n",
    "\n",
    "    def len(self):\n",
    "        return len(self.data_list)\n",
    "\n",
    "    def get(self, idx):\n",
    "        return self.data_list[idx]"
   ]
  },
  {
   "cell_type": "code",
   "execution_count": 3,
   "metadata": {},
   "outputs": [
    {
     "data": {
      "text/plain": [
       "64686"
      ]
     },
     "execution_count": 3,
     "metadata": {},
     "output_type": "execute_result"
    }
   ],
   "source": [
    "dataset = torch.load('data/inferno_graph_dataset.pt')\n",
    "dataset.len()"
   ]
  },
  {
   "cell_type": "code",
   "execution_count": 4,
   "metadata": {},
   "outputs": [
    {
     "data": {
      "text/plain": [
       "165182"
      ]
     },
     "execution_count": 4,
     "metadata": {},
     "output_type": "execute_result"
    }
   ],
   "source": [
    "dataset2 = torch.load('data/inferno_graph_dataset_2.pt')\n",
    "dataset2.len()"
   ]
  },
  {
   "cell_type": "code",
   "execution_count": 5,
   "metadata": {},
   "outputs": [
    {
     "data": {
      "text/plain": [
       "61479"
      ]
     },
     "execution_count": 5,
     "metadata": {},
     "output_type": "execute_result"
    }
   ],
   "source": [
    "dataset3 = torch.load('data/inferno_graph_dataset_3.pt')\n",
    "dataset3.len()"
   ]
  },
  {
   "cell_type": "code",
   "execution_count": 6,
   "metadata": {},
   "outputs": [
    {
     "data": {
      "text/plain": [
       "291347"
      ]
     },
     "execution_count": 6,
     "metadata": {},
     "output_type": "execute_result"
    }
   ],
   "source": [
    "64686+165182+61479"
   ]
  },
  {
   "cell_type": "code",
   "execution_count": 2,
   "metadata": {},
   "outputs": [
    {
     "data": {
      "text/plain": [
       "HeteroData(\n",
       "  y={\n",
       "    roundNum=1.0,\n",
       "    sec=0.0,\n",
       "    team1AliveNum=5.0,\n",
       "    team2AliveNum=5.0,\n",
       "    CTwinsRound=1\n",
       "  },\n",
       "  \u001b[1mplayer\u001b[0m={ x=[10, 44] },\n",
       "  \u001b[1mmap\u001b[0m={ x=[181, 3] },\n",
       "  \u001b[1m(map, connected_to, map)\u001b[0m={ edge_index=[2, 204] },\n",
       "  \u001b[1m(player, closest_to, map)\u001b[0m={ edge_index=[2, 10] }\n",
       ")"
      ]
     },
     "execution_count": 2,
     "metadata": {},
     "output_type": "execute_result"
    }
   ],
   "source": [
    "dataset = torch.load('data/blast-premier-fall-groups-2023-evil-geniuses-vs-g2-bo3-m1-inferno.pt')\n",
    "data = dataset[0]\n",
    "data"
   ]
  },
  {
   "cell_type": "code",
   "execution_count": 3,
   "metadata": {},
   "outputs": [
    {
     "name": "stdout",
     "output_type": "stream",
     "text": [
      "HeterogeneousGNN(\n",
      "  (convs): ModuleList(\n",
      "    (0-3): 4 x HeteroConv(num_relations=2)\n",
      "  )\n",
      "  (lin1): Linear(-1, 128, bias=True)\n",
      "  (lin2): Linear(128, 1, bias=True)\n",
      ")\n"
     ]
    },
    {
     "name": "stderr",
     "output_type": "stream",
     "text": [
      "C:\\Users\\szmid\\AppData\\Local\\Packages\\PythonSoftwareFoundation.Python.3.11_qbz5n2kfra8p0\\LocalCache\\local-packages\\Python311\\site-packages\\torch_geometric\\nn\\conv\\hetero_conv.py:62: UserWarning: There exist node types ({'player'}) whose representations do not get updated during message passing as they do not occur as destination type in any edge type. This may lead to unexpected behavior.\n",
      "  warnings.warn(\n"
     ]
    }
   ],
   "source": [
    "class HeterogeneousGNN(torch.nn.Module):\n",
    "\n",
    "    def __init__(self, hidden_channels, num_layers, edge_types):\n",
    "        super().__init__()\n",
    "        \n",
    "        torch.manual_seed(42)\n",
    "        \n",
    "        self.convs = torch.nn.ModuleList()\n",
    "        for layernum in range(num_layers):\n",
    "            conv = HeteroConv({\n",
    "                    edge_type: SAGEConv((-1, -1), hidden_channels)\n",
    "                    for edge_type in edge_types\n",
    "                }, aggr='sum')\n",
    "            self.convs.append(conv)\n",
    "        self.lin1 = Linear(-1, 128)\n",
    "        self.lin2 = Linear(128, 1)\n",
    "\n",
    "    def forward(self, x_dict, edge_index_dict):\n",
    "        for conv in self.convs:\n",
    "            temp = conv(x_dict, edge_index_dict)\n",
    "            x_dict['map'] = temp['map']\n",
    "            x_dict = {key: x.relu() for key, x in x_dict.items()}\n",
    "            \n",
    "        x = torch.cat([torch.flatten(x_dict['player']), torch.flatten(x_dict['map'])])\n",
    "        x = self.lin1(x).relu()\n",
    "        x = self.lin2(x).sigmoid()\n",
    "        return x\n",
    "\n",
    "model = HeterogeneousGNN(hidden_channels=20, num_layers=4, edge_types=data.edge_types)\n",
    "print(model);"
   ]
  },
  {
   "cell_type": "code",
   "execution_count": 7,
   "metadata": {},
   "outputs": [
    {
     "name": "stdout",
     "output_type": "stream",
     "text": [
      "tensor([1.1921e-08])\n"
     ]
    }
   ],
   "source": [
    "train_loader = DataLoader(dataset[:960], batch_size=1, shuffle=True)\n",
    "val_loader = DataLoader(dataset[960:], batch_size=1, shuffle=True)\n",
    "data = dataset[0]\n",
    "\n",
    "with torch.no_grad():  # Initialize lazy modules.\n",
    "     out = model(data.x_dict, data.edge_index_dict)\n",
    "     print(out)"
   ]
  },
  {
   "cell_type": "code",
   "execution_count": 10,
   "metadata": {},
   "outputs": [
    {
     "name": "stdout",
     "output_type": "stream",
     "text": [
      "1 -  (66.5625, 0.334375)\n",
      "2 -  (66.5625, 0.334375)\n"
     ]
    },
    {
     "ename": "KeyboardInterrupt",
     "evalue": "",
     "output_type": "error",
     "traceback": [
      "\u001b[1;31m---------------------------------------------------------------------------\u001b[0m",
      "\u001b[1;31mKeyboardInterrupt\u001b[0m                         Traceback (most recent call last)",
      "\u001b[1;32md:\\BME\\csgo\\csgo-gnn\\model\\gnn.ipynb Cell 6\u001b[0m line \u001b[0;36m5\n\u001b[0;32m     <a href='vscode-notebook-cell:/d%3A/BME/csgo/csgo-gnn/model/gnn.ipynb#W5sZmlsZQ%3D%3D?line=51'>52</a>\u001b[0m     \u001b[39mreturn\u001b[39;00m avg_loss, accuracy\n\u001b[0;32m     <a href='vscode-notebook-cell:/d%3A/BME/csgo/csgo-gnn/model/gnn.ipynb#W5sZmlsZQ%3D%3D?line=55'>56</a>\u001b[0m \u001b[39mfor\u001b[39;00m epoch \u001b[39min\u001b[39;00m \u001b[39mrange\u001b[39m(\u001b[39m1\u001b[39m, \u001b[39m5\u001b[39m):\n\u001b[1;32m---> <a href='vscode-notebook-cell:/d%3A/BME/csgo/csgo-gnn/model/gnn.ipynb#W5sZmlsZQ%3D%3D?line=56'>57</a>\u001b[0m     train()\n\u001b[0;32m     <a href='vscode-notebook-cell:/d%3A/BME/csgo/csgo-gnn/model/gnn.ipynb#W5sZmlsZQ%3D%3D?line=57'>58</a>\u001b[0m     train_acc \u001b[39m=\u001b[39m validate(val_loader)\n\u001b[0;32m     <a href='vscode-notebook-cell:/d%3A/BME/csgo/csgo-gnn/model/gnn.ipynb#W5sZmlsZQ%3D%3D?line=58'>59</a>\u001b[0m     \u001b[39mprint\u001b[39m(epoch, \u001b[39m'\u001b[39m\u001b[39m- \u001b[39m\u001b[39m'\u001b[39m, train_acc)\n",
      "\u001b[1;32md:\\BME\\csgo\\csgo-gnn\\model\\gnn.ipynb Cell 6\u001b[0m line \u001b[0;36m1\n\u001b[0;32m     <a href='vscode-notebook-cell:/d%3A/BME/csgo/csgo-gnn/model/gnn.ipynb#W5sZmlsZQ%3D%3D?line=11'>12</a>\u001b[0m target \u001b[39m=\u001b[39m data\u001b[39m.\u001b[39my[\u001b[39m'\u001b[39m\u001b[39mCTwinsRound\u001b[39m\u001b[39m'\u001b[39m]\u001b[39m.\u001b[39mto(torch\u001b[39m.\u001b[39mfloat32)\n\u001b[0;32m     <a href='vscode-notebook-cell:/d%3A/BME/csgo/csgo-gnn/model/gnn.ipynb#W5sZmlsZQ%3D%3D?line=12'>13</a>\u001b[0m loss \u001b[39m=\u001b[39m loss_function(out, target)  \u001b[39m# Compute the loss.\u001b[39;00m\n\u001b[1;32m---> <a href='vscode-notebook-cell:/d%3A/BME/csgo/csgo-gnn/model/gnn.ipynb#W5sZmlsZQ%3D%3D?line=13'>14</a>\u001b[0m loss\u001b[39m.\u001b[39;49mbackward()  \u001b[39m# Derive gradients.\u001b[39;00m\n\u001b[0;32m     <a href='vscode-notebook-cell:/d%3A/BME/csgo/csgo-gnn/model/gnn.ipynb#W5sZmlsZQ%3D%3D?line=14'>15</a>\u001b[0m optimizer\u001b[39m.\u001b[39mstep()\n",
      "File \u001b[1;32m~\\AppData\\Local\\Packages\\PythonSoftwareFoundation.Python.3.11_qbz5n2kfra8p0\\LocalCache\\local-packages\\Python311\\site-packages\\torch\\_tensor.py:492\u001b[0m, in \u001b[0;36mTensor.backward\u001b[1;34m(self, gradient, retain_graph, create_graph, inputs)\u001b[0m\n\u001b[0;32m    482\u001b[0m \u001b[39mif\u001b[39;00m has_torch_function_unary(\u001b[39mself\u001b[39m):\n\u001b[0;32m    483\u001b[0m     \u001b[39mreturn\u001b[39;00m handle_torch_function(\n\u001b[0;32m    484\u001b[0m         Tensor\u001b[39m.\u001b[39mbackward,\n\u001b[0;32m    485\u001b[0m         (\u001b[39mself\u001b[39m,),\n\u001b[1;32m   (...)\u001b[0m\n\u001b[0;32m    490\u001b[0m         inputs\u001b[39m=\u001b[39minputs,\n\u001b[0;32m    491\u001b[0m     )\n\u001b[1;32m--> 492\u001b[0m torch\u001b[39m.\u001b[39;49mautograd\u001b[39m.\u001b[39;49mbackward(\n\u001b[0;32m    493\u001b[0m     \u001b[39mself\u001b[39;49m, gradient, retain_graph, create_graph, inputs\u001b[39m=\u001b[39;49minputs\n\u001b[0;32m    494\u001b[0m )\n",
      "File \u001b[1;32m~\\AppData\\Local\\Packages\\PythonSoftwareFoundation.Python.3.11_qbz5n2kfra8p0\\LocalCache\\local-packages\\Python311\\site-packages\\torch\\autograd\\__init__.py:251\u001b[0m, in \u001b[0;36mbackward\u001b[1;34m(tensors, grad_tensors, retain_graph, create_graph, grad_variables, inputs)\u001b[0m\n\u001b[0;32m    246\u001b[0m     retain_graph \u001b[39m=\u001b[39m create_graph\n\u001b[0;32m    248\u001b[0m \u001b[39m# The reason we repeat the same comment below is that\u001b[39;00m\n\u001b[0;32m    249\u001b[0m \u001b[39m# some Python versions print out the first line of a multi-line function\u001b[39;00m\n\u001b[0;32m    250\u001b[0m \u001b[39m# calls in the traceback and some print out the last line\u001b[39;00m\n\u001b[1;32m--> 251\u001b[0m Variable\u001b[39m.\u001b[39;49m_execution_engine\u001b[39m.\u001b[39;49mrun_backward(  \u001b[39m# Calls into the C++ engine to run the backward pass\u001b[39;49;00m\n\u001b[0;32m    252\u001b[0m     tensors,\n\u001b[0;32m    253\u001b[0m     grad_tensors_,\n\u001b[0;32m    254\u001b[0m     retain_graph,\n\u001b[0;32m    255\u001b[0m     create_graph,\n\u001b[0;32m    256\u001b[0m     inputs,\n\u001b[0;32m    257\u001b[0m     allow_unreachable\u001b[39m=\u001b[39;49m\u001b[39mTrue\u001b[39;49;00m,\n\u001b[0;32m    258\u001b[0m     accumulate_grad\u001b[39m=\u001b[39;49m\u001b[39mTrue\u001b[39;49;00m,\n\u001b[0;32m    259\u001b[0m )\n",
      "\u001b[1;31mKeyboardInterrupt\u001b[0m: "
     ]
    }
   ],
   "source": [
    "model = HeterogeneousGNN(hidden_channels=20, num_layers=10, edge_types=data.edge_types).to('cuda')\n",
    "optimizer = torch.optim.Adam(model.parameters(), lr=0.01)\n",
    "loss_function = torch.nn.BCELoss()\n",
    "\n",
    "def train():\n",
    "    model.train()\n",
    "    optimizer.zero_grad()\n",
    "\n",
    "    for data in train_loader:  # Iterate in batches over the training dataset.\n",
    "        data.to('cuda')\n",
    "        out = model(data.x_dict, data.edge_index_dict).to(torch.float32)  # Perform a single forward pass.\n",
    "        target = data.y['CTwinsRound'].to(torch.float32)\n",
    "        loss = loss_function(out, target)  # Compute the loss.\n",
    "        loss.backward()  # Derive gradients.\n",
    "        optimizer.step()  # Update parameters based on gradients.\n",
    "        \n",
    "\n",
    "def test(loader):\n",
    "     model.eval()\n",
    "\n",
    "     correct = 0\n",
    "     for data in loader:  # Iterate in batches over the training/test dataset.\n",
    "         out = model(data.x, data.edge_index, data.batch)  \n",
    "         pred = out.argmax(dim=1)  # Use the class with highest probability.\n",
    "         correct += int((pred == data.y).sum())  # Check against ground-truth labels.\n",
    "     return correct / len(loader.dataset)  # Derive ratio of correct predictions.\n",
    "\n",
    "\n",
    "def validate(val_loader):\n",
    "    model.eval()  # Átkapcsoljuk a modellt értékelési üzemmódba.\n",
    "    total_loss = 0\n",
    "    correct_predictions = 0\n",
    "    total_samples = 0\n",
    "\n",
    "    with torch.no_grad():\n",
    "        for data in val_loader:  # Iterálunk a validációs adatokon.\n",
    "            data.to('cuda')\n",
    "            out = model(data.x_dict, data.edge_index_dict).to(torch.float32)\n",
    "            target = data.y['CTwinsRound'].to(torch.float32)\n",
    "            loss = loss_function(out, target)\n",
    "            total_loss += loss.item()\n",
    "            total_samples += len(target)\n",
    "\n",
    "            # Ellenőrizzük a helyes előrejelzéseket (például egy bináris probléma esetében).\n",
    "            predictions = (out > 0.5).float()\n",
    "            correct_predictions += (predictions == target).sum().item()\n",
    "\n",
    "    # Kiszámítjuk az átlagos veszteséget és a pontosságot.\n",
    "    avg_loss = total_loss / len(val_loader)\n",
    "    accuracy = correct_predictions / total_samples\n",
    "\n",
    "    return avg_loss, accuracy\n",
    "\n",
    "\n",
    "\n",
    "for epoch in range(1, 5):\n",
    "    train()\n",
    "    train_acc = validate(val_loader)\n",
    "    print(epoch, '- ', train_acc)"
   ]
  }
 ],
 "metadata": {
  "kernelspec": {
   "display_name": "Python 3",
   "language": "python",
   "name": "python3"
  },
  "language_info": {
   "codemirror_mode": {
    "name": "ipython",
    "version": 3
   },
   "file_extension": ".py",
   "mimetype": "text/x-python",
   "name": "python",
   "nbconvert_exporter": "python",
   "pygments_lexer": "ipython3",
   "version": "3.11.5"
  }
 },
 "nbformat": 4,
 "nbformat_minor": 2
}
