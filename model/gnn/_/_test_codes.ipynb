{
 "cells": [
  {
   "cell_type": "code",
   "execution_count": 4,
   "metadata": {},
   "outputs": [],
   "source": [
    "import numpy as np\n",
    "import pandas as pd\n",
    "import matplotlib.pyplot as plt\n",
    "from matplotlib.patches import Circle"
   ]
  },
  {
   "cell_type": "markdown",
   "metadata": {},
   "source": [
    "## I. Smoke remove edges test"
   ]
  },
  {
   "cell_type": "code",
   "execution_count": 5,
   "metadata": {},
   "outputs": [
    {
     "name": "stdout",
     "output_type": "stream",
     "text": [
      "Line does not intersect with the circle\n",
      "Line2 intersects with the circle\n"
     ]
    },
    {
     "data": {
      "image/png": "[encoded data removed]",
      "text/plain": [
       "<Figure size 640x480 with 1 Axes>"
      ]
     },
     "metadata": {},
     "output_type": "display_data"
    }
   ],
   "source": [
    "def line_circle_intersection(line_start, line_end, circle_center, circle_radius):\n",
    "    # Direction vector of the line\n",
    "    line_dir = line_end - line_start\n",
    "    \n",
    "    # Vector from the start point of the line to the circle center\n",
    "    to_center = circle_center - line_start\n",
    "    \n",
    "    # Projecting to_center onto line_dir\n",
    "    projection_length = np.dot(to_center, line_dir) / np.dot(line_dir, line_dir)\n",
    "    \n",
    "    # Finding the closest point on the line to the circle center\n",
    "    closest_point = line_start + projection_length * line_dir\n",
    "    \n",
    "    # Distance between the closest point and the circle center\n",
    "    distance = np.linalg.norm(closest_point - circle_center)\n",
    "    \n",
    "    # If the distance is less than or equal to the radius, they intersect\n",
    "    return distance <= circle_radius\n",
    "\n",
    "# Circle parameters\n",
    "circle_center = np.array([0, 0])\n",
    "circle_radius = 1.0\n",
    "\n",
    "# Line parameters\n",
    "line_start = np.array([-1, 2])\n",
    "line_end = np.array([3, 4])\n",
    "\n",
    "line2_start = np.array([-5, 1])\n",
    "line2_end = np.array([3, 1])\n",
    "\n",
    "# Create plot\n",
    "fig, ax = plt.subplots()\n",
    "\n",
    "# Draw circle\n",
    "circle = Circle(circle_center, circle_radius, fill=False, color='r')\n",
    "ax.add_patch(circle)\n",
    "\n",
    "# Draw line\n",
    "ax.plot([line_start[0], line_end[0]], [line_start[1], line_end[1]], color='b')\n",
    "ax.plot([line2_start[0], line2_end[0]], [line2_start[1], line2_end[1]], color='b')\n",
    "\n",
    "# Check intersection\n",
    "if line_circle_intersection(line_start, line_end, circle_center, circle_radius):\n",
    "    print(\"Line intersects with the circle\")\n",
    "else:\n",
    "    print(\"Line does not intersect with the circle\")\n",
    "\n",
    "# Check intersection\n",
    "if line_circle_intersection(line2_start, line2_end, circle_center, circle_radius):\n",
    "    print(\"Line2 intersects with the circle\")\n",
    "else:\n",
    "    print(\"Line2 does not intersect with the circle\")\n",
    "\n",
    "# Set plot aspect ratio to be equal\n",
    "ax.set_aspect('equal', adjustable='box')\n",
    "\n",
    "\n",
    "# Show plot\n",
    "plt.grid(True)\n",
    "plt.show()\n"
   ]
  },
  {
   "cell_type": "markdown",
   "metadata": {},
   "source": [
    "## II. Add statistics to playerFrames speedup attempt"
   ]
  },
  {
   "cell_type": "code",
   "execution_count": 16,
   "metadata": {},
   "outputs": [
    {
     "data": {
      "text/html": [
       "<div>\n",
       "<style scoped>\n",
       "    .dataframe tbody tr th:only-of-type {\n",
       "        vertical-align: middle;\n",
       "    }\n",
       "\n",
       "    .dataframe tbody tr th {\n",
       "        vertical-align: top;\n",
       "    }\n",
       "\n",
       "    .dataframe thead th {\n",
       "        text-align: right;\n",
       "    }\n",
       "</style>\n",
       "<table border=\"1\" class=\"dataframe\">\n",
       "  <thead>\n",
       "    <tr style=\"text-align: right;\">\n",
       "      <th></th>\n",
       "      <th>tick_x</th>\n",
       "      <th>name</th>\n",
       "      <th>kills</th>\n",
       "      <th>deaths</th>\n",
       "      <th>tick_y</th>\n",
       "      <th>killsum</th>\n",
       "    </tr>\n",
       "  </thead>\n",
       "  <tbody>\n",
       "    <tr>\n",
       "      <th>0</th>\n",
       "      <td>10</td>\n",
       "      <td>niko</td>\n",
       "      <td>12</td>\n",
       "      <td>13</td>\n",
       "      <td>6</td>\n",
       "      <td>0</td>\n",
       "    </tr>\n",
       "    <tr>\n",
       "      <th>1</th>\n",
       "      <td>10</td>\n",
       "      <td>niko</td>\n",
       "      <td>12</td>\n",
       "      <td>13</td>\n",
       "      <td>50</td>\n",
       "      <td>0</td>\n",
       "    </tr>\n",
       "    <tr>\n",
       "      <th>2</th>\n",
       "      <td>14</td>\n",
       "      <td>s1mple</td>\n",
       "      <td>16</td>\n",
       "      <td>17</td>\n",
       "      <td>11</td>\n",
       "      <td>0</td>\n",
       "    </tr>\n",
       "    <tr>\n",
       "      <th>3</th>\n",
       "      <td>18</td>\n",
       "      <td>donk</td>\n",
       "      <td>20</td>\n",
       "      <td>21</td>\n",
       "      <td>15</td>\n",
       "      <td>0</td>\n",
       "    </tr>\n",
       "    <tr>\n",
       "      <th>4</th>\n",
       "      <td>22</td>\n",
       "      <td>jkl</td>\n",
       "      <td>24</td>\n",
       "      <td>25</td>\n",
       "      <td>40</td>\n",
       "      <td>0</td>\n",
       "    </tr>\n",
       "  </tbody>\n",
       "</table>\n",
       "</div>"
      ],
      "text/plain": [
       "   tick_x    name  kills  deaths  tick_y  killsum\n",
       "0      10    niko     12      13       6        0\n",
       "1      10    niko     12      13      50        0\n",
       "2      14  s1mple     16      17      11        0\n",
       "3      18    donk     20      21      15        0\n",
       "4      22     jkl     24      25      40        0"
      ]
     },
     "execution_count": 16,
     "metadata": {},
     "output_type": "execute_result"
    }
   ],
   "source": [
    "array1 = [[10, 'niko', 12, 13],\n",
    "          [14, 's1mple', 16, 17],\n",
    "          [18, 'donk', 20, 21],\n",
    "          [22, 'jkl', 24, 25]]\n",
    "\n",
    "array2 = [[6,  0, 'niko'],\n",
    "          [11, 0, 's1mple'],\n",
    "          [15, 0, 'donk'],\n",
    "          [40, 0, 'jkl'],\n",
    "          [50, 0, 'niko']]\n",
    "\n",
    "df1 = pd.DataFrame(array1, columns=['tick', 'name', 'kills', 'deaths'])\n",
    "df2 = pd.DataFrame(array2, columns=['tick', 'killsum', 'name'])\n",
    "\n",
    "pd.merge(df1, df2, on='name', how='outer')"
   ]
  }
 ],
 "metadata": {
  "kernelspec": {
   "display_name": "Python 3",
   "language": "python",
   "name": "python3"
  },
  "language_info": {
   "codemirror_mode": {
    "name": "ipython",
    "version": 3
   },
   "file_extension": ".py",
   "mimetype": "text/x-python",
   "name": "python",
   "nbconvert_exporter": "python",
   "pygments_lexer": "ipython3",
   "version": "3.11.8"
  }
 },
 "nbformat": 4,
 "nbformat_minor": 2
}
