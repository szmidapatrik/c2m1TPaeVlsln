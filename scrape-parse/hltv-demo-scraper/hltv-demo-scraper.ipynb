{
 "cells": [
  {
   "attachments": {},
   "cell_type": "markdown",
   "metadata": {},
   "source": [
    "# Creation of the scraper\n",
    "Functions which complete parts of the demo scraping.\n",
    "*   1. Function: Gets the download link for the demo files for each match of a tournament.\n",
    "*   2. Function: Downloads the demo files's rar containers.\n",
    "*   3. Function: Counts the rar files in the given folder, thus allowing the 2. Function to check wether the download is completed.\n",
    "*   4. Function: Unzips the downloaded rars, which contain the demo files for each match."
   ]
  },
  {
   "attachments": {},
   "cell_type": "markdown",
   "metadata": {},
   "source": [
    "## Get the links to the given Tournament's matches\n",
    "Function that expects one parameter:\n",
    "*   *link*, a Tournament's results link from HLTV,\n",
    "\n",
    " from which it collects the links of the demo files' download page, and returns them in a string array.\n",
    " \n",
    " An example link: *https://www.hltv.org/results?content=demo&event=6809*"
   ]
  },
  {
   "cell_type": "code",
   "execution_count": 12,
   "metadata": {},
   "outputs": [],
   "source": [
    "from selenium import webdriver\n",
    "from selenium.webdriver.common.by import By\n",
    "from time import sleep\n",
    "import random\n",
    "\n",
    "\n",
    "def get_tournament_demo_links(link):\n",
    "    \n",
    "    # Allow cookies\n",
    "    browser = webdriver.Chrome()\n",
    "    browser.get(link)\n",
    "    allowCookies = browser.find_element(By.ID, 'CybotCookiebotDialogBodyLevelButtonLevelOptinAllowAll')\n",
    "    sleep(random.uniform(0.8, 2.8))\n",
    "    allowCookies.click()\n",
    "    sleep(2)\n",
    "\n",
    "    # Get the match list items\n",
    "    matches = browser.find_elements(By.CLASS_NAME, 'result-con')\n",
    "    matchLinks = []\n",
    "    for match in matches:\n",
    "        matchLinks.append(match.find_element(By.CLASS_NAME, 'a-reset').get_attribute('href'))\n",
    "\n",
    "    # Finish and quit browser, return links\n",
    "    browser.quit()\n",
    "    return matchLinks"
   ]
  },
  {
   "attachments": {},
   "cell_type": "markdown",
   "metadata": {},
   "source": [
    "## Function to count files in a given folder\n",
    "This function expects two parameters: \n",
    "* *fileType* determines the sought file type\n",
    "* *folderPath* defines in which folder the function will search for the given file extension\n",
    "\n",
    "In this scenario, it is used to detect  wether the number of rar files changed, allowing us the check if the current demo file's dowload is complete"
   ]
  },
  {
   "cell_type": "code",
   "execution_count": 10,
   "metadata": {},
   "outputs": [],
   "source": [
    "import os\n",
    "\n",
    "def get_file_count(fileType, folderPath):\n",
    "\n",
    "    fileExtensionList = []\n",
    "\n",
    "    # Iterate directory\n",
    "    for filename in os.listdir(folderPath):\n",
    "        f = os.path.join(folderPath, filename)\n",
    "        # Checking files and counting rars \n",
    "        if os.path.isfile(f):\n",
    "            if '.' not in filename:\n",
    "                continue\n",
    "            fileExtensionList.append(filename.rsplit('.', 1)[1])\n",
    "    \n",
    "    fileCount = 0\n",
    "    for file in fileExtensionList:\n",
    "        if file == fileType:\n",
    "            fileCount += 1\n",
    "    \n",
    "    return fileCount"
   ]
  },
  {
   "attachments": {},
   "cell_type": "markdown",
   "metadata": {},
   "source": [
    "## Download all matches' demos for the given Tourament\n",
    "The function expects two parameters:\n",
    "*   *tournament*, which must contain the **get_tournament_demo_links** function's returned links,\n",
    "*   *downloadPath*, which determines where the demo files will be dowloaded.\n",
    "\n",
    "This method runs through all the collected links of the gven tournament's matches, and downloads the demo files from it.\n",
    "Tested with download path: r\"D:\\bme\\MSc\\csgo\\data-scape\\awpy\\demo\\download\""
   ]
  },
  {
   "cell_type": "code",
   "execution_count": 9,
   "metadata": {},
   "outputs": [],
   "source": [
    "def download_demos(tournament, downloadPath):\n",
    "    # Set download path\n",
    "    chromeOptions = webdriver.ChromeOptions()\n",
    "    prefs = {\"download.default_directory\" : downloadPath}\n",
    "    chromeOptions.add_experimental_option(\"prefs\",prefs)\n",
    "\n",
    "    # Iterate through the matches' links\n",
    "    for matchLink in tournament:\n",
    "\n",
    "        # Start browser, allow cookies\n",
    "        browser = webdriver.ChromiumEdge(options=chromeOptions)\n",
    "        browser.get(matchLink)\n",
    "        allowCookies = browser.find_element(By.ID, 'CybotCookiebotDialogBodyLevelButtonLevelOptinAllowAll')\n",
    "        sleep(random.uniform(0.8, 2.8))\n",
    "        allowCookies.click()\n",
    "        sleep(random.uniform(1, 1.9))\n",
    "\n",
    "        # Find download button\n",
    "        downloadLink = browser.find_element(By.CLASS_NAME, 'stream-box').get_attribute('data-demo-link')\n",
    "\n",
    "        # Start download and wait while completed\n",
    "        rarCountBeforeDownload = get_file_count('rar', downloadPath)\n",
    "        browser.get('https://www.hltv.org' + downloadLink)\n",
    "        while get_file_count('rar', downloadPath) == rarCountBeforeDownload:\n",
    "            sleep(5)\n",
    "\n",
    "        # Quit browser\n",
    "        browser.quit()"
   ]
  },
  {
   "attachments": {},
   "cell_type": "markdown",
   "metadata": {},
   "source": [
    "## Function to unzip the demo files\n",
    "Function that expects two parameters:\n",
    "*   *sourceFolder*, which determines the rar files' source folder,\n",
    "*   *destFolder*, the destination folder of the unzipping procedure.\n",
    "\n",
    "This function iterates throught the given *sourceFolder*, unzips all the rar files and gets all the demos from them."
   ]
  },
  {
   "cell_type": "code",
   "execution_count": 13,
   "metadata": {},
   "outputs": [],
   "source": [
    "import patoolib\n",
    "import os\n",
    "\n",
    "def unzip_demo_files(sourceFolder, destFolder):\n",
    "\n",
    "    # Iterate directory\n",
    "    for filename in os.listdir(sourceFolder):\n",
    "        filename = os.path.join(sourceFolder, filename)\n",
    "        if 'sync' in filename:\n",
    "            os.remove(filename)\n",
    "            continue\n",
    "        patoolib.extract_archive(filename, outdir=destFolder)"
   ]
  },
  {
   "attachments": {},
   "cell_type": "markdown",
   "metadata": {},
   "source": [
    "# All-in-one function\n",
    "The combination of the previously created functions. In this section, the user can download and unpack whole Counter Strike tournaments' demo files using the *demo_downloader* funcion. It expects two parameters:\n",
    "*   *link*: The HTML link of the tournament the user wishes to download. An example link: https://www.hltv.org/results?content=demo&event=6809\n",
    "*   *path*: Both the download and unpack path."
   ]
  },
  {
   "attachments": {},
   "cell_type": "markdown",
   "metadata": {},
   "source": [
    "##### Function implementation"
   ]
  },
  {
   "cell_type": "code",
   "execution_count": 17,
   "metadata": {},
   "outputs": [],
   "source": [
    "def demo_downloader_for_tournaments(link, path):\n",
    "    download_demos(get_tournament_demo_links(link), path + '/source')\n",
    "    # unzip_demo_files(path + '\\source', path)"
   ]
  },
  {
   "attachments": {},
   "cell_type": "markdown",
   "metadata": {},
   "source": [
    "##### Sandbox"
   ]
  },
  {
   "cell_type": "code",
   "execution_count": 19,
   "metadata": {},
   "outputs": [],
   "source": [
    "demo_downloader_for_tournaments('https://www.hltv.org/results?event=6136', r'/media/szmp/Adat/BME/csgo-gnn/scrape-parse/demo')"
   ]
  }
 ],
 "metadata": {
  "kernelspec": {
   "display_name": "base",
   "language": "python",
   "name": "python3"
  },
  "language_info": {
   "codemirror_mode": {
    "name": "ipython",
    "version": 3
   },
   "file_extension": ".py",
   "mimetype": "text/x-python",
   "name": "python",
   "nbconvert_exporter": "python",
   "pygments_lexer": "ipython3",
   "version": "3.10.12"
  },
  "orig_nbformat": 4
 },
 "nbformat": 4,
 "nbformat_minor": 2
}
