{
 "cells": [
  {
   "cell_type": "markdown",
   "metadata": {},
   "source": [
    "## HLTV stat scrape"
   ]
  },
  {
   "cell_type": "markdown",
   "metadata": {},
   "source": [
    "### Get hltv links to player profiles"
   ]
  },
  {
   "cell_type": "code",
   "execution_count": 1,
   "metadata": {},
   "outputs": [],
   "source": [
    "from selenium.webdriver.common.by import By\n",
    "from selenium import webdriver\n",
    "from time import sleep\n",
    "import random\n",
    "\n",
    "def get_player_profile_links(url):\n",
    "    \n",
    "    browser = webdriver.Chrome()\n",
    "\n",
    "    browser.get(url)\n",
    "    allowCookies = browser.find_element(By.ID, 'CybotCookiebotDialogBodyLevelButtonLevelOptinAllowAll')\n",
    "    sleep(random.uniform(0.8, 2.8))\n",
    "    allowCookies.click()\n",
    "    sleep(2)\n",
    "\n",
    "    player_url = []\n",
    "    \n",
    "    players = browser.find_elements(By.CSS_SELECTOR, 'table.stats-table tbody tr')\n",
    "    for player in players:\n",
    "        link = player.find_element(By.TAG_NAME, 'a').get_attribute('href')\n",
    "        player_url.append(link)\n",
    "\n",
    "    browser.quit()\n",
    "    \n",
    "    return player_url"
   ]
  },
  {
   "cell_type": "markdown",
   "metadata": {},
   "source": [
    "### Scrape stats"
   ]
  },
  {
   "cell_type": "code",
   "execution_count": 4,
   "metadata": {},
   "outputs": [
    {
     "name": "stdout",
     "output_type": "stream",
     "text": [
      "1.33\n",
      "60.5%\n",
      "85.8%\n",
      "28\n"
     ]
    },
    {
     "data": {
      "text/plain": [
       "{}"
      ]
     },
     "execution_count": 4,
     "metadata": {},
     "output_type": "execute_result"
    }
   ],
   "source": [
    "from selenium.webdriver.common.by import By\n",
    "from selenium import webdriver\n",
    "from time import sleep\n",
    "import random\n",
    "\n",
    "\n",
    "\n",
    "\n",
    "def get_link_and_accept_cookies(url):\n",
    "    \n",
    "    browser = webdriver.Firefox()\n",
    "    \n",
    "    sleep(0.7)\n",
    "    browser.get(url)\n",
    "    sleep(3.2)\n",
    "    \n",
    "    allowCookies = browser.find_element(By.ID, 'CybotCookiebotDialogBodyLevelButtonLevelOptinAllowAll')\n",
    "    sleep(random.uniform(0.8, 2.8))\n",
    "    allowCookies.click()\n",
    "    \n",
    "    return browser\n",
    "\n",
    "\n",
    "\n",
    "\n",
    "def get_overview_stats(url, stats):\n",
    "    \n",
    "    browser = get_link_and_accept_cookies(url)\n",
    "    \n",
    "    # Highlighted stats\n",
    "    stats['player_name'] = browser.find_element(By.CSS_SELECTOR, 'h1.summaryNickname').text\n",
    "    stats['rating_2.0'] = browser.find_elements(By.CSS_SELECTOR, 'div.summaryStatBreakdownDataValue')[0].text\n",
    "    stats['DPR'] = browser.find_elements(By.CSS_SELECTOR, 'div.summaryStatBreakdownDataValue')[1].text\n",
    "    stats['KAST'] = browser.find_elements(By.CSS_SELECTOR, 'div.summaryStatBreakdownDataValue')[2].text[:-1]\n",
    "    stats['Impact'] = browser.find_elements(By.CSS_SELECTOR, 'div.summaryStatBreakdownDataValue')[3].text\n",
    "    stats['ADR'] = browser.find_elements(By.CSS_SELECTOR, 'div.summaryStatBreakdownDataValue')[4].text\n",
    "    stats['KPR'] = browser.find_elements(By.CSS_SELECTOR, 'div.summaryStatBreakdownDataValue')[5].text\n",
    "    \n",
    "    # Other stats\n",
    "    stats['total_kills'] = browser.find_elements(By.CSS_SELECTOR, 'div.stats-row')[0].text.replace('Total kills\\n', '')\n",
    "    stats['HS%'] = browser.find_elements(By.CSS_SELECTOR, 'div.stats-row')[1].text.replace('Headshot %\\n', '')[:-1]\n",
    "    stats['total_deaths'] = browser.find_elements(By.CSS_SELECTOR, 'div.stats-row')[2].text.replace('Total deaths\\n', '')\n",
    "    stats['KD_ratio'] = browser.find_elements(By.CSS_SELECTOR, 'div.stats-row')[3].text.replace('K/D Ratio\\n', '')\n",
    "    stats['dmgPR'] = browser.find_elements(By.CSS_SELECTOR, 'div.stats-row')[4].text.replace('Damage / Round\\n', '')\n",
    "    stats['grenade_dmgPR'] = browser.find_elements(By.CSS_SELECTOR, 'div.stats-row')[5].text.replace('Grenade dmg / Round\\n', '')\n",
    "    stats['maps_played'] = browser.find_elements(By.CSS_SELECTOR, 'div.stats-row')[6].text.replace('Maps played\\n', '')\n",
    "    stats['rounds_played'] = browser.find_elements(By.CSS_SELECTOR, 'div.stats-row')[7].text.replace('Rounds played\\n', '')\n",
    "    stats['KPR'] = browser.find_elements(By.CSS_SELECTOR, 'div.stats-row')[8].text.replace('Kills / round\\n', '')\n",
    "    stats['APR'] = browser.find_elements(By.CSS_SELECTOR, 'div.stats-row')[9].text.replace('Assists / round\\n', '')\n",
    "    stats['saved_by_teammatePR'] = browser.find_elements(By.CSS_SELECTOR, 'div.stats-row')[11].text.replace('Saved by teammate / round\\n', '')\n",
    "    stats['saved_teammatesPR'] = browser.find_elements(By.CSS_SELECTOR, 'div.stats-row')[12].text.replace('Saved teammates / round\\n', '')\n",
    "    \n",
    "    browser.quit()\n",
    "    return stats\n",
    "\n",
    "\n",
    "\n",
    "\n",
    "def get_individual_stats(url, stats):\n",
    "    \n",
    "    url_individual = url.replace('/players/', '/players/individual/')\n",
    "    browser = get_link_and_accept_cookies(url_individual)\n",
    "\n",
    "    stats['rounds_with_kils'] = browser.find_elements(By.CSS_SELECTOR, 'div.stats-row')[4].text.replace('Rounds with kills\\n', '')\n",
    "    stats['KD_diff'] = browser.find_elements(By.CSS_SELECTOR, 'div.stats-row')[5].text.replace('Kill - Death difference\\n', '')\n",
    "    \n",
    "    stats['total_opening_kills'] = browser.find_elements(By.CSS_SELECTOR, 'div.stats-row')[6].text.replace('Total opening kills\\n', '')\n",
    "    stats['total_opening_deaths'] = browser.find_elements(By.CSS_SELECTOR, 'div.stats-row')[7].text.replace('Total opening deaths\\n', '')\n",
    "    stats['opening_kill_ratio'] = browser.find_elements(By.CSS_SELECTOR, 'div.stats-row')[8].text.replace('Opening kill ratio\\n', '')\n",
    "    stats['opening_kill_rating'] = browser.find_elements(By.CSS_SELECTOR, 'div.stats-row')[9].text.replace('Opening kill rating\\n', '')\n",
    "    stats['team_W%_after_opening'] = browser.find_elements(By.CSS_SELECTOR, 'div.stats-row')[10].text[:-1].replace('Team win percent after first kill\\n', '')\n",
    "    stats['opening_kill_in_W_rounds'] = browser.find_elements(By.CSS_SELECTOR, 'div.stats-row')[11].text[:-1].replace('First kill in won rounds\\n', '')\n",
    "    \n",
    "    stats['0_kill_rounds'] = browser.find_elements(By.CSS_SELECTOR, 'div.stats-row')[12].text.replace('0 kill rounds\\n', '')\n",
    "    stats['1_kill_rounds'] = browser.find_elements(By.CSS_SELECTOR, 'div.stats-row')[13].text.replace('1 kill rounds\\n', '')\n",
    "    stats['2_kill_rounds'] = browser.find_elements(By.CSS_SELECTOR, 'div.stats-row')[14].text.replace('2 kill rounds\\n', '')\n",
    "    stats['3_kill_rounds'] = browser.find_elements(By.CSS_SELECTOR, 'div.stats-row')[15].text.replace('3 kill rounds\\n', '')\n",
    "    stats['4_kill_rounds'] = browser.find_elements(By.CSS_SELECTOR, 'div.stats-row')[16].text.replace('4 kill rounds\\n', '')\n",
    "    stats['5_kill_rounds'] = browser.find_elements(By.CSS_SELECTOR, 'div.stats-row')[17].text.replace('5 kill rounds\\n', '')\n",
    "    \n",
    "    stats['rifle_kills'] = browser.find_elements(By.CSS_SELECTOR, 'div.stats-row')[18].text.replace('Rifle kills\\n', '')\n",
    "    stats['sniper_kills'] = browser.find_elements(By.CSS_SELECTOR, 'div.stats-row')[19].text.replace('Sniper kills\\n', '')\n",
    "    stats['smg_kills'] = browser.find_elements(By.CSS_SELECTOR, 'div.stats-row')[20].text.replace('SMG kills\\n', '')\n",
    "    stats['pistol_kills'] = browser.find_elements(By.CSS_SELECTOR, 'div.stats-row')[21].text.replace('Pistol kills\\n', '')\n",
    "    stats['grenade_kills'] = browser.find_elements(By.CSS_SELECTOR, 'div.stats-row')[22].text.replace('Grenade\\n', '')\n",
    "    stats['other_kills'] = browser.find_elements(By.CSS_SELECTOR, 'div.stats-row')[23].text.replace('Other\\n', '')\n",
    "    \n",
    "    browser.quit()\n",
    "    return stats\n",
    "\n",
    "\n",
    "\n",
    "\n",
    "def get_match_stats(url, stats):\n",
    "    \n",
    "    url_individual = url.replace('/players/', '/players/matches/')\n",
    "    browser = get_link_and_accept_cookies(url_individual)\n",
    "\n",
    "    stats['maps_W%'] = browser.find_elements(By.CSS_SELECTOR, 'div.value')[1].text[:-1]\n",
    "    stats['rating_2.0_1+'] = browser.find_elements(By.CSS_SELECTOR, 'div.value')[2].text[:-1]\n",
    "    stats['rating_2.0_1+_streak'] = browser.find_elements(By.CSS_SELECTOR, 'div.value')[3].text\n",
    "        \n",
    "    browser.quit()\n",
    "    return stats\n",
    "\n",
    "\n",
    "\n",
    "def get_player_stats(url):\n",
    "\n",
    "    stats = get_overview_stats(url, {})\n",
    "    stats = get_individual_stats(url, stats)\n",
    "    stats = get_match_stats(url, stats)\n",
    "\n",
    "    return stats\n"
   ]
  },
  {
   "cell_type": "code",
   "execution_count": 2,
   "metadata": {},
   "outputs": [
    {
     "data": {
      "text/plain": [
       "{'player_name': 'ZywOo',\n",
       " 'rating_2.0': '1.33',\n",
       " 'DPR': '0.62',\n",
       " 'KAST': '74.9',\n",
       " 'Impact': '1.46',\n",
       " 'ADR': '88.8',\n",
       " 'KPR': '0.85',\n",
       " 'total_kills': '20835',\n",
       " 'HS%': '41.4',\n",
       " 'total_deaths': '15086',\n",
       " 'KD_ratio': '1.38',\n",
       " 'dmgPR': '88.8',\n",
       " 'grenade_dmgPR': '3.6',\n",
       " 'maps_played': '934',\n",
       " 'rounds_played': '24502',\n",
       " 'APR': '0.13',\n",
       " 'saved_by_teammatePR': '0.10',\n",
       " 'saved_teammatesPR': '0.12',\n",
       " 'rounds_with_kils': '13036',\n",
       " 'KD_diff': '5749',\n",
       " 'total_opening_kills': '3838',\n",
       " 'total_opening_deaths': '2397',\n",
       " 'opening_kill_ratio': '1.60',\n",
       " 'opening_kill_rating': '1.29',\n",
       " 'team_W%_after_opening': '73.4',\n",
       " 'opening_kill_in_W_rounds': '21.6',\n",
       " '0_kill_rounds': '11466',\n",
       " '1_kill_rounds': '7505',\n",
       " '2_kill_rounds': '3747',\n",
       " '3_kill_rounds': '1368',\n",
       " '4_kill_rounds': '348',\n",
       " '5_kill_rounds': '68',\n",
       " 'rifle_kills': '7589',\n",
       " 'sniper_kills': '7801',\n",
       " 'smg_kills': '1254',\n",
       " 'pistol_kills': '3960',\n",
       " 'grenade_kills': 'Grenade\\n233',\n",
       " 'other_kills': 'Other\\n47'}"
      ]
     },
     "execution_count": 2,
     "metadata": {},
     "output_type": "execute_result"
    }
   ],
   "source": [
    "test = get_player_stats('https://www.hltv.org/stats/players/11893/zywoo?startDate=2012-01-01&endDate=2022-01-01&rankingFilter=All')"
   ]
  },
  {
   "cell_type": "code",
   "execution_count": 60,
   "metadata": {},
   "outputs": [],
   "source": [
    "import csv\n",
    "with open('stats.csv', 'w+', newline='') as f:\n",
    "    writer = csv.writer(f)\n",
    "    columns = []\n",
    "    values = []\n",
    "    for x in test:\n",
    "        columns.append(x)\n",
    "        values.append(test[x])\n",
    "    writer.writerow(columns)\n",
    "    writer.writerow(values)"
   ]
  }
 ],
 "metadata": {
  "kernelspec": {
   "display_name": "Python 3",
   "language": "python",
   "name": "python3"
  },
  "language_info": {
   "codemirror_mode": {
    "name": "ipython",
    "version": 3
   },
   "file_extension": ".py",
   "mimetype": "text/x-python",
   "name": "python",
   "nbconvert_exporter": "python",
   "pygments_lexer": "ipython3",
   "version": "3.11.5"
  },
  "orig_nbformat": 4
 },
 "nbformat": 4,
 "nbformat_minor": 2
}
