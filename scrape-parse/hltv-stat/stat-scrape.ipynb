{
 "cells": [
  {
   "cell_type": "markdown",
   "metadata": {},
   "source": [
    "## HLTV stat scrape"
   ]
  },
  {
   "cell_type": "markdown",
   "metadata": {},
   "source": [
    "### Get hltv links to player profiles"
   ]
  },
  {
   "cell_type": "code",
   "execution_count": 17,
   "metadata": {},
   "outputs": [],
   "source": [
    "from selenium.webdriver.common.by import By\n",
    "from selenium import webdriver\n",
    "from time import sleep\n",
    "import random\n",
    "\n",
    "def get_player_profile_links(url):\n",
    "    \n",
    "    browser = webdriver.Chrome()\n",
    "\n",
    "    browser.get(url)\n",
    "    allowCookies = browser.find_element(By.ID, 'CybotCookiebotDialogBodyLevelButtonLevelOptinAllowAll')\n",
    "    sleep(random.uniform(0.8, 2.8))\n",
    "    allowCookies.click()\n",
    "    sleep(2)\n",
    "\n",
    "    player_url = []\n",
    "    \n",
    "    players = browser.find_elements(By.CSS_SELECTOR, 'table.stats-table tbody tr')\n",
    "    for player in players:\n",
    "        link = player.find_element(By.TAG_NAME, 'a').get_attribute('href')\n",
    "        player_url.append(link)\n",
    "\n",
    "    browser.quit()\n",
    "    \n",
    "    return player_url"
   ]
  },
  {
   "cell_type": "markdown",
   "metadata": {},
   "source": [
    "### Scrape statts: overall"
   ]
  },
  {
   "cell_type": "code",
   "execution_count": 59,
   "metadata": {},
   "outputs": [],
   "source": [
    "from selenium.webdriver.common.by import By\n",
    "from selenium import webdriver\n",
    "from time import sleep\n",
    "import random\n",
    "\n",
    "def get_player_stats(url):\n",
    "    \n",
    "    browser = webdriver.Chrome()\n",
    "\n",
    "    browser.get(url)\n",
    "    sleep(2)\n",
    "    allowCookies = browser.find_element(By.ID, 'CybotCookiebotDialogBodyLevelButtonLevelOptinAllowAll')\n",
    "    sleep(random.uniform(0.8, 2.8))\n",
    "    allowCookies.click()\n",
    "\n",
    "    stats = {}\n",
    "    \n",
    "    stats['player_name'] = browser.find_element(By.CSS_SELECTOR, 'h1.summaryNickname').text\n",
    "    stats['rating_2.0'] = browser.find_elements(By.CSS_SELECTOR, 'div.summaryStatBreakdownDataValue')[0].text\n",
    "    stats['DPR'] = browser.find_elements(By.CSS_SELECTOR, 'div.summaryStatBreakdownDataValue')[1].text\n",
    "    stats['KAST'] = browser.find_elements(By.CSS_SELECTOR, 'div.summaryStatBreakdownDataValue')[2].text[:-1]\n",
    "    stats['Impact'] = browser.find_elements(By.CSS_SELECTOR, 'div.summaryStatBreakdownDataValue')[3].text\n",
    "    stats['ADR'] = browser.find_elements(By.CSS_SELECTOR, 'div.summaryStatBreakdownDataValue')[4].text\n",
    "    stats['KPR'] = browser.find_elements(By.CSS_SELECTOR, 'div.summaryStatBreakdownDataValue')[5].text\n",
    "    \n",
    "    stats['total_kills'] = browser.find_elements(By.CSS_SELECTOR, 'div.stats-row')[0].text.replace('Total kills\\n', '')\n",
    "    stats['HS%'] = browser.find_elements(By.CSS_SELECTOR, 'div.stats-row')[1].text.replace('Headshot %\\n', '')[:-1]\n",
    "    stats['total_deaths'] = browser.find_elements(By.CSS_SELECTOR, 'div.stats-row')[2].text.replace('Total deaths\\n', '')\n",
    "    stats['KD_ratio'] = browser.find_elements(By.CSS_SELECTOR, 'div.stats-row')[3].text.replace('K/D Ratio\\n', '')\n",
    "    stats['dmgPR'] = browser.find_elements(By.CSS_SELECTOR, 'div.stats-row')[4].text.replace('Damage / Round\\n', '')\n",
    "    stats['grenade_dmgPR'] = browser.find_elements(By.CSS_SELECTOR, 'div.stats-row')[5].text.replace('Grenade dmg / Round\\n', '')\n",
    "    stats['maps_played'] = browser.find_elements(By.CSS_SELECTOR, 'div.stats-row')[6].text.replace('Maps played\\n', '')\n",
    "    stats['rounds_played'] = browser.find_elements(By.CSS_SELECTOR, 'div.stats-row')[7].text.replace('Rounds played\\n', '')\n",
    "    stats['KPR'] = browser.find_elements(By.CSS_SELECTOR, 'div.stats-row')[8].text.replace('Kills / round\\n', '')\n",
    "    stats['APR'] = browser.find_elements(By.CSS_SELECTOR, 'div.stats-row')[9].text.replace('Assists / round\\n', '')\n",
    "    stats['saved_by_teammatePR'] = browser.find_elements(By.CSS_SELECTOR, 'div.stats-row')[11].text.replace('Saved by teammate / round\\n', '')\n",
    "    stats['saved_teammatesPR'] = browser.find_elements(By.CSS_SELECTOR, 'div.stats-row')[12].text.replace('Saved teammates / round\\n', '')\n",
    "    \n",
    "    sleep(random.uniform(0.8, 1.6))\n",
    "    browser.quit()\n",
    "    return stats\n",
    "\n",
    "test = get_player_stats('https://www.hltv.org/stats/players/11893/zywoo?startDate=2012-01-01&endDate=2022-01-01&rankingFilter=All')"
   ]
  },
  {
   "cell_type": "code",
   "execution_count": 60,
   "metadata": {},
   "outputs": [],
   "source": [
    "import csv\n",
    "with open('stats.csv', 'w+', newline='') as f:\n",
    "    writer = csv.writer(f)\n",
    "    columns = []\n",
    "    values = []\n",
    "    for x in test:\n",
    "        columns.append(x)\n",
    "        values.append(test[x])\n",
    "    writer.writerow(columns)\n",
    "    writer.writerow(values)"
   ]
  }
 ],
 "metadata": {
  "kernelspec": {
   "display_name": "Python 3",
   "language": "python",
   "name": "python3"
  },
  "language_info": {
   "codemirror_mode": {
    "name": "ipython",
    "version": 3
   },
   "file_extension": ".py",
   "mimetype": "text/x-python",
   "name": "python",
   "nbconvert_exporter": "python",
   "pygments_lexer": "ipython3",
   "version": "3.11.5"
  },
  "orig_nbformat": 4
 },
 "nbformat": 4,
 "nbformat_minor": 2
}
