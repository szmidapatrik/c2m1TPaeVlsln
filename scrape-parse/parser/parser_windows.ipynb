{
 "cells": [
  {
   "cell_type": "markdown",
   "metadata": {},
   "source": [
    "### Get all demo files in all folders of a given year"
   ]
  },
  {
   "cell_type": "code",
   "execution_count": 1,
   "metadata": {},
   "outputs": [],
   "source": [
    "import pandas as pd\n",
    "import os\n",
    "\n",
    "# Get all demo files of the given year's folder\n",
    "def get_demos(folderPath):\n",
    "    folderMatchs = os.listdir(folderPath)\n",
    "    file = open(folderPath + 'parsedDemos.txt', 'a+')\n",
    "    file.close()\n",
    "    folderDemo = []\n",
    "    for folder in folderMatchs:\n",
    "        matches = os.listdir(os.path.join(folderPath, folder))\n",
    "        for demo in matches:\n",
    "            folderDemo.append([folder, demo[:-4], os.path.join(folderPath, folder, demo)])\n",
    "    return pd.DataFrame(folderDemo, columns=['tournament', 'match', 'path']).sort_values(by=['tournament', 'match'])"
   ]
  },
  {
   "cell_type": "markdown",
   "metadata": {},
   "source": [
    "### Parse demos\n"
   ]
  },
  {
   "cell_type": "code",
   "execution_count": 14,
   "metadata": {},
   "outputs": [],
   "source": [
    "import numpy as np\n",
    "import pandas as pd\n",
    "import os\n",
    "from awpy import DemoParser\n",
    "\n",
    "# Parse demos\n",
    "def parse(folderPath):\n",
    "\n",
    "    # Get demo files\n",
    "    demos = get_demos(folderPath)\n",
    "    demo_list = demos.iloc[:,2].to_numpy()\n",
    "    year = folderPath.split('\\\\')[-1]\n",
    "\n",
    "    # Iterate and parse demos\n",
    "    for demo in demo_list:\n",
    "        # Check wether the demo is alreay parsed\n",
    "        with open('../demo/parse/' + year + '.txt') as f:\n",
    "            lines = f.read().splitlines()\n",
    "            if demo in lines:\n",
    "                continue\n",
    "\n",
    "        # Create the datasets in which the data from the matches will be saved\n",
    "        rounds = pd.DataFrame()\n",
    "        kills = pd.DataFrame()\n",
    "        damages = pd.DataFrame()\n",
    "        grenades = pd.DataFrame()\n",
    "        flashes = pd.DataFrame()\n",
    "        weaponFires = pd.DataFrame()\n",
    "        bombEvents = pd.DataFrame()\n",
    "        frames = pd.DataFrame()\n",
    "        playerFrames = pd.DataFrame()\n",
    "\n",
    "        # Parse demo\n",
    "        match_id = demo\n",
    "\n",
    "        demo_parser = DemoParser(demofile=demo, demo_id=match_id, parse_rate=16, outpath='../demo/parse/2023/demo_source')\n",
    "        data = demo_parser.parse(return_type='df')\n",
    "        data['frames']['matchID'] = data['matchID']\n",
    "        data['frames']['mapName'] = data['mapName']\n",
    "\n",
    "        # Append the parsed demo's data to padas tables\n",
    "        rounds = data['rounds']\n",
    "        kills = data['kills']\n",
    "        damages = data['damages']\n",
    "        grenades = data['grenades']\n",
    "        flashes = data['flashes']\n",
    "        weaponFires = data['weaponFires']\n",
    "        bombEvents = data['bombEvents']\n",
    "        frames = data['frames']\n",
    "        playerFrames = data['playerFrames']\n",
    "\n",
    "        # Name of demo file\n",
    "        demoname = demo.split(\"/\")[-2] + '---' + demo.split(\"/\")[-1]\n",
    "\n",
    "        # Save csv\n",
    "        rounds.to_csv('../demo/parse/' + year + '/rounds/' + demoname + '.csv')\n",
    "        kills.to_csv('../demo/parse/' + year + '/kills/' + demoname + '.csv')\n",
    "        damages.to_csv('../demo/parse/' + year + '/damages/' + demoname + '.csv')\n",
    "        grenades.to_csv('../demo/parse/' + year + '/grenades/' + demoname + '.csv')\n",
    "        flashes.to_csv('../demo/parse/' + year + '/flashes/' + demoname + '.csv')\n",
    "        weaponFires.to_csv('../demo/parse/' + year + '/weaponFires/' + demoname + '.csv')\n",
    "        bombEvents.to_csv('../demo/parse/' + year + '/bombEvents/' + demoname + '.csv')\n",
    "        frames.to_csv('../demo/parse/' + year + '/frames/' + demoname + '.csv')\n",
    "        playerFrames.to_csv('../demo/parse/' + year + '/playerFrames/' + demoname + '.csv')\n",
    "\n",
    "        # Save parsed demo to list\n",
    "        f = open('../demo/parse/' + year + '.txt', 'a')\n",
    "        f.write(\"%s\\n\" % demo)\n",
    "        f.close()\n",
    "        print(demoname + 'completed')"
   ]
  },
  {
   "cell_type": "code",
   "execution_count": 15,
   "metadata": {},
   "outputs": [
    {
     "name": "stderr",
     "output_type": "stream",
     "text": [
      "A parse rate lower than 64 may be slow depending on the tickrate of the demo, which is usually 64 for MM and 128 for pro demos.\n",
      "No file produced, error in calling Golang\n",
      "[]\n",
      "JSON path does not exist!\n"
     ]
    },
    {
     "ename": "FileNotFoundError",
     "evalue": "JSON path does not exist!",
     "output_type": "error",
     "traceback": [
      "\u001b[1;31m---------------------------------------------------------------------------\u001b[0m",
      "\u001b[1;31mFileNotFoundError\u001b[0m                         Traceback (most recent call last)",
      "Cell \u001b[1;32mIn[15], line 1\u001b[0m\n\u001b[1;32m----> 1\u001b[0m parse(\u001b[39mr\u001b[39;49m\u001b[39m'\u001b[39;49m\u001b[39mD:\u001b[39;49m\u001b[39m\\\u001b[39;49m\u001b[39mBME\u001b[39;49m\u001b[39m\\\u001b[39;49m\u001b[39mcsgo-gnn\u001b[39;49m\u001b[39m\\\u001b[39;49m\u001b[39mscrape-parse\u001b[39;49m\u001b[39m\\\u001b[39;49m\u001b[39mdemo\u001b[39;49m\u001b[39m\\\u001b[39;49m\u001b[39mmatches\u001b[39;49m\u001b[39m\\\u001b[39;49m\u001b[39m2023\u001b[39;49m\u001b[39m'\u001b[39;49m)\n",
      "Cell \u001b[1;32mIn[14], line 37\u001b[0m, in \u001b[0;36mparse\u001b[1;34m(folderPath)\u001b[0m\n\u001b[0;32m     34\u001b[0m match_id \u001b[39m=\u001b[39m demo\n\u001b[0;32m     36\u001b[0m demo_parser \u001b[39m=\u001b[39m DemoParser(demofile\u001b[39m=\u001b[39mdemo, demo_id\u001b[39m=\u001b[39mmatch_id, parse_rate\u001b[39m=\u001b[39m\u001b[39m16\u001b[39m, outpath\u001b[39m=\u001b[39m\u001b[39m'\u001b[39m\u001b[39m../demo/parse/2023/demo_source\u001b[39m\u001b[39m'\u001b[39m)\n\u001b[1;32m---> 37\u001b[0m data \u001b[39m=\u001b[39m demo_parser\u001b[39m.\u001b[39;49mparse(return_type\u001b[39m=\u001b[39;49m\u001b[39m'\u001b[39;49m\u001b[39mdf\u001b[39;49m\u001b[39m'\u001b[39;49m)\n\u001b[0;32m     38\u001b[0m data[\u001b[39m'\u001b[39m\u001b[39mframes\u001b[39m\u001b[39m'\u001b[39m][\u001b[39m'\u001b[39m\u001b[39mmatchID\u001b[39m\u001b[39m'\u001b[39m] \u001b[39m=\u001b[39m data[\u001b[39m'\u001b[39m\u001b[39mmatchID\u001b[39m\u001b[39m'\u001b[39m]\n\u001b[0;32m     39\u001b[0m data[\u001b[39m'\u001b[39m\u001b[39mframes\u001b[39m\u001b[39m'\u001b[39m][\u001b[39m'\u001b[39m\u001b[39mmapName\u001b[39m\u001b[39m'\u001b[39m] \u001b[39m=\u001b[39m data[\u001b[39m'\u001b[39m\u001b[39mmapName\u001b[39m\u001b[39m'\u001b[39m]\n",
      "File \u001b[1;32m~\\AppData\\Local\\Packages\\PythonSoftwareFoundation.Python.3.11_qbz5n2kfra8p0\\LocalCache\\local-packages\\Python311\\site-packages\\awpy\\parser\\demoparser.py:587\u001b[0m, in \u001b[0;36mDemoParser.parse\u001b[1;34m(self, return_type, clean)\u001b[0m\n\u001b[0;32m    571\u001b[0m \u001b[39m\u001b[39m\u001b[39m\"\"\"Wrapper for parse_demo() and read_json(). Use to parse a demo.\u001b[39;00m\n\u001b[0;32m    572\u001b[0m \n\u001b[0;32m    573\u001b[0m \u001b[39mArgs:\u001b[39;00m\n\u001b[1;32m   (...)\u001b[0m\n\u001b[0;32m    584\u001b[0m \u001b[39m    AttributeError: Raises an AttributeError if the .json attribute is None\u001b[39;00m\n\u001b[0;32m    585\u001b[0m \u001b[39m\"\"\"\u001b[39;00m\n\u001b[0;32m    586\u001b[0m \u001b[39mself\u001b[39m\u001b[39m.\u001b[39mparse_demo()\n\u001b[1;32m--> 587\u001b[0m \u001b[39mself\u001b[39;49m\u001b[39m.\u001b[39;49mread_json(json_path\u001b[39m=\u001b[39;49m\u001b[39mself\u001b[39;49m\u001b[39m.\u001b[39;49moutput_file)\n\u001b[0;32m    588\u001b[0m \u001b[39mif\u001b[39;00m clean:\n\u001b[0;32m    589\u001b[0m     \u001b[39mself\u001b[39m\u001b[39m.\u001b[39mclean_rounds()\n",
      "File \u001b[1;32m~\\AppData\\Local\\Packages\\PythonSoftwareFoundation.Python.3.11_qbz5n2kfra8p0\\LocalCache\\local-packages\\Python311\\site-packages\\awpy\\parser\\demoparser.py:546\u001b[0m, in \u001b[0;36mDemoParser.read_json\u001b[1;34m(self, json_path)\u001b[0m\n\u001b[0;32m    544\u001b[0m     \u001b[39mself\u001b[39m\u001b[39m.\u001b[39mlogger\u001b[39m.\u001b[39merror(\u001b[39m\"\u001b[39m\u001b[39mJSON path does not exist!\u001b[39m\u001b[39m\"\u001b[39m)\n\u001b[0;32m    545\u001b[0m     msg \u001b[39m=\u001b[39m \u001b[39m\"\u001b[39m\u001b[39mJSON path does not exist!\u001b[39m\u001b[39m\"\u001b[39m\n\u001b[1;32m--> 546\u001b[0m     \u001b[39mraise\u001b[39;00m \u001b[39mFileNotFoundError\u001b[39;00m(msg)\n\u001b[0;32m    548\u001b[0m \u001b[39m# Read in json to .json attribute\u001b[39;00m\n\u001b[0;32m    549\u001b[0m \u001b[39mwith\u001b[39;00m \u001b[39mopen\u001b[39m(json_path, encoding\u001b[39m=\u001b[39m\u001b[39m\"\u001b[39m\u001b[39mutf8\u001b[39m\u001b[39m\"\u001b[39m) \u001b[39mas\u001b[39;00m game_data:\n",
      "\u001b[1;31mFileNotFoundError\u001b[0m: JSON path does not exist!"
     ]
    }
   ],
   "source": [
    "parse(r'D:\\BME\\csgo-gnn\\scrape-parse\\demo\\matches\\2023')"
   ]
  },
  {
   "cell_type": "markdown",
   "metadata": {},
   "source": [
    "### Inferno estimates"
   ]
  },
  {
   "cell_type": "code",
   "execution_count": 12,
   "metadata": {},
   "outputs": [
    {
     "name": "stdout",
     "output_type": "stream",
     "text": [
      "- inferno matches in 2023 = 138, estimated rounds: 2760\n",
      "- inferno matches in 2022 = 172, estimated rounds: 3440\n"
     ]
    }
   ],
   "source": [
    "print(('- inferno matches in 2023 = {}, estimated rounds: {}').format(138, 138 * 20))\n",
    "print(('- inferno matches in 2022 = {}, estimated rounds: {}').format(172, 172 * 20))"
   ]
  }
 ],
 "metadata": {
  "kernelspec": {
   "display_name": "Python 3",
   "language": "python",
   "name": "python3"
  },
  "language_info": {
   "codemirror_mode": {
    "name": "ipython",
    "version": 3
   },
   "file_extension": ".py",
   "mimetype": "text/x-python",
   "name": "python",
   "nbconvert_exporter": "python",
   "pygments_lexer": "ipython3",
   "version": "3.11.5"
  },
  "orig_nbformat": 4
 },
 "nbformat": 4,
 "nbformat_minor": 2
}
