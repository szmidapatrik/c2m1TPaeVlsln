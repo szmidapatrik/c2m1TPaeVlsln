{
 "cells": [
  {
   "cell_type": "code",
   "execution_count": 18,
   "metadata": {},
   "outputs": [
    {
     "data": {
      "text/plain": [
       "'/media/szmp/Adat/BME/csgo-gnn/scrape-parse/demo/matches/2022/faze-vs-sprout-m2-inferno.dem'"
      ]
     },
     "execution_count": 18,
     "metadata": {},
     "output_type": "execute_result"
    }
   ],
   "source": [
    "import pandas as pd\n",
    "import os\n",
    "\n",
    "def parse(folderPath):\n",
    "    folderMatchs = os.listdir(folderPath)\n",
    "    file = open(folderPath + 'parsedDemos.txt', 'a+')\n",
    "    file.close()\n",
    "    folderDemo = []\n",
    "    for folder in folderMatchs:\n",
    "        matches = os.listdir(os.path.join(folderPath, folder))\n",
    "        for demo in matches:\n",
    "            folderDemo.append([folder, demo[:-3], os.path.join(folderPath, demo)])\n",
    "    return folderDemo\n",
    "\n",
    "df = pd.DataFrame(parse('/media/szmp/Adat/BME/csgo-gnn/scrape-parse/demo/matches/2022'), columns=['tournament', 'match', 'path'])\n",
    "df.iloc[1,2]"
   ]
  }
 ],
 "metadata": {
  "kernelspec": {
   "display_name": "Python 3",
   "language": "python",
   "name": "python3"
  },
  "language_info": {
   "codemirror_mode": {
    "name": "ipython",
    "version": 3
   },
   "file_extension": ".py",
   "mimetype": "text/x-python",
   "name": "python",
   "nbconvert_exporter": "python",
   "pygments_lexer": "ipython3",
   "version": "3.10.12"
  },
  "orig_nbformat": 4
 },
 "nbformat": 4,
 "nbformat_minor": 2
}
