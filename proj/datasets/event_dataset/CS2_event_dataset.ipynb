{
 "cells": [
  {
   "cell_type": "markdown",
   "metadata": {},
   "source": [
    "# CS2 Event dataset\n",
    "\n",
    "Create CS2 event dataset from the heterogeneous shapshot graphs. Features to keep track of (P - player, M - map, U - universal):"
   ]
  },
  {
   "cell_type": "code",
   "execution_count": 5,
   "metadata": {},
   "outputs": [],
   "source": [
    "import torch\n",
    "\n",
    "import pandas as pd\n",
    "import polars as pl\n",
    "import numpy as np\n",
    "\n",
    "import seaborn as sns\n",
    "import matplotlib.pyplot as plt\n",
    "\n",
    "from sklearn.preprocessing import MinMaxScaler\n",
    "\n",
    "import time\n",
    "import json\n",
    "import sys\n",
    "import os\n",
    "\n",
    "pd.set_option('display.max_columns', 100)\n",
    "\n",
    "pl.Config.set_tbl_rows(10)\n",
    "\n",
    "sys.path.append(os.path.abspath('../../../package'))"
   ]
  },
  {
   "cell_type": "markdown",
   "metadata": {},
   "source": [
    "### Features to examine:"
   ]
  },
  {
   "cell_type": "markdown",
   "metadata": {},
   "source": [
    "\n",
    "  - P. position changes (X, Y, Z)\n",
    "  - P. velocity changes (X, Y, Z)\n",
    "  - P. look direction changes\n",
    "  - P. travelled to new map area\n",
    "  - P. entered bombsite\n",
    "  - P. left bombsite\n",
    "  - P. entered active contact spot\n",
    "  - P. left active contact spot\n",
    "  - P. actual map area\n",
    "\n",
    "  - P. changed to primary weapon\n",
    "  - P. switched primary weapon\n",
    "  - P. primary weapon\n",
    "  - P. changed to secondary weapon\n",
    "  - P. switched secondary weapon\n",
    "  - P. secondary weapon\n",
    "  - P. is shooting / throwing a grenade\n",
    "  - P. got low on ammunition\n",
    "\n",
    "  - P. dealt damage\n",
    "  - P. eliminated an opponent\n",
    "  - P. lost health\n",
    "  - P. lost armor\n",
    "  - P. got eliminated\n",
    "\n",
    "  - P. was spotted\n",
    "  - P. got flashed\n",
    "  - P. started reloading\n",
    "  - P. finished reloading\n",
    "  - P. scoped in \n",
    "  - P. scoped out\n",
    "  - P. started defusing\n",
    "\n",
    "  - M. map part got set on fire\n",
    "  - M. map part molotov extinguished\n",
    "  - M. molotovs burning on map part\n",
    "  - M. map part got smoked\n",
    "  - M. map part smoke ended\n",
    "  - M. active smokes on map part\n",
    "\n",
    "  - U. bomb got dropped\n",
    "  - U. bomb was picked up\n",
    "  - U. bomb getting planted\n",
    "  - U. bomb got planted\n",
    "  - U. bombsite the bomb was planted on (A or B)\n",
    "  - U. bomb position in the 9x9 matrix\n",
    "\n",
    "  - PRED. predicted win probability for the snapshot"
   ]
  },
  {
   "cell_type": "markdown",
   "metadata": {},
   "source": [
    "### Dataset creation"
   ]
  }
 ],
 "metadata": {
  "kernelspec": {
   "display_name": "Python 3",
   "language": "python",
   "name": "python3"
  },
  "language_info": {
   "codemirror_mode": {
    "name": "ipython",
    "version": 3
   },
   "file_extension": ".py",
   "mimetype": "text/x-python",
   "name": "python",
   "nbconvert_exporter": "python",
   "pygments_lexer": "ipython3",
   "version": "3.11.9"
  }
 },
 "nbformat": 4,
 "nbformat_minor": 2
}
