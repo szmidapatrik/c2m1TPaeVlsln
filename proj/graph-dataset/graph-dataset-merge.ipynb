{
 "cells": [
  {
   "cell_type": "markdown",
   "metadata": {},
   "source": [
    "# Merge Heterogeneous graph datasets\n",
    "\n",
    "Merge the created Heterogeneous graph datasets using a binary tree merge approach"
   ]
  },
  {
   "cell_type": "code",
   "execution_count": 2,
   "metadata": {},
   "outputs": [],
   "source": [
    "# Torch\n",
    "import torch\n",
    "from torch_geometric.data import HeteroData, DataLoader\n",
    "from torch_geometric.data import Dataset, Data\n",
    "\n",
    "# Data manipulation\n",
    "import pandas as pd\n",
    "import numpy as np\n",
    "\n",
    "# Other\n",
    "from math import floor, ceil\n",
    "from joblib import dump, load\n",
    "import time\n",
    "import os\n",
    "\n",
    "# Pandas display options\n",
    "pd.set_option('display.max_columns', 1300)\n",
    "pd.set_option('display.max_rows', 100)"
   ]
  },
  {
   "cell_type": "code",
   "execution_count": 3,
   "metadata": {},
   "outputs": [],
   "source": [
    "# Graph related path constants\n",
    "PATH_HETERO_GRAPH_DATASET_FOLDER = '../../data/graph-dataset/semester-2/hetero-graph/'\n",
    "\n",
    "# Graph dataset class\n",
    "class InfernoDataset(Dataset):\n",
    "    def __init__(self, data_list):\n",
    "        super(InfernoDataset, self).__init__()\n",
    "        self.data_list = data_list\n",
    "\n",
    "    def len(self):\n",
    "        return len(self.data_list)\n",
    "\n",
    "    def get(self, idx):\n",
    "        return self.data_list[idx]\n",
    "    \n",
    "    def concat(self, dataset):\n",
    "        self.data_list = self.data_list + dataset.data_list"
   ]
  },
  {
   "cell_type": "markdown",
   "metadata": {},
   "source": [
    "### 1. Merge single datasets in pairs of two"
   ]
  },
  {
   "cell_type": "code",
   "execution_count": 10,
   "metadata": {},
   "outputs": [
    {
     "name": "stdout",
     "output_type": "stream",
     "text": [
      "Merged inferno_graph_data_00-1000.pt inferno_graph_data_01-1001.pt\n",
      "Merged inferno_graph_data_01-1002.pt inferno_graph_data_01-1003.pt\n",
      "Merged inferno_graph_data_01-1004.pt inferno_graph_data_01-1005.pt\n",
      "Merged inferno_graph_data_02-1006.pt inferno_graph_data_02-1007.pt\n",
      "Merged inferno_graph_data_02-1008.pt inferno_graph_data_02-1009.pt\n",
      "Merged inferno_graph_data_02-1010.pt inferno_graph_data_03-1011.pt\n",
      "Merged inferno_graph_data_03-1012.pt inferno_graph_data_03-1013.pt\n",
      "Merged inferno_graph_data_03-1014.pt inferno_graph_data_04-1015.pt\n",
      "Merged inferno_graph_data_04-1016.pt inferno_graph_data_04-1017.pt\n",
      "Merged inferno_graph_data_04-1018.pt inferno_graph_data_04-1019.pt\n",
      "Merged inferno_graph_data_05-1020.pt inferno_graph_data_05-1021.pt\n",
      "Merged inferno_graph_data_05-1022.pt inferno_graph_data_05-1023.pt\n",
      "Merged inferno_graph_data_05-1024.pt inferno_graph_data_06-1025.pt\n",
      "Merged inferno_graph_data_06-1026.pt inferno_graph_data_06-1027.pt\n",
      "Merged inferno_graph_data_06-1028.pt inferno_graph_data_06-1029.pt\n",
      "Merged inferno_graph_data_07-1030.pt inferno_graph_data_07-1031.pt\n",
      "Merged inferno_graph_data_07-1032.pt inferno_graph_data_07-1033.pt\n",
      "Merged inferno_graph_data_07-1034.pt inferno_graph_data_08-1035.pt\n",
      "Merged inferno_graph_data_08-1036.pt inferno_graph_data_08-1037.pt\n",
      "Merged inferno_graph_data_08-1038.pt inferno_graph_data_08-1039.pt\n",
      "Merged inferno_graph_data_09-1040.pt inferno_graph_data_09-1041.pt\n",
      "Merged inferno_graph_data_09-1042.pt inferno_graph_data_09-1043.pt\n",
      "Merged inferno_graph_data_09-1044.pt inferno_graph_data_10-1045.pt\n",
      "Merged inferno_graph_data_10-1046.pt inferno_graph_data_10-1047.pt\n",
      "Merged inferno_graph_data_10-1048.pt inferno_graph_data_10-1049.pt\n",
      "Merged inferno_graph_data_11-1050.pt inferno_graph_data_11-1051.pt\n",
      "Merged inferno_graph_data_11-1052.pt inferno_graph_data_11-1053.pt\n",
      "Merged inferno_graph_data_11-1054.pt inferno_graph_data_12-1055.pt\n",
      "Merged inferno_graph_data_12-1056.pt inferno_graph_data_12-1057.pt\n",
      "Merged inferno_graph_data_12-1058.pt inferno_graph_data_12-1059.pt\n",
      "Merged inferno_graph_data_13-1060.pt inferno_graph_data_13-1061.pt\n",
      "Merged inferno_graph_data_13-1062.pt inferno_graph_data_13-1063.pt\n",
      "Merged inferno_graph_data_13-1064.pt inferno_graph_data_14-1065.pt\n",
      "Merged inferno_graph_data_14-1066.pt inferno_graph_data_14-1067.pt\n",
      "Merged inferno_graph_data_14-1068.pt inferno_graph_data_14-1069.pt\n",
      "Merged inferno_graph_data_15-1070.pt inferno_graph_data_15-1071.pt\n",
      "Merged inferno_graph_data_15-1072.pt inferno_graph_data_15-1073.pt\n",
      "Merged inferno_graph_data_15-1074.pt inferno_graph_data_16-1075.pt\n",
      "Merged inferno_graph_data_16-1076.pt inferno_graph_data_16-1077.pt\n",
      "Merged inferno_graph_data_16-1078.pt inferno_graph_data_16-1079.pt\n",
      "Merged inferno_graph_data_17-1080.pt inferno_graph_data_17-1081.pt\n",
      "Merged inferno_graph_data_17-1082.pt inferno_graph_data_17-1083.pt\n",
      "Merged inferno_graph_data_17-1084.pt inferno_graph_data_18-1085.pt\n",
      "Merged inferno_graph_data_18-1086.pt inferno_graph_data_18-1087.pt\n",
      "Merged inferno_graph_data_19-1088.pt inferno_graph_data_19-1089.pt\n",
      "Merged inferno_graph_data_19-1090.pt inferno_graph_data_19-1091.pt\n",
      "Merged inferno_graph_data_19-1092.pt inferno_graph_data_20-1093.pt\n",
      "Merged inferno_graph_data_20-1094.pt inferno_graph_data_20-1095.pt\n",
      "Merged inferno_graph_data_20-1096.pt inferno_graph_data_20-1097.pt\n",
      "Merged inferno_graph_data_21-1098.pt inferno_graph_data_21-1099.pt\n",
      "Merged inferno_graph_data_21-1100.pt inferno_graph_data_21-1101.pt\n",
      "Merged inferno_graph_data_21-1102.pt inferno_graph_data_22-1103.pt\n",
      "Merged inferno_graph_data_22-1104.pt inferno_graph_data_22-1105.pt\n",
      "Merged inferno_graph_data_22-1106.pt inferno_graph_data_22-1107.pt\n",
      "Merged inferno_graph_data_22-1108.pt inferno_graph_data_22-1109.pt\n",
      "Merged inferno_graph_data_22-1110.pt inferno_graph_data_22-1111.pt\n",
      "Merged inferno_graph_data_23-1112.pt inferno_graph_data_23-1113.pt\n",
      "Merged inferno_graph_data_23-1114.pt inferno_graph_data_23-1115.pt\n",
      "Merged inferno_graph_data_23-1116.pt inferno_graph_data_24-1117.pt\n",
      "Merged inferno_graph_data_24-1118.pt inferno_graph_data_24-1119.pt\n",
      "Merged inferno_graph_data_24-1120.pt inferno_graph_data_24-1121.pt\n",
      "Merged inferno_graph_data_25-1122.pt inferno_graph_data_25-1123.pt\n",
      "Merged inferno_graph_data_25-1124.pt inferno_graph_data_25-1125.pt\n",
      "Merged inferno_graph_data_25-1126.pt inferno_graph_data_26-1127.pt\n",
      "Merged inferno_graph_data_26-1128.pt inferno_graph_data_26-1129.pt\n",
      "Merged inferno_graph_data_26-1130.pt inferno_graph_data_26-1131.pt\n",
      "Merged inferno_graph_data_27-1132.pt inferno_graph_data_27-1133.pt\n"
     ]
    }
   ],
   "source": [
    "file_list = os.listdir(PATH_HETERO_GRAPH_DATASET_FOLDER)\n",
    "file_list = [f for f in file_list if f.endswith('.pt')]\n",
    "\n",
    "for i in range(0, len(file_list), 2):\n",
    "    try:\n",
    "        dataset = InfernoDataset(\n",
    "            torch.load(PATH_HETERO_GRAPH_DATASET_FOLDER + file_list[i]).data_list +\n",
    "            torch.load(PATH_HETERO_GRAPH_DATASET_FOLDER + file_list[i+1]).data_list\n",
    "        )\n",
    "        file_name = file_list[i].split('.')[0][-4:] + '-' + file_list[i+1].split('.')[0][-4:]\n",
    "        torch.save(dataset, PATH_HETERO_GRAPH_DATASET_FOLDER + 'merged-2/' + file_name + '.pt')\n",
    "        print('Merged', file_list[i], file_list[i+1])\n",
    "    except:\n",
    "        print('Error in merging', file_list[i], file_list[i+1], 'copying the first file.')\n",
    "        dataset = torch.load(PATH_HETERO_GRAPH_DATASET_FOLDER + file_list[i])\n",
    "        torch.save(dataset, PATH_HETERO_GRAPH_DATASET_FOLDER + 'merged-2/' + file_list[i].split('.')[0][-4:] + '.pt')"
   ]
  },
  {
   "cell_type": "markdown",
   "metadata": {},
   "source": [
    "### 2. Merge double datasets into pairs of four"
   ]
  },
  {
   "cell_type": "code",
   "execution_count": null,
   "metadata": {},
   "outputs": [],
   "source": [
    "file_list = os.listdir(PATH_HETERO_GRAPH_DATASET_FOLDER + 'merged-2/')\n",
    "file_list = [f for f in file_list if f.endswith('.pt')]\n",
    "\n",
    "for i in range(0, len(file_list), 2):\n",
    "    try:\n",
    "        dataset = InfernoDataset(\n",
    "            torch.load(PATH_HETERO_GRAPH_DATASET_FOLDER + file_list[i]).data_list +\n",
    "            torch.load(PATH_HETERO_GRAPH_DATASET_FOLDER + file_list[i+1]).data_list\n",
    "        )\n",
    "        file_name = file_list[i].split('.')[0] + '-' + file_list[i+1].split('.')[0]\n",
    "        torch.save(dataset, PATH_HETERO_GRAPH_DATASET_FOLDER + 'merged-4/' + file_name + '.pt')\n",
    "        print('Merged', file_list[i], file_list[i+1])\n",
    "    except:\n",
    "        print('Error in merging', file_list[i], file_list[i+1], 'copying the first file.')\n",
    "        dataset = torch.load(PATH_HETERO_GRAPH_DATASET_FOLDER + file_list[i])\n",
    "        torch.save(dataset, PATH_HETERO_GRAPH_DATASET_FOLDER + 'merged-4/' + file_list[i].split('.')[0] + '.pt')"
   ]
  },
  {
   "cell_type": "markdown",
   "metadata": {},
   "source": [
    "### 3. Merge quadruple datasets into pairs of eight"
   ]
  },
  {
   "cell_type": "code",
   "execution_count": null,
   "metadata": {},
   "outputs": [],
   "source": [
    "file_list = os.listdir(PATH_HETERO_GRAPH_DATASET_FOLDER + 'merged-4/')\n",
    "file_list = [f for f in file_list if f.endswith('.pt')]\n",
    "\n",
    "for i in range(0, len(file_list), 2):\n",
    "    try:\n",
    "        dataset = InfernoDataset(\n",
    "            torch.load(PATH_HETERO_GRAPH_DATASET_FOLDER + file_list[i]).data_list +\n",
    "            torch.load(PATH_HETERO_GRAPH_DATASET_FOLDER + file_list[i+1]).data_list\n",
    "        )\n",
    "        file_name = file_list[i].split('.')[0] + '-' + file_list[i+1].split('.')[0]\n",
    "        torch.save(dataset, PATH_HETERO_GRAPH_DATASET_FOLDER + 'merged-8/' + file_name + '.pt')\n",
    "        print('Merged', file_list[i], file_list[i+1])\n",
    "    except:\n",
    "        print('Error in merging', file_list[i], file_list[i+1], 'copying the first file.')\n",
    "        dataset = torch.load(PATH_HETERO_GRAPH_DATASET_FOLDER + file_list[i])\n",
    "        torch.save(dataset, PATH_HETERO_GRAPH_DATASET_FOLDER + 'merged-8/' + file_list[i].split('.')[0] + '.pt')"
   ]
  }
 ],
 "metadata": {
  "kernelspec": {
   "display_name": "Python 3",
   "language": "python",
   "name": "python3"
  },
  "language_info": {
   "codemirror_mode": {
    "name": "ipython",
    "version": 3
   },
   "file_extension": ".py",
   "mimetype": "text/x-python",
   "name": "python",
   "nbconvert_exporter": "python",
   "pygments_lexer": "ipython3",
   "version": "3.11.9"
  }
 },
 "nbformat": 4,
 "nbformat_minor": 2
}
