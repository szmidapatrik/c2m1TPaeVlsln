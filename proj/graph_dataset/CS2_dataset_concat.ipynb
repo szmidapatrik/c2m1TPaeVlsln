{
 "cells": [
  {
   "cell_type": "code",
   "execution_count": 1,
   "metadata": {},
   "outputs": [],
   "source": [
    "import pandas as pd\n",
    "import torch\n",
    "import numpy as np\n",
    "import os\n",
    "import sys\n",
    "\n",
    "DATA_PATH = '../../data/matches-processed/cs2/hetero-graph/'"
   ]
  },
  {
   "cell_type": "code",
   "execution_count": 3,
   "metadata": {},
   "outputs": [
    {
     "name": "stdout",
     "output_type": "stream",
     "text": [
      "Saved 100000-100009.pt\n",
      "Saved 100010-100019.pt\n",
      "Saved 100020-100029.pt\n",
      "Saved 100030-100039.pt\n",
      "Saved 100040-100049.pt\n"
     ]
    }
   ],
   "source": [
    "concat_list = []\n",
    "\n",
    "for i in range(0, 50):\n",
    "    file_name = 100000 + i\n",
    "    match_graphs = torch.load(DATA_PATH + f'{file_name}.pt', weights_only=False)\n",
    "    concat_list.extend(match_graphs)\n",
    "    del match_graphs\n",
    "\n",
    "    if file_name % 10 == 9:\n",
    "        torch.save(concat_list, DATA_PATH + '/concat/' + f'{file_name-9}-{file_name}.pt')\n",
    "        print(f'Saved {file_name-9}-{file_name}.pt')\n",
    "        del concat_list\n",
    "        concat_list = []"
   ]
  },
  {
   "cell_type": "code",
   "execution_count": 8,
   "metadata": {},
   "outputs": [
    {
     "name": "stdout",
     "output_type": "stream",
     "text": [
      "Saved 100000-100009.pt\n",
      "Saved 100010-100019.pt\n",
      "Saved 100020-100029.pt\n",
      "Saved 100030-100039.pt\n",
      "Saved 100040-100049.pt\n",
      "Saved 100050-100059.pt\n",
      "Saved 100060-100069.pt\n",
      "Saved 100070-100079.pt\n",
      "Saved 100080-100089.pt\n",
      "Saved 100090-100099.pt\n",
      "Saved 100100-100109.pt\n"
     ]
    }
   ],
   "source": [
    "file_names = [\n",
    "    '100000-100009.pt',\n",
    "    '100010-100019.pt',\n",
    "    '100020-100029.pt',\n",
    "    '100030-100039.pt',\n",
    "    '100040-100049.pt',\n",
    "    '100050-100059.pt',\n",
    "    '100060-100069.pt',\n",
    "    '100070-100079.pt',\n",
    "    '100080-100089.pt',\n",
    "    '100090-100099.pt',\n",
    "    '100100-100109.pt',\n",
    "]\n",
    "\n",
    "for file_name in file_names:\n",
    "\n",
    "    match_graphs = torch.load(DATA_PATH + '/concat/' + file_name, weights_only=False)\n",
    "    bomb_planted = []\n",
    "\n",
    "    for graph in match_graphs:\n",
    "        if graph.y['is_bomb_planted_at_A_site'] == np.float16(1) or graph.y['is_bomb_planted_at_B_site'] == np.float16(1):\n",
    "            bomb_planted.append(graph)\n",
    "\n",
    "    torch.save(bomb_planted, DATA_PATH + '/bomb_planted/' + file_name)\n",
    "    print(f'Saved {file_name}')"
   ]
  },
  {
   "cell_type": "code",
   "execution_count": 9,
   "metadata": {},
   "outputs": [
    {
     "name": "stdout",
     "output_type": "stream",
     "text": [
      "Graphs in 100000-100009.pt: 18199\n",
      "Graphs in 100010-100019.pt: 14658\n",
      "Graphs in 100020-100029.pt: 17705\n",
      "Graphs in 100030-100039.pt: 17674\n",
      "Graphs in 100040-100049.pt: 19612\n",
      "Graphs in 100050-100059.pt: 15886\n",
      "Graphs in 100060-100069.pt: 16954\n",
      "Graphs in 100070-100079.pt: 19228\n",
      "Graphs in 100080-100089.pt: 19015\n",
      "Graphs in 100090-100099.pt: 17290\n",
      "Graphs in 100100-100109.pt: 15621\n"
     ]
    }
   ],
   "source": [
    "bomb_file_names = [\n",
    "    '100000-100009.pt',\n",
    "    '100010-100019.pt',\n",
    "    '100020-100029.pt',\n",
    "    '100030-100039.pt',\n",
    "    '100040-100049.pt',\n",
    "    '100050-100059.pt',\n",
    "    '100060-100069.pt',\n",
    "    '100070-100079.pt',\n",
    "    '100080-100089.pt',\n",
    "    '100090-100099.pt',\n",
    "    '100100-100109.pt',\n",
    "]\n",
    "\n",
    "for file_name in bomb_file_names:\n",
    "\n",
    "    match_graphs = torch.load(DATA_PATH + '/bomb_planted/' + file_name, weights_only=False)\n",
    "    print(f'Graphs in {file_name}: {len(match_graphs)}')"
   ]
  }
 ],
 "metadata": {
  "kernelspec": {
   "display_name": "Python 3",
   "language": "python",
   "name": "python3"
  },
  "language_info": {
   "codemirror_mode": {
    "name": "ipython",
    "version": 3
   },
   "file_extension": ".py",
   "mimetype": "text/x-python",
   "name": "python",
   "nbconvert_exporter": "python",
   "pygments_lexer": "ipython3",
   "version": "3.12.6"
  }
 },
 "nbformat": 4,
 "nbformat_minor": 2
}
