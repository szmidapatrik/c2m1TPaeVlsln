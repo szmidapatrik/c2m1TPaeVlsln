{
 "cells": [
  {
   "cell_type": "code",
   "execution_count": 14,
   "metadata": {},
   "outputs": [],
   "source": [
    "import pandas as pd\n",
    "import torch\n",
    "import numpy as np\n",
    "import os\n",
    "import sys\n",
    "import random\n",
    "import matplotlib.pyplot as plt\n",
    "\n",
    "DATA_PATH = '../../data/matches-processed/cs2/hetero-graph/'"
   ]
  },
  {
   "cell_type": "markdown",
   "metadata": {},
   "source": [
    "### Concat single matches"
   ]
  },
  {
   "cell_type": "code",
   "execution_count": 20,
   "metadata": {},
   "outputs": [],
   "source": [
    "file_names = [\n",
    "    '100110.pt',\n",
    "    '100111.pt',\n",
    "    '100112.pt',\n",
    "    '100113.pt'\n",
    "]\n",
    "\n",
    "lens = 0\n",
    "concat_list = []\n",
    "\n",
    "for file in file_names:\n",
    "    data = torch.load(DATA_PATH + file, weights_only=False)\n",
    "    lens += len(data)\n",
    "    concat_list.extend(data)"
   ]
  },
  {
   "cell_type": "code",
   "execution_count": 21,
   "metadata": {},
   "outputs": [
    {
     "name": "stdout",
     "output_type": "stream",
     "text": [
      "32364\n",
      "32364\n"
     ]
    }
   ],
   "source": [
    "print(lens)\n",
    "print(len(concat_list))"
   ]
  },
  {
   "cell_type": "code",
   "execution_count": 22,
   "metadata": {},
   "outputs": [],
   "source": [
    "torch.save(concat_list, DATA_PATH + '/concat/100110-100113.pt')"
   ]
  },
  {
   "cell_type": "markdown",
   "metadata": {},
   "source": [
    "### Concat afterplant datasets"
   ]
  },
  {
   "cell_type": "code",
   "execution_count": 5,
   "metadata": {},
   "outputs": [],
   "source": [
    "file_names = [\n",
    "    '100000-100009.pt',\n",
    "    '100010-100019.pt',\n",
    "    '100020-100029.pt',\n",
    "    '100030-100039.pt',\n",
    "    '100040-100049.pt',\n",
    "    '100050-100059.pt',\n",
    "    '100060-100069.pt',\n",
    "    '100070-100079.pt',\n",
    "    '100080-100089.pt',\n",
    "    '100090-100099.pt',\n",
    "    '100100-100109.pt',\n",
    "    '100110-100113.pt',\n",
    "]\n",
    "\n",
    "lens = 0\n",
    "concat_list = []\n",
    "\n",
    "for file in file_names:\n",
    "    data = torch.load(DATA_PATH + 'bomb_planted/' + file, weights_only=False)\n",
    "    lens += len(data)\n",
    "    concat_list.extend(data)"
   ]
  },
  {
   "cell_type": "code",
   "execution_count": 6,
   "metadata": {},
   "outputs": [
    {
     "name": "stdout",
     "output_type": "stream",
     "text": [
      "199678\n",
      "199678\n"
     ]
    }
   ],
   "source": [
    "print(lens)\n",
    "print(len(concat_list))"
   ]
  },
  {
   "cell_type": "code",
   "execution_count": 7,
   "metadata": {},
   "outputs": [
    {
     "name": "stdout",
     "output_type": "stream",
     "text": [
      "31901.0\n",
      "0.15976221716964312\n"
     ]
    }
   ],
   "source": [
    "ct_wins = 0\n",
    "for graph in concat_list:\n",
    "    ct_wins += graph.y['CT_wins']\n",
    "\n",
    "print(ct_wins)\n",
    "print(ct_wins / len(concat_list))"
   ]
  },
  {
   "cell_type": "code",
   "execution_count": 8,
   "metadata": {},
   "outputs": [],
   "source": [
    "torch.save(concat_list, DATA_PATH + '/bomb_planted/afterplant.pt')"
   ]
  },
  {
   "cell_type": "markdown",
   "metadata": {},
   "source": [
    "### Create bomb planted datasets"
   ]
  },
  {
   "cell_type": "code",
   "execution_count": 24,
   "metadata": {},
   "outputs": [
    {
     "name": "stdout",
     "output_type": "stream",
     "text": [
      "Saved 100000-100009.pt\n",
      "Saved 100010-100019.pt\n",
      "Saved 100020-100029.pt\n",
      "Saved 100030-100039.pt\n",
      "Saved 100040-100049.pt\n",
      "Saved 100050-100059.pt\n",
      "Saved 100060-100069.pt\n",
      "Saved 100070-100079.pt\n",
      "Saved 100080-100089.pt\n",
      "Saved 100090-100099.pt\n",
      "Saved 100100-100109.pt\n",
      "Saved 100110-100113.pt\n"
     ]
    }
   ],
   "source": [
    "file_names = [\n",
    "    '100000-100009.pt',\n",
    "    '100010-100019.pt',\n",
    "    '100020-100029.pt',\n",
    "    '100030-100039.pt',\n",
    "    '100040-100049.pt',\n",
    "    '100050-100059.pt',\n",
    "    '100060-100069.pt',\n",
    "    '100070-100079.pt',\n",
    "    '100080-100089.pt',\n",
    "    '100090-100099.pt',\n",
    "    '100100-100109.pt',\n",
    "    '100110-100113.pt'\n",
    "]\n",
    "\n",
    "for file_name in file_names:\n",
    "\n",
    "    match_graphs = torch.load(DATA_PATH + '/concat/' + file_name, weights_only=False)\n",
    "    bomb_planted = []\n",
    "\n",
    "    for graph in match_graphs:\n",
    "        if graph.y['is_bomb_planted_at_A_site'] == np.float16(1) or graph.y['is_bomb_planted_at_B_site'] == np.float16(1):\n",
    "            bomb_planted.append(graph)\n",
    "\n",
    "    torch.save(bomb_planted, DATA_PATH + '/bomb_planted/' + file_name)\n",
    "    print(f'Saved {file_name}')"
   ]
  },
  {
   "cell_type": "code",
   "execution_count": 9,
   "metadata": {},
   "outputs": [
    {
     "name": "stdout",
     "output_type": "stream",
     "text": [
      "Graphs in 100000-100009.pt: 18199\n",
      "Graphs in 100010-100019.pt: 14658\n",
      "Graphs in 100020-100029.pt: 17705\n",
      "Graphs in 100030-100039.pt: 17674\n",
      "Graphs in 100040-100049.pt: 19612\n",
      "Graphs in 100050-100059.pt: 15886\n",
      "Graphs in 100060-100069.pt: 16954\n",
      "Graphs in 100070-100079.pt: 19228\n",
      "Graphs in 100080-100089.pt: 19015\n",
      "Graphs in 100090-100099.pt: 17290\n",
      "Graphs in 100100-100109.pt: 15621\n"
     ]
    }
   ],
   "source": [
    "bomb_file_names = [\n",
    "    '100000-100009.pt',\n",
    "    '100010-100019.pt',\n",
    "    '100020-100029.pt',\n",
    "    '100030-100039.pt',\n",
    "    '100040-100049.pt',\n",
    "    '100050-100059.pt',\n",
    "    '100060-100069.pt',\n",
    "    '100070-100079.pt',\n",
    "    '100080-100089.pt',\n",
    "    '100090-100099.pt',\n",
    "    '100100-100109.pt',\n",
    "]\n",
    "\n",
    "for file_name in bomb_file_names:\n",
    "\n",
    "    match_graphs = torch.load(DATA_PATH + '/bomb_planted/' + file_name, weights_only=False)\n",
    "    print(f'Graphs in {file_name}: {len(match_graphs)}')"
   ]
  },
  {
   "cell_type": "markdown",
   "metadata": {},
   "source": [
    "### Create training dataset"
   ]
  },
  {
   "cell_type": "code",
   "execution_count": 25,
   "metadata": {},
   "outputs": [
    {
     "name": "stdout",
     "output_type": "stream",
     "text": [
      "Loaded 100000-100009.pt\n",
      "Loaded 100010-100019.pt\n",
      "Loaded 100020-100029.pt\n",
      "Loaded 100030-100039.pt\n",
      "Loaded 100040-100049.pt\n",
      "Loaded 100050-100059.pt\n",
      "Loaded 100060-100069.pt\n",
      "Loaded 100070-100079.pt\n"
     ]
    }
   ],
   "source": [
    "file_names = [\n",
    "    '100000-100009.pt',\n",
    "    '100010-100019.pt',\n",
    "    '100020-100029.pt',\n",
    "    '100030-100039.pt',\n",
    "    '100040-100049.pt',\n",
    "    '100050-100059.pt',\n",
    "    '100060-100069.pt',\n",
    "    '100070-100079.pt',\n",
    "]\n",
    "\n",
    "train_data = []\n",
    "\n",
    "for file in file_names:\n",
    "\n",
    "    match_graphs = torch.load(DATA_PATH + '/concat/' + file, weights_only=False)\n",
    "    train_data.extend(match_graphs)\n",
    "    print(f'Loaded {file}')\n",
    "\n",
    "torch.save(train_data, DATA_PATH + '/train.pt')\n",
    "    "
   ]
  },
  {
   "cell_type": "code",
   "execution_count": 26,
   "metadata": {},
   "outputs": [
    {
     "name": "stdout",
     "output_type": "stream",
     "text": [
      "0.460989681602123\n"
     ]
    }
   ],
   "source": [
    "ct_wins = 0\n",
    "for grapf in train_data:\n",
    "    if grapf.y['CT_wins'] == np.float16(1):\n",
    "        ct_wins += 1\n",
    "\n",
    "print(ct_wins / len(train_data))"
   ]
  },
  {
   "cell_type": "code",
   "execution_count": 27,
   "metadata": {},
   "outputs": [
    {
     "name": "stdout",
     "output_type": "stream",
     "text": [
      "0.1904578614098638\n"
     ]
    }
   ],
   "source": [
    "planted = 0\n",
    "for grapf in train_data:\n",
    "    if grapf.y['is_bomb_planted_at_A_site'] == np.float16(1) or grapf.y['is_bomb_planted_at_B_site'] == np.float16(1):\n",
    "        planted += 1\n",
    "\n",
    "print(planted / len(train_data))"
   ]
  },
  {
   "cell_type": "markdown",
   "metadata": {},
   "source": [
    "### Create validation dataset"
   ]
  },
  {
   "cell_type": "code",
   "execution_count": 28,
   "metadata": {},
   "outputs": [
    {
     "name": "stdout",
     "output_type": "stream",
     "text": [
      "Loaded 100080-100089.pt\n",
      "Loaded 100090-100099.pt\n",
      "Loaded 100110-100113.pt\n"
     ]
    }
   ],
   "source": [
    "file_names = [\n",
    "    '100080-100089.pt',\n",
    "    '100090-100099.pt',\n",
    "    '100110-100113.pt',\n",
    "]\n",
    "\n",
    "val_data = []\n",
    "\n",
    "for file in file_names:\n",
    "\n",
    "    match_graphs = torch.load(DATA_PATH + '/concat/' + file, weights_only=False)\n",
    "    val_data.extend(match_graphs)\n",
    "    print(f'Loaded {file}')\n",
    "\n",
    "torch.save(val_data, DATA_PATH + '/val.pt')\n",
    "    "
   ]
  },
  {
   "cell_type": "code",
   "execution_count": 29,
   "metadata": {},
   "outputs": [
    {
     "name": "stdout",
     "output_type": "stream",
     "text": [
      "0.4753377821166045\n"
     ]
    }
   ],
   "source": [
    "ct_wins = 0\n",
    "for graph in val_data:\n",
    "    if graph.y['CT_wins'] == np.float16(1):\n",
    "        ct_wins += 1\n",
    "\n",
    "print(ct_wins / len(val_data))"
   ]
  },
  {
   "cell_type": "markdown",
   "metadata": {},
   "source": [
    "### Output variable validation"
   ]
  },
  {
   "cell_type": "code",
   "execution_count": 30,
   "metadata": {},
   "outputs": [
    {
     "name": "stdout",
     "output_type": "stream",
     "text": [
      "100000-100009.pt: 0.1513700155936734\n",
      "100010-100019.pt: 0.13963410224889725\n",
      "100020-100029.pt: 0.14991181657848324\n",
      "100030-100039.pt: 0.15914067585962005\n",
      "100040-100049.pt: 0.17005404135338345\n",
      "100050-100059.pt: 0.20787236520321417\n",
      "100060-100069.pt: 0.12294350842418236\n",
      "100070-100079.pt: 0.12441417234268574\n",
      "100080-100089.pt: 0.1735626928791862\n",
      "100090-100099.pt: 0.18470373270686505\n",
      "100100-100109.pt: 0.1546796560465232\n",
      "100110-100113.pt: 0.20327820869310698\n"
     ]
    }
   ],
   "source": [
    "for file in os.listdir(DATA_PATH + '/bomb_planted/'):\n",
    "\n",
    "    train_data = torch.load(DATA_PATH + f'/bomb_planted/{file}', weights_only=False)\n",
    "\n",
    "    ct_wins = 0\n",
    "    for graph in train_data:\n",
    "        if graph.y['CT_wins'] == np.float16(1):\n",
    "            ct_wins += 1\n",
    "\n",
    "    print(file + ': ' + str(ct_wins / len(train_data)))"
   ]
  },
  {
   "cell_type": "markdown",
   "metadata": {},
   "source": [
    "### Full-buy rounds proportion"
   ]
  },
  {
   "cell_type": "code",
   "execution_count": 10,
   "metadata": {},
   "outputs": [],
   "source": [
    "data = torch.load(DATA_PATH + '/concat/100000-100009.pt', weights_only=False)"
   ]
  },
  {
   "cell_type": "code",
   "execution_count": 73,
   "metadata": {},
   "outputs": [],
   "source": [
    "graph_data = []\n",
    "\n",
    "for graph in data:\n",
    "    \n",
    "    temp_data = [graph.y['numerical_match_id'], graph.y['round'], graph.y['CT_equipment_value'], graph.y['T_equipment_value']]\n",
    "    if temp_data not in graph_data:\n",
    "        graph_data.append(temp_data)\n",
    "\n",
    "ev = pd.DataFrame(graph_data, columns=['numerical_match_id', 'round', 'CT_equipment_value', 'T_equipment_value'])"
   ]
  },
  {
   "cell_type": "code",
   "execution_count": 74,
   "metadata": {},
   "outputs": [
    {
     "data": {
      "text/html": [
       "<div>\n",
       "<style scoped>\n",
       "    .dataframe tbody tr th:only-of-type {\n",
       "        vertical-align: middle;\n",
       "    }\n",
       "\n",
       "    .dataframe tbody tr th {\n",
       "        vertical-align: top;\n",
       "    }\n",
       "\n",
       "    .dataframe thead th {\n",
       "        text-align: right;\n",
       "    }\n",
       "</style>\n",
       "<table border=\"1\" class=\"dataframe\">\n",
       "  <thead>\n",
       "    <tr style=\"text-align: right;\">\n",
       "      <th></th>\n",
       "      <th>numerical_match_id</th>\n",
       "      <th>round</th>\n",
       "      <th>CT_equipment_value</th>\n",
       "      <th>T_equipment_value</th>\n",
       "    </tr>\n",
       "  </thead>\n",
       "  <tbody>\n",
       "    <tr>\n",
       "      <th>33</th>\n",
       "      <td>100000.0</td>\n",
       "      <td>0.166667</td>\n",
       "      <td>0.772080</td>\n",
       "      <td>0.743671</td>\n",
       "    </tr>\n",
       "    <tr>\n",
       "      <th>64</th>\n",
       "      <td>100000.0</td>\n",
       "      <td>0.250000</td>\n",
       "      <td>0.784900</td>\n",
       "      <td>0.819620</td>\n",
       "    </tr>\n",
       "    <tr>\n",
       "      <th>79</th>\n",
       "      <td>100000.0</td>\n",
       "      <td>0.291667</td>\n",
       "      <td>0.827635</td>\n",
       "      <td>0.797468</td>\n",
       "    </tr>\n",
       "    <tr>\n",
       "      <th>109</th>\n",
       "      <td>100000.0</td>\n",
       "      <td>0.375000</td>\n",
       "      <td>0.737892</td>\n",
       "      <td>0.748418</td>\n",
       "    </tr>\n",
       "    <tr>\n",
       "      <th>136</th>\n",
       "      <td>100000.0</td>\n",
       "      <td>0.458333</td>\n",
       "      <td>0.725071</td>\n",
       "      <td>0.806962</td>\n",
       "    </tr>\n",
       "    <tr>\n",
       "      <th>...</th>\n",
       "      <td>...</td>\n",
       "      <td>...</td>\n",
       "      <td>...</td>\n",
       "      <td>...</td>\n",
       "    </tr>\n",
       "    <tr>\n",
       "      <th>2884</th>\n",
       "      <td>100009.0</td>\n",
       "      <td>0.708333</td>\n",
       "      <td>0.823362</td>\n",
       "      <td>0.806962</td>\n",
       "    </tr>\n",
       "    <tr>\n",
       "      <th>2895</th>\n",
       "      <td>100009.0</td>\n",
       "      <td>0.750000</td>\n",
       "      <td>0.706553</td>\n",
       "      <td>0.806962</td>\n",
       "    </tr>\n",
       "    <tr>\n",
       "      <th>2913</th>\n",
       "      <td>100009.0</td>\n",
       "      <td>0.791667</td>\n",
       "      <td>0.849003</td>\n",
       "      <td>0.806962</td>\n",
       "    </tr>\n",
       "    <tr>\n",
       "      <th>2946</th>\n",
       "      <td>100009.0</td>\n",
       "      <td>0.875000</td>\n",
       "      <td>0.880342</td>\n",
       "      <td>0.759494</td>\n",
       "    </tr>\n",
       "    <tr>\n",
       "      <th>2962</th>\n",
       "      <td>100009.0</td>\n",
       "      <td>0.916667</td>\n",
       "      <td>0.726496</td>\n",
       "      <td>0.789557</td>\n",
       "    </tr>\n",
       "  </tbody>\n",
       "</table>\n",
       "<p>77 rows × 4 columns</p>\n",
       "</div>"
      ],
      "text/plain": [
       "      numerical_match_id     round  CT_equipment_value  T_equipment_value\n",
       "33              100000.0  0.166667            0.772080           0.743671\n",
       "64              100000.0  0.250000            0.784900           0.819620\n",
       "79              100000.0  0.291667            0.827635           0.797468\n",
       "109             100000.0  0.375000            0.737892           0.748418\n",
       "136             100000.0  0.458333            0.725071           0.806962\n",
       "...                  ...       ...                 ...                ...\n",
       "2884            100009.0  0.708333            0.823362           0.806962\n",
       "2895            100009.0  0.750000            0.706553           0.806962\n",
       "2913            100009.0  0.791667            0.849003           0.806962\n",
       "2946            100009.0  0.875000            0.880342           0.759494\n",
       "2962            100009.0  0.916667            0.726496           0.789557\n",
       "\n",
       "[77 rows x 4 columns]"
      ]
     },
     "execution_count": 74,
     "metadata": {},
     "output_type": "execute_result"
    }
   ],
   "source": [
    "ev_first = ev.drop_duplicates(subset=['numerical_match_id', 'round'], keep='first')\n",
    "ev_first.loc[(ev_first['CT_equipment_value'] >= 0.7) & (ev_first['T_equipment_value'] >= 0.7)]"
   ]
  },
  {
   "cell_type": "code",
   "execution_count": 69,
   "metadata": {},
   "outputs": [
    {
     "data": {
      "image/png": "[encoded data removed]",
      "text/plain": [
       "<Figure size 600x400 with 1 Axes>"
      ]
     },
     "metadata": {},
     "output_type": "display_data"
    }
   ],
   "source": [
    "round_nums = ev_first.groupby('numerical_match_id').size().tolist()\n",
    "full_buy_round_nums = ev_first.loc[(ev_first['CT_equipment_value'] >= 0.7) & (ev_first['T_equipment_value'] >= 0.7)].groupby('numerical_match_id').size().tolist()\n",
    "prop_fb_rounds = [full_buy_round_nums[i] / round_nums[i] for i in range(len(round_nums))]\n",
    "match_ids = list(range(1, len(round_nums) + 1))\n",
    "\n",
    "fig = plt.figure(figsize=(6, 4))\n",
    "\n",
    "# Oszlop diagramok rajzolása\n",
    "bar_all = plt.bar(match_ids, round_nums, label='All rounds')\n",
    "bar_full_buy = plt.bar(match_ids, full_buy_round_nums, label='Full-buy rounds')\n",
    "\n",
    "# Annotáció hozzáadása az 'All rounds' oszlopok tetejére\n",
    "plt.bar_label(bar_all, fmt='%.0f')  # 'All rounds' annotációk\n",
    "\n",
    "# Annotáció hozzáadása a 'Full-buy rounds' oszlopok tetejére (arány kiszámítása)\n",
    "for i, bar in enumerate(bar_full_buy):\n",
    "    full_buy_value = full_buy_round_nums[i]\n",
    "    all_round_value = round_nums[i]\n",
    "    \n",
    "    # Arány kiszámítása, ha all_round_value nem 0\n",
    "    if all_round_value != 0:\n",
    "        ratio = (full_buy_value / all_round_value) * 100\n",
    "        plt.text(bar.get_x() + bar.get_width()/2., bar.get_height(), f'{ratio:.0f}%', ha='center', va='bottom', fontdict={'fontsize': 8})\n",
    "    else:\n",
    "        plt.text(bar.get_x() + bar.get_width()/2., bar.get_height(), 'N/A', ha='center', va='bottom')\n",
    "\n",
    "# Grafikon cím és legenda\n",
    "plt.title('Proportion of full-buy rounds in matches')\n",
    "plt.ylim(0, 30)\n",
    "plt.legend()\n",
    "\n",
    "# Megjelenítés\n",
    "plt.show()"
   ]
  },
  {
   "cell_type": "code",
   "execution_count": 82,
   "metadata": {},
   "outputs": [
    {
     "name": "stdout",
     "output_type": "stream",
     "text": [
      "Average number of rounds: 20.9\n",
      "Full-buy rounds: 36.4%\n",
      "Full-buy ratio: 7.6076 rounds\n"
     ]
    }
   ],
   "source": [
    "prop = (39 + 33 + 46 + 10 + 38 + 33 + 45 + 28 + 42 + 50) / 10\n",
    "print('Average number of rounds: ' + str(np.mean(round_nums)))\n",
    "print('Full-buy rounds: ' + str(prop) + '%')\n",
    "print('Full-buy ratio: ' + str(prop/100 * np.mean(round_nums)) + ' rounds')"
   ]
  },
  {
   "cell_type": "markdown",
   "metadata": {},
   "source": [
    "About 1/3rd of the rounds are full-buy (36.4%). In these rounds, in the first 15-20 seconds (approximately), it is impossible to predit the outcome of the round, as the teams are usually doing default strategies, taking map control and trying to get some information about the opponents positions. This means that the first 20 x 4 (20 seconds, 4 snapshots in each) = 80 snapshots in these rounds are (in most cases, approximately) impossible to predict the winner from. The average number of rounds in a match is 20.9 (~21), out of these, around 7.6 (~7.5) are full-buy rounds. The number of matches used in the training set is 80, meaning 80 * 7.5 * 80 (number of matches * average number of fullbuy rounds * first 20 seconds of a fullbuy round in snapshots) = **~48.000 snapshots are impossible to predict**. The number of graphs in the training set is 714.000, meaning 48 / 714 = ~7% of the data cannot be predicted correctly to begin with, setting the accuracy score's upper limit for a well-generalizing model to 93%."
   ]
  },
  {
   "cell_type": "markdown",
   "metadata": {},
   "source": [
    "### Afterplant dataset splt & distribution"
   ]
  },
  {
   "cell_type": "code",
   "execution_count": 15,
   "metadata": {},
   "outputs": [],
   "source": [
    "ap = torch.load(DATA_PATH + f'/concat/afterplant.pt', weights_only=False)"
   ]
  },
  {
   "cell_type": "code",
   "execution_count": 16,
   "metadata": {},
   "outputs": [],
   "source": [
    "train = ap[:round(len(ap) * 0.75)]\n",
    "val = ap[round(len(ap) * 0.75):]"
   ]
  },
  {
   "cell_type": "code",
   "execution_count": 17,
   "metadata": {},
   "outputs": [
    {
     "name": "stdout",
     "output_type": "stream",
     "text": [
      "Train CT wins: 0.15563776225644038\n",
      "Val CT wins: 0.17213541666666668\n"
     ]
    }
   ],
   "source": [
    "train_ct_wins = 0\n",
    "val_ct_wins = 0\n",
    "\n",
    "for graph in train:\n",
    "    train_ct_wins += graph.y['CT_wins']\n",
    "for graph in val:\n",
    "    val_ct_wins += graph.y['CT_wins']\n",
    "\n",
    "print('Train CT wins: ' + str(train_ct_wins / len(train)))\n",
    "print('Val CT wins: ' + str(val_ct_wins / len(val)))"
   ]
  },
  {
   "cell_type": "code",
   "execution_count": 18,
   "metadata": {},
   "outputs": [],
   "source": [
    "torch.save(train, DATA_PATH + '/bomb_planted/train.pt')"
   ]
  },
  {
   "cell_type": "code",
   "execution_count": 19,
   "metadata": {},
   "outputs": [],
   "source": [
    "torch.save(val, DATA_PATH + '/bomb_planted/val.pt')"
   ]
  }
 ],
 "metadata": {
  "kernelspec": {
   "display_name": "Python 3",
   "language": "python",
   "name": "python3"
  },
  "language_info": {
   "codemirror_mode": {
    "name": "ipython",
    "version": 3
   },
   "file_extension": ".py",
   "mimetype": "text/x-python",
   "name": "python",
   "nbconvert_exporter": "python",
   "pygments_lexer": "ipython3",
   "version": "3.11.9"
  }
 },
 "nbformat": 4,
 "nbformat_minor": 2
}
