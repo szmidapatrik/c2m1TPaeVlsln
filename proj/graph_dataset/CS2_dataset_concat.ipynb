{
 "cells": [
  {
   "cell_type": "code",
   "execution_count": 1,
   "metadata": {},
   "outputs": [],
   "source": [
    "import pandas as pd\n",
    "import torch\n",
    "import numpy as np\n",
    "import os\n",
    "import sys\n",
    "\n",
    "DATA_PATH = '../../data/matches-processed/cs2/hetero-graph/'"
   ]
  },
  {
   "cell_type": "markdown",
   "metadata": {},
   "source": [
    "### Concat single matches"
   ]
  },
  {
   "cell_type": "code",
   "execution_count": 15,
   "metadata": {},
   "outputs": [],
   "source": [
    "file_names = [\n",
    "    '100040.pt',\n",
    "    '100041.pt',\n",
    "    '100042.pt',\n",
    "    '100043.pt',\n",
    "    '100044.pt',\n",
    "    '100045.pt',\n",
    "    '100046.pt',\n",
    "    '100047.pt',\n",
    "    '100048.pt',\n",
    "    '100049.pt'\n",
    "]\n",
    "\n",
    "lens = 0\n",
    "concat_list = []\n",
    "\n",
    "for file in file_names:\n",
    "    data = torch.load(DATA_PATH + file, weights_only=False)\n",
    "    lens += len(data)\n",
    "    concat_list.extend(data)"
   ]
  },
  {
   "cell_type": "code",
   "execution_count": 16,
   "metadata": {},
   "outputs": [
    {
     "name": "stdout",
     "output_type": "stream",
     "text": [
      "97380\n",
      "97380\n"
     ]
    }
   ],
   "source": [
    "print(lens)\n",
    "print(len(concat_list))"
   ]
  },
  {
   "cell_type": "code",
   "execution_count": 17,
   "metadata": {},
   "outputs": [],
   "source": [
    "torch.save(concat_list, DATA_PATH + '/concat/100040-100049.pt')"
   ]
  },
  {
   "cell_type": "markdown",
   "metadata": {},
   "source": [
    "### Create bomb planted datasets"
   ]
  },
  {
   "cell_type": "code",
   "execution_count": 8,
   "metadata": {},
   "outputs": [
    {
     "name": "stdout",
     "output_type": "stream",
     "text": [
      "Saved 100000-100009.pt\n",
      "Saved 100010-100019.pt\n",
      "Saved 100020-100029.pt\n",
      "Saved 100030-100039.pt\n",
      "Saved 100040-100049.pt\n",
      "Saved 100050-100059.pt\n",
      "Saved 100060-100069.pt\n",
      "Saved 100070-100079.pt\n",
      "Saved 100080-100089.pt\n",
      "Saved 100090-100099.pt\n",
      "Saved 100100-100109.pt\n"
     ]
    }
   ],
   "source": [
    "file_names = [\n",
    "    '100000-100009.pt',\n",
    "    '100010-100019.pt',\n",
    "    '100020-100029.pt',\n",
    "    '100030-100039.pt',\n",
    "    '100040-100049.pt',\n",
    "    '100050-100059.pt',\n",
    "    '100060-100069.pt',\n",
    "    '100070-100079.pt',\n",
    "    '100080-100089.pt',\n",
    "    '100090-100099.pt',\n",
    "    '100100-100109.pt',\n",
    "]\n",
    "\n",
    "for file_name in file_names:\n",
    "\n",
    "    match_graphs = torch.load(DATA_PATH + '/concat/' + file_name, weights_only=False)\n",
    "    bomb_planted = []\n",
    "\n",
    "    for graph in match_graphs:\n",
    "        if graph.y['is_bomb_planted_at_A_site'] == np.float16(1) or graph.y['is_bomb_planted_at_B_site'] == np.float16(1):\n",
    "            bomb_planted.append(graph)\n",
    "\n",
    "    torch.save(bomb_planted, DATA_PATH + '/bomb_planted/' + file_name)\n",
    "    print(f'Saved {file_name}')"
   ]
  },
  {
   "cell_type": "code",
   "execution_count": 9,
   "metadata": {},
   "outputs": [
    {
     "name": "stdout",
     "output_type": "stream",
     "text": [
      "Graphs in 100000-100009.pt: 18199\n",
      "Graphs in 100010-100019.pt: 14658\n",
      "Graphs in 100020-100029.pt: 17705\n",
      "Graphs in 100030-100039.pt: 17674\n",
      "Graphs in 100040-100049.pt: 19612\n",
      "Graphs in 100050-100059.pt: 15886\n",
      "Graphs in 100060-100069.pt: 16954\n",
      "Graphs in 100070-100079.pt: 19228\n",
      "Graphs in 100080-100089.pt: 19015\n",
      "Graphs in 100090-100099.pt: 17290\n",
      "Graphs in 100100-100109.pt: 15621\n"
     ]
    }
   ],
   "source": [
    "bomb_file_names = [\n",
    "    '100000-100009.pt',\n",
    "    '100010-100019.pt',\n",
    "    '100020-100029.pt',\n",
    "    '100030-100039.pt',\n",
    "    '100040-100049.pt',\n",
    "    '100050-100059.pt',\n",
    "    '100060-100069.pt',\n",
    "    '100070-100079.pt',\n",
    "    '100080-100089.pt',\n",
    "    '100090-100099.pt',\n",
    "    '100100-100109.pt',\n",
    "]\n",
    "\n",
    "for file_name in bomb_file_names:\n",
    "\n",
    "    match_graphs = torch.load(DATA_PATH + '/bomb_planted/' + file_name, weights_only=False)\n",
    "    print(f'Graphs in {file_name}: {len(match_graphs)}')"
   ]
  },
  {
   "cell_type": "markdown",
   "metadata": {},
   "source": [
    "### Create training dataset"
   ]
  },
  {
   "cell_type": "code",
   "execution_count": 42,
   "metadata": {},
   "outputs": [
    {
     "name": "stdout",
     "output_type": "stream",
     "text": [
      "Loaded 100000-100009.pt\n",
      "Loaded 100010-100019.pt\n",
      "Loaded 100020-100029.pt\n",
      "Loaded 100030-100039.pt\n",
      "Loaded 100040-100049.pt\n",
      "Loaded 100050-100059.pt\n",
      "Loaded 100060-100069.pt\n",
      "Loaded 100070-100079.pt\n"
     ]
    }
   ],
   "source": [
    "file_names = [\n",
    "    '100000-100009.pt',\n",
    "    '100010-100019.pt',\n",
    "    '100020-100029.pt',\n",
    "    '100030-100039.pt',\n",
    "    '100040-100049.pt',\n",
    "    '100050-100059.pt',\n",
    "    '100060-100069.pt',\n",
    "    '100070-100079.pt',\n",
    "]\n",
    "\n",
    "train_data = []\n",
    "\n",
    "for file in file_names:\n",
    "\n",
    "    match_graphs = torch.load(DATA_PATH + '/concat/' + file, weights_only=False)\n",
    "    train_data.extend(match_graphs)\n",
    "    print(f'Loaded {file}')\n",
    "\n",
    "torch.save(train_data, DATA_PATH + '/train.pt')\n",
    "    "
   ]
  },
  {
   "cell_type": "code",
   "execution_count": 47,
   "metadata": {},
   "outputs": [
    {
     "name": "stdout",
     "output_type": "stream",
     "text": [
      "0.42805393466761193\n"
     ]
    }
   ],
   "source": [
    "ct_wins = 0\n",
    "for grapf in train_data:\n",
    "    if grapf.y['CT_wins'] == np.float16(1) or grapf.y['CT_wins'] == np.float16(1):\n",
    "        ct_wins += 1\n",
    "\n",
    "print(ct_wins / len(train_data))"
   ]
  },
  {
   "cell_type": "code",
   "execution_count": 48,
   "metadata": {},
   "outputs": [
    {
     "name": "stdout",
     "output_type": "stream",
     "text": [
      "0.1907563941757103\n"
     ]
    }
   ],
   "source": [
    "planted = 0\n",
    "for grapf in train_data:\n",
    "    if grapf.y['is_bomb_planted_at_A_site'] == np.float16(1) or grapf.y['is_bomb_planted_at_B_site'] == np.float16(1):\n",
    "        planted += 1\n",
    "\n",
    "print(planted / len(train_data))"
   ]
  },
  {
   "cell_type": "markdown",
   "metadata": {},
   "source": [
    "### Create validation dataset"
   ]
  },
  {
   "cell_type": "code",
   "execution_count": 49,
   "metadata": {},
   "outputs": [
    {
     "name": "stdout",
     "output_type": "stream",
     "text": [
      "Loaded 100080-100089.pt\n",
      "Loaded 100100-100109.pt\n"
     ]
    }
   ],
   "source": [
    "file_names = [\n",
    "    '100080-100089.pt',\n",
    "    '100100-100109.pt',\n",
    "]\n",
    "\n",
    "val_data = []\n",
    "\n",
    "for file in file_names:\n",
    "\n",
    "    match_graphs = torch.load(DATA_PATH + '/concat/' + file, weights_only=False)\n",
    "    val_data.extend(match_graphs)\n",
    "    print(f'Loaded {file}')\n",
    "\n",
    "torch.save(val_data, DATA_PATH + '/val.pt')\n",
    "    "
   ]
  },
  {
   "cell_type": "markdown",
   "metadata": {},
   "source": [
    "### Output variable validation"
   ]
  },
  {
   "cell_type": "code",
   "execution_count": 20,
   "metadata": {},
   "outputs": [
    {
     "data": {
      "text/plain": [
       "0.4715349047028307"
      ]
     },
     "execution_count": 20,
     "metadata": {},
     "output_type": "execute_result"
    }
   ],
   "source": [
    "train_data = torch.load(DATA_PATH + '/concat/100020-100029.pt', weights_only=False)\n",
    "\n",
    "ct_wins = 0\n",
    "\n",
    "for graph in train_data:\n",
    "    if graph.y['CT_wins'] == np.float16(1):\n",
    "        ct_wins += 1\n",
    "\n",
    "ct_wins / len(train_data)"
   ]
  }
 ],
 "metadata": {
  "kernelspec": {
   "display_name": "Python 3",
   "language": "python",
   "name": "python3"
  },
  "language_info": {
   "codemirror_mode": {
    "name": "ipython",
    "version": 3
   },
   "file_extension": ".py",
   "mimetype": "text/x-python",
   "name": "python",
   "nbconvert_exporter": "python",
   "pygments_lexer": "ipython3",
   "version": "3.11.9"
  }
 },
 "nbformat": 4,
 "nbformat_minor": 2
}
