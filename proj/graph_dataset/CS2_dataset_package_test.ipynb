{
 "cells": [
  {
   "cell_type": "code",
   "execution_count": 1,
   "metadata": {},
   "outputs": [],
   "source": [
    "from awpy import Demo\n",
    "\n",
    "import pandas as pd\n",
    "import numpy as np\n",
    "\n",
    "import seaborn as sns\n",
    "\n",
    "import random\n",
    "import sys\n",
    "import os\n",
    "\n",
    "pd.set_option('display.max_columns', 100)\n",
    "\n",
    "sys.path.append(os.path.abspath('./package'))"
   ]
  },
  {
   "cell_type": "code",
   "execution_count": 2,
   "metadata": {},
   "outputs": [],
   "source": [
    "dem = Demo('../../data/matches-raw/cs2/2023/_iem-sydney-2023-apeks-vs-gamerlegion-bo3-92jrigmL2p42QxNJ6dsNw2apeks-vs-gamerlegion-m1-vertigo.dem')"
   ]
  },
  {
   "cell_type": "code",
   "execution_count": 10,
   "metadata": {},
   "outputs": [
    {
     "data": {
      "text/plain": [
       "dict_keys(['round_freeze_end', 'player_sound', 'hegrenade_detonate', 'player_connect_full', 'item_pickup', 'smokegrenade_expired', 'item_pickup_slerp', 'round_announce_match_point', 'cs_round_start_beep', 'player_ping_stop', 'player_given_c4', 'round_officially_ended', 'hltv_versioninfo', 'flashbang_detonate', 'player_death', 'player_hurt', 'weapon_fire', 'bomb_planted', 'bomb_pickup', 'cs_win_panel_round', 'announce_phase_end', 'round_time_warning', 'entity_killed', 'player_team', 'cs_intermission', 'round_announce_match_start', 'vote_cast', 'bomb_defused', 'server_cvar', 'bomb_exploded', 'cs_win_panel_match', 'round_end_upload_stats', 'inferno_startburn', 'player_disconnect', 'inferno_expire', 'round_announce_last_round_half', 'bomb_dropped', 'decoy_detonate', 'cs_pre_restart', 'round_mvp', 'decoy_started', 'hltv_fixed', 'hltv_chase', 'round_end', 'smokegrenade_detonate', 'round_start', 'player_spawn', 'player_ping', 'cs_round_final_beep'])"
      ]
     },
     "execution_count": 10,
     "metadata": {},
     "output_type": "execute_result"
    }
   ],
   "source": [
    "dem.events.keys()"
   ]
  }
 ],
 "metadata": {
  "kernelspec": {
   "display_name": "Python 3",
   "language": "python",
   "name": "python3"
  },
  "language_info": {
   "codemirror_mode": {
    "name": "ipython",
    "version": 3
   },
   "file_extension": ".py",
   "mimetype": "text/x-python",
   "name": "python",
   "nbconvert_exporter": "python",
   "pygments_lexer": "ipython3",
   "version": "3.12.4"
  }
 },
 "nbformat": 4,
 "nbformat_minor": 2
}
