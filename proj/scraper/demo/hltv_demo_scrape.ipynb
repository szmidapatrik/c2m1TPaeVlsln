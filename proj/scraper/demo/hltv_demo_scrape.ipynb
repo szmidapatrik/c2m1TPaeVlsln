{
 "cells": [
  {
   "cell_type": "markdown",
   "metadata": {},
   "source": [
    "## Scrape HLTV matches\n",
    "\n",
    "Using the *HLTV_Demo_Scraper* module, download mathces of tournaments."
   ]
  },
  {
   "cell_type": "code",
   "execution_count": 1,
   "metadata": {},
   "outputs": [],
   "source": [
    "import sys\n",
    "import os\n",
    "\n",
    "sys.path.append(os.path.abspath('../../../package'))\n",
    "\n",
    "from HLTV import HLTV_Demo_Scraper"
   ]
  },
  {
   "cell_type": "markdown",
   "metadata": {},
   "source": [
    "### Scrape tournaments"
   ]
  },
  {
   "cell_type": "markdown",
   "metadata": {},
   "source": [
    "#### CCT Global Finals 2024"
   ]
  },
  {
   "cell_type": "code",
   "execution_count": null,
   "metadata": {},
   "outputs": [],
   "source": [
    "HLTV_Demo_Scraper().demo_downloader_for_tournaments(\n",
    "    'https://www.hltv.org/results?event=7517', \n",
    "    r'E:\\csgo-gnn\\data\\matches-raw\\cs2\\2024\\zip', \n",
    "    r'E:\\csgo-gnn\\data\\matches-raw\\cs2\\2024'\n",
    ")"
   ]
  },
  {
   "cell_type": "markdown",
   "metadata": {},
   "source": [
    "#### YaLLa Compass 2024"
   ]
  },
  {
   "cell_type": "code",
   "execution_count": null,
   "metadata": {},
   "outputs": [],
   "source": [
    "HLTV_Demo_Scraper().demo_downloader_for_tournaments(\n",
    "    'https://www.hltv.org/results?event=7475', \n",
    "    r'E:\\csgo-gnn\\data\\matches-raw\\cs2\\2024\\zip', \n",
    "    r'E:\\csgo-gnn\\data\\matches-raw\\cs2\\2024'\n",
    ")"
   ]
  },
  {
   "cell_type": "markdown",
   "metadata": {},
   "source": [
    "#### Esports World Cup 2024"
   ]
  },
  {
   "cell_type": "code",
   "execution_count": null,
   "metadata": {},
   "outputs": [],
   "source": [
    "HLTV_Demo_Scraper().demo_downloader_for_tournaments(\n",
    "    'https://www.hltv.org/results?event=7732', \n",
    "    r'E:\\csgo-gnn\\data\\matches-raw\\cs2\\2024\\zip', \n",
    "    r'E:\\csgo-gnn\\data\\matches-raw\\cs2\\2024'\n",
    ")"
   ]
  },
  {
   "cell_type": "markdown",
   "metadata": {},
   "source": [
    "#### BLAST Premier: Fall Groups 2024"
   ]
  },
  {
   "cell_type": "code",
   "execution_count": null,
   "metadata": {},
   "outputs": [],
   "source": [
    "HLTV_Demo_Scraper().demo_downloader_for_tournaments(\n",
    "    'https://www.hltv.org/results?event=7554', \n",
    "    r'E:\\csgo-gnn\\data\\matches-raw\\cs2\\2024\\zip', \n",
    "    r'E:\\csgo-gnn\\data\\matches-raw\\cs2\\2024'\n",
    ")"
   ]
  },
  {
   "cell_type": "markdown",
   "metadata": {},
   "source": [
    "#### IEM Cologne 2024"
   ]
  },
  {
   "cell_type": "code",
   "execution_count": null,
   "metadata": {},
   "outputs": [],
   "source": [
    "HLTV_Demo_Scraper().demo_downloader_for_tournaments(\n",
    "    'https://www.hltv.org/results?event=7436', \n",
    "    r'E:\\csgo-gnn\\data\\matches-raw\\cs2\\2024\\zip', \n",
    "    r'E:\\csgo-gnn\\data\\matches-raw\\cs2\\2024'\n",
    ")"
   ]
  },
  {
   "cell_type": "markdown",
   "metadata": {},
   "source": [
    "#### BetBoom Dacha Belgrade 2024 #2 ✅"
   ]
  },
  {
   "cell_type": "code",
   "execution_count": 5,
   "metadata": {},
   "outputs": [],
   "source": [
    "HLTV_Demo_Scraper().demo_downloader_for_tournaments(\n",
    "    'https://www.hltv.org/results?event=7993', \n",
    "    r'E:\\csgo-gnn\\data\\matches-raw\\cs2\\2024\\zip', \n",
    "    r'E:\\csgo-gnn\\data\\matches-raw\\cs2\\2024'\n",
    ")"
   ]
  },
  {
   "cell_type": "markdown",
   "metadata": {},
   "source": [
    "### Unzip scraped matches"
   ]
  },
  {
   "cell_type": "code",
   "execution_count": null,
   "metadata": {},
   "outputs": [],
   "source": [
    "HLTV_Demo_Scraper().unzip_demo_files(r'E:\\csgo-gnn\\data\\matches-raw\\cs2\\2024\\zip', r'E:\\csgo-gnn\\data\\matches-raw\\cs2\\2024')"
   ]
  }
 ],
 "metadata": {
  "kernelspec": {
   "display_name": "Python 3",
   "language": "python",
   "name": "python3"
  },
  "language_info": {
   "codemirror_mode": {
    "name": "ipython",
    "version": 3
   },
   "file_extension": ".py",
   "mimetype": "text/x-python",
   "name": "python",
   "nbconvert_exporter": "python",
   "pygments_lexer": "ipython3",
   "version": "3.12.6"
  }
 },
 "nbformat": 4,
 "nbformat_minor": 2
}
