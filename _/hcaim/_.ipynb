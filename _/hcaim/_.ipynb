{
 "cells": [
  {
   "cell_type": "markdown",
   "metadata": {},
   "source": [
    "### graph dataset image plot"
   ]
  },
  {
   "cell_type": "code",
   "execution_count": null,
   "metadata": {},
   "outputs": [],
   "source": [
    "fig, axs = plt.subplots(1,2,figsize=(12,6))\n",
    "\n",
    "img = mpimg.imread('src/inferno_layout.png')\n",
    "imgplot = axs[0].imshow(img)\n",
    "axs[0].set_title(\"Layout of the map Inferno\")\n",
    "\n",
    "graphnodes = pd.DataFrame(data=dataset[0]['map']['x'].numpy(), columns=['x','y','path'])\n",
    "graphedges = pd.DataFrame(data=dataset[0]['map','connected_to','map']['edge_index'].numpy().T, columns=['startIdx', 'endIdx'])\n",
    "\n",
    "axs[1].scatter(graphnodes['x'], graphnodes['y'])\n",
    "for idx, edge in graphedges.iterrows():\n",
    "    axs[1].plot([graphnodes.iloc[edge['startIdx']]['x'], graphnodes.iloc[edge['endIdx']]['x']], [graphnodes.iloc[edge['startIdx']]['y'], graphnodes.iloc[edge['endIdx']]['y']], c='black',zorder=1)\n",
    "axs[1].set_title(\"Graph of the map Inferno\")\n",
    "plt.show()"
   ]
  }
 ],
 "metadata": {
  "language_info": {
   "name": "python"
  }
 },
 "nbformat": 4,
 "nbformat_minor": 2
}
