{
  "nbformat": 4,
  "nbformat_minor": 0,
  "metadata": {
    "colab": {
      "provenance": [],
      "gpuType": "T4"
    },
    "kernelspec": {
      "name": "python3",
      "display_name": "Python 3"
    },
    "language_info": {
      "name": "python"
    },
    "accelerator": "GPU"
  },
  "cells": [
    {
      "cell_type": "code",
      "source": [
        "pip install torch_geometric"
      ],
      "metadata": {
        "id": "cbUomM4OECt3"
      },
      "execution_count": null,
      "outputs": []
    },
    {
      "cell_type": "code",
      "execution_count": null,
      "metadata": {
        "id": "vmoEAC55Dzgd"
      },
      "outputs": [],
      "source": [
        "import pandas as pd\n",
        "import numpy as np\n",
        "import matplotlib.pyplot as plt\n",
        "import torch\n",
        "from torch_geometric.data import HeteroData, DataLoader\n",
        "from torch_geometric.nn import RGCNConv\n",
        "import torch.nn.functional as F\n",
        "from torch_geometric.nn import SAGEConv, to_hetero, GCNConv\n",
        "from torch_geometric.nn import HeteroConv, GCNConv, SAGEConv, GATConv, Linear\n",
        "from torch_geometric.nn import global_mean_pool\n",
        "from torch_geometric.loader import DataLoader\n",
        "import pandas as pd\n",
        "import numpy as np\n",
        "import matplotlib.pyplot as plt"
      ]
    },
    {
      "cell_type": "code",
      "source": [
        "nodes = pd.read_csv('test_nodes.csv')\n",
        "edges = pd.read_csv('test_edges.csv')\n",
        "playerFrameData = pd.read_csv('test_playerFrameData.csv')\n",
        "playerEdges = pd.read_csv('test_playerEdges.csv')\n",
        "graphData = pd.read_csv('test_graph_data.csv').T.rename(columns={0: 'roundNum', 1: 'floorSec', 2: 'team1AliveNum', 3: 'team2AliveNum', 4: 'CTwinsRound'})"
      ],
      "metadata": {
        "id": "U1n_XY_zD_Wn"
      },
      "execution_count": null,
      "outputs": []
    },
    {
      "cell_type": "code",
      "source": [
        "nodes['x'] = nodes['x'].astype('float32')\n",
        "nodes['y'] = nodes['y'].astype('float32')\n",
        "playerFrameData = playerFrameData.astype('float32')"
      ],
      "metadata": {
        "id": "CieUwOFUFQdB"
      },
      "execution_count": null,
      "outputs": []
    },
    {
      "cell_type": "code",
      "source": [
        "data = HeteroData()\n",
        "\n",
        "# Create a sample heterogeneous graph with node, edge, and multiple graph-level features\n",
        "data['player'].x = torch.tensor(playerFrameData.values)\n",
        "data['map'].x = torch.tensor(nodes.values)\n",
        "\n",
        "data['map', 'connected_to', 'map'].edge_index = torch.tensor(edges.T.values)\n",
        "data['player', 'closest_to', 'map'].edge_index = torch.tensor(playerEdges.loc[ (playerEdges['roundNum'] == 1) & (playerEdges['floorSec'] == 0)][['playerId','closestId']].T.values)\n",
        "\n",
        "\n",
        "# Define multiple graph-level features\n",
        "data.y = {\n",
        "    'roundNum': torch.tensor(graphData['roundNum'].iloc[0].astype('float32')),\n",
        "    'floorSec': torch.tensor(graphData['floorSec'].iloc[0].astype('float32')),\n",
        "    'team1AliveNum': torch.tensor(graphData['team1AliveNum'].iloc[0].astype('float32')),\n",
        "    'team2AliveNum': torch.tensor(graphData['team2AliveNum'].iloc[0].astype('float32')),\n",
        "    'CTwinsRound': torch.tensor(graphData['CTwinsRound'].iloc[0])\n",
        "}"
      ],
      "metadata": {
        "id": "d56uX81YHTmW"
      },
      "execution_count": null,
      "outputs": []
    },
    {
      "cell_type": "code",
      "source": [
        "data = data.to_homogeneous()\n",
        "data"
      ],
      "metadata": {
        "colab": {
          "base_uri": "https://localhost:8080/"
        },
        "id": "qVNdJhdeejXt",
        "outputId": "8351a2ce-dc7e-4b74-cd16-69fa183a0bb2"
      },
      "execution_count": null,
      "outputs": [
        {
          "output_type": "execute_result",
          "data": {
            "text/plain": [
              "Data(\n",
              "  y={\n",
              "    roundNum=1.0,\n",
              "    floorSec=0.0,\n",
              "    team1AliveNum=5.0,\n",
              "    team2AliveNum=5.0,\n",
              "    CTwinsRound=0,\n",
              "  },\n",
              "  edge_index=[2, 214],\n",
              "  x=[191, 44],\n",
              "  node_type=[191],\n",
              "  edge_type=[214]\n",
              ")"
            ]
          },
          "metadata": {},
          "execution_count": 130
        }
      ]
    },
    {
      "cell_type": "code",
      "source": [
        "train_loader = DataLoader([data], batch_size=1, shuffle=True)"
      ],
      "metadata": {
        "id": "ItZCA2qWhdX1"
      },
      "execution_count": null,
      "outputs": []
    },
    {
      "cell_type": "code",
      "source": [
        "for step, data in enumerate(train_loader):\n",
        "    print(f'Step {step + 1}:')\n",
        "    print('=======')\n",
        "    print(f'Number of graphs in the current batch: {data.num_graphs}')\n",
        "    print(data)\n",
        "    print()"
      ],
      "metadata": {
        "colab": {
          "base_uri": "https://localhost:8080/"
        },
        "id": "FO-OlwHGhgk7",
        "outputId": "c7690ffc-c37e-4c76-8de4-5994745bc9ff"
      },
      "execution_count": null,
      "outputs": [
        {
          "output_type": "stream",
          "name": "stdout",
          "text": [
            "Step 1:\n",
            "=======\n",
            "Number of graphs in the current batch: 1\n",
            "DataBatch(\n",
            "  y={\n",
            "    roundNum=[1],\n",
            "    floorSec=[1],\n",
            "    team1AliveNum=[1],\n",
            "    team2AliveNum=[1],\n",
            "    CTwinsRound=[1],\n",
            "  },\n",
            "  edge_index=[2, 214],\n",
            "  x=[191, 44],\n",
            "  node_type=[191],\n",
            "  edge_type=[214],\n",
            "  batch=[191],\n",
            "  ptr=[2]\n",
            ")\n",
            "\n"
          ]
        }
      ]
    },
    {
      "cell_type": "code",
      "source": [
        "class GCN(torch.nn.Module):\n",
        "    def __init__(self, hidden_channels):\n",
        "        super(GCN, self).__init__()\n",
        "        torch.manual_seed(12345)\n",
        "        self.conv1 = GCNConv(data.num_node_features, hidden_channels)\n",
        "        self.conv2 = GCNConv(hidden_channels, hidden_channels)\n",
        "        self.conv3 = GCNConv(hidden_channels, hidden_channels)\n",
        "        self.lin = Linear(hidden_channels, 1)\n",
        "\n",
        "    def forward(self, x, edge_index, batch):\n",
        "        # 1. Obtain node embeddings\n",
        "        x = self.conv1(x, edge_index)\n",
        "        x = x.relu()\n",
        "        x = self.conv2(x, edge_index)\n",
        "        x = x.relu()\n",
        "        x = self.conv3(x, edge_index)\n",
        "\n",
        "        # 2. Readout layer\n",
        "        x = global_mean_pool(x, batch)  # [batch_size, hidden_channels]\n",
        "\n",
        "        # 3. Apply a final classifier\n",
        "        x = F.dropout(x, p=0.5, training=self.training)\n",
        "        x = self.lin(x)\n",
        "\n",
        "        return x\n",
        "\n",
        "model = GCN(hidden_channels=64)\n",
        "print(model)"
      ],
      "metadata": {
        "colab": {
          "base_uri": "https://localhost:8080/"
        },
        "id": "eN2i4YDDFWGQ",
        "outputId": "93aa1d50-8a9b-41d6-a2e5-e94c24d605f3"
      },
      "execution_count": null,
      "outputs": [
        {
          "output_type": "stream",
          "name": "stdout",
          "text": [
            "GCN(\n",
            "  (conv1): GCNConv(44, 64)\n",
            "  (conv2): GCNConv(64, 64)\n",
            "  (conv3): GCNConv(64, 64)\n",
            "  (lin): Linear(64, 1, bias=True)\n",
            ")\n"
          ]
        }
      ]
    },
    {
      "cell_type": "code",
      "source": [
        "from IPython.display import Javascript\n",
        "display(Javascript('''google.colab.output.setIframeHeight(0, true, {maxHeight: 300})'''))\n",
        "\n",
        "model = GCN(hidden_channels=64)\n",
        "optimizer = torch.optim.Adam(model.parameters(), lr=0.01)\n",
        "criterion = torch.nn.CrossEntropyLoss()\n",
        "\n",
        "def train():\n",
        "    model.train()\n",
        "\n",
        "    for data in train_loader:  # Iterate in batches over the training dataset.\n",
        "         out = model(data.x, data.edge_index, data.batch)  # Perform a single forward pass.\n",
        "         loss = criterion(out, data.y['CTwinsRound'])  # Compute the loss.\n",
        "         loss.backward()  # Derive gradients.\n",
        "         optimizer.step()  # Update parameters based on gradients.\n",
        "         optimizer.zero_grad()  # Clear gradients.\n",
        "\n",
        "\n",
        "for epoch in range(1, 171):\n",
        "    train()\n",
        "    # train_acc = test(train_loader)\n",
        "    # print(f'Epoch: {epoch:03d}, Train Acc: {train_acc:.4f}')"
      ],
      "metadata": {
        "colab": {
          "base_uri": "https://localhost:8080/",
          "height": 17
        },
        "id": "aYw5nBvXev5L",
        "outputId": "7acc2f38-7bb7-4781-b2cd-ac9cbcb36d88"
      },
      "execution_count": null,
      "outputs": [
        {
          "output_type": "display_data",
          "data": {
            "text/plain": [
              "<IPython.core.display.Javascript object>"
            ],
            "application/javascript": [
              "google.colab.output.setIframeHeight(0, true, {maxHeight: 300})"
            ]
          },
          "metadata": {}
        }
      ]
    }
  ]
}