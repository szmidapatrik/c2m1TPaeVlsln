{
  "cells": [
    {
      "cell_type": "code",
      "source": [
        "pip install torch_geometric"
      ],
      "metadata": {
        "colab": {
          "base_uri": "https://localhost:8080/"
        },
        "id": "dCF7RNFJH2NW",
        "outputId": "228a8760-6870-422c-c8f0-7ebb91ccb2bb"
      },
      "execution_count": 1,
      "outputs": [
        {
          "output_type": "stream",
          "name": "stdout",
          "text": [
            "Collecting torch_geometric\n",
            "  Downloading torch_geometric-2.4.0-py3-none-any.whl (1.0 MB)\n",
            "\u001b[2K     \u001b[90m━━━━━━━━━━━━━━━━━━━━━━━━━━━━━━━━━━━━━━━━\u001b[0m \u001b[32m1.0/1.0 MB\u001b[0m \u001b[31m19.0 MB/s\u001b[0m eta \u001b[36m0:00:00\u001b[0m\n",
            "\u001b[?25hRequirement already satisfied: tqdm in /usr/local/lib/python3.10/dist-packages (from torch_geometric) (4.66.1)\n",
            "Requirement already satisfied: numpy in /usr/local/lib/python3.10/dist-packages (from torch_geometric) (1.23.5)\n",
            "Requirement already satisfied: scipy in /usr/local/lib/python3.10/dist-packages (from torch_geometric) (1.11.3)\n",
            "Requirement already satisfied: jinja2 in /usr/local/lib/python3.10/dist-packages (from torch_geometric) (3.1.2)\n",
            "Requirement already satisfied: requests in /usr/local/lib/python3.10/dist-packages (from torch_geometric) (2.31.0)\n",
            "Requirement already satisfied: pyparsing in /usr/local/lib/python3.10/dist-packages (from torch_geometric) (3.1.1)\n",
            "Requirement already satisfied: scikit-learn in /usr/local/lib/python3.10/dist-packages (from torch_geometric) (1.2.2)\n",
            "Requirement already satisfied: psutil>=5.8.0 in /usr/local/lib/python3.10/dist-packages (from torch_geometric) (5.9.5)\n",
            "Requirement already satisfied: MarkupSafe>=2.0 in /usr/local/lib/python3.10/dist-packages (from jinja2->torch_geometric) (2.1.3)\n",
            "Requirement already satisfied: charset-normalizer<4,>=2 in /usr/local/lib/python3.10/dist-packages (from requests->torch_geometric) (3.3.2)\n",
            "Requirement already satisfied: idna<4,>=2.5 in /usr/local/lib/python3.10/dist-packages (from requests->torch_geometric) (3.4)\n",
            "Requirement already satisfied: urllib3<3,>=1.21.1 in /usr/local/lib/python3.10/dist-packages (from requests->torch_geometric) (2.0.7)\n",
            "Requirement already satisfied: certifi>=2017.4.17 in /usr/local/lib/python3.10/dist-packages (from requests->torch_geometric) (2023.7.22)\n",
            "Requirement already satisfied: joblib>=1.1.1 in /usr/local/lib/python3.10/dist-packages (from scikit-learn->torch_geometric) (1.3.2)\n",
            "Requirement already satisfied: threadpoolctl>=2.0.0 in /usr/local/lib/python3.10/dist-packages (from scikit-learn->torch_geometric) (3.2.0)\n",
            "Installing collected packages: torch_geometric\n",
            "Successfully installed torch_geometric-2.4.0\n"
          ]
        }
      ]
    },
    {
      "cell_type": "markdown",
      "metadata": {
        "id": "fESWGndoHyEi"
      },
      "source": [
        "# Heterogeneous GNN"
      ]
    },
    {
      "cell_type": "code",
      "execution_count": 2,
      "metadata": {
        "id": "ZERK0DTaHyEn"
      },
      "outputs": [],
      "source": [
        "import pandas as pd\n",
        "import numpy as np\n",
        "import matplotlib.pyplot as plt\n",
        "import torch\n",
        "from torch_geometric.data import HeteroData, DataLoader, Dataset\n",
        "from torch_geometric.nn import RGCNConv\n",
        "import torch.nn.functional as F\n",
        "from torch_geometric.nn import SAGEConv, to_hetero, GCNConv\n",
        "from torch_geometric.nn import HeteroConv, GCNConv, SAGEConv, GATConv, GraphConv, Linear\n",
        "from torch_geometric.nn import global_mean_pool\n",
        "from torch_geometric.utils import trim_to_layer\n",
        "from torch_geometric.loader import DataLoader\n",
        "from torch.nn.functional import normalize\n",
        "import pandas as pd\n",
        "import numpy as np\n",
        "import matplotlib.pyplot as plt\n",
        "\n",
        "class InfernoDataset(Dataset):\n",
        "    def __init__(self, data_list):\n",
        "        super(InfernoDataset, self).__init__()\n",
        "        self.data_list = data_list\n",
        "\n",
        "    def len(self):\n",
        "        return len(self.data_list)\n",
        "\n",
        "    def get(self, idx):\n",
        "        return self.data_list[idx]"
      ]
    },
    {
      "cell_type": "code",
      "source": [
        "from google.colab import drive\n",
        "drive.mount('/content/drive')"
      ],
      "metadata": {
        "colab": {
          "base_uri": "https://localhost:8080/"
        },
        "id": "wLgscpLhIHhw",
        "outputId": "8c195f93-1f8e-43ed-db66-450d8567e979"
      },
      "execution_count": 3,
      "outputs": [
        {
          "output_type": "stream",
          "name": "stdout",
          "text": [
            "Mounted at /content/drive\n"
          ]
        }
      ]
    },
    {
      "cell_type": "code",
      "execution_count": 4,
      "metadata": {
        "colab": {
          "base_uri": "https://localhost:8080/"
        },
        "id": "RSW0qBWsHyEq",
        "outputId": "1675e7b3-b37b-4d2a-ad06-3f06d2cce0d2"
      },
      "outputs": [
        {
          "output_type": "execute_result",
          "data": {
            "text/plain": [
              "64686"
            ]
          },
          "metadata": {},
          "execution_count": 4
        }
      ],
      "source": [
        "dataset_raw = torch.load('drive/MyDrive/Bme/MSc/csgo/gnn/inferno_graph_dataset.pt')\n",
        "dataset_raw.len()\n",
        "\n",
        "# dataset2 = torch.load('data/inferno_graph_dataset_2.pt')\n",
        "# dataset2.len()\n",
        "\n",
        "# dataset = torch.load('data/inferno_graph_dataset_3.pt')\n",
        "# dataset.len()\n",
        "\n",
        "# Lengths of the datasets\n",
        "# 64686+165182+61479"
      ]
    },
    {
      "cell_type": "code",
      "execution_count": 5,
      "metadata": {
        "colab": {
          "base_uri": "https://localhost:8080/"
        },
        "id": "btjHpO9fHyEr",
        "outputId": "22d6d119-e4b4-4d26-c371-e43cbf349841"
      },
      "outputs": [
        {
          "output_type": "execute_result",
          "data": {
            "text/plain": [
              "HeteroData(\n",
              "  y={\n",
              "    roundNum=1.0,\n",
              "    sec=0.0,\n",
              "    team1AliveNum=5.0,\n",
              "    team2AliveNum=5.0,\n",
              "    CTwinsRound=1,\n",
              "  },\n",
              "  player={ x=[10, 44] },\n",
              "  map={ x=[181, 3] },\n",
              "  (map, connected_to, map)={ edge_index=[2, 204] },\n",
              "  (player, closest_to, map)={ edge_index=[2, 10] }\n",
              ")"
            ]
          },
          "metadata": {},
          "execution_count": 5
        }
      ],
      "source": [
        "def format_dataset(dataset):\n",
        "  for data in dataset:\n",
        "    data['player'].x = data['player'].x[:,:-42]\n",
        "    data['player'].x = F.normalize(data['player'].x, p=2, dim=0)\n",
        "    data['map'].x = F.normalize(data['map'].x, p=2, dim=0)\n",
        "    if data['player'].x.shape == torch.Size([10,43]):\n",
        "      data['player'].x = torch.cat((data['player'].x[:, : -3], torch.zeros((10,1)), data['player'].x[:, -3:]), dim=1)\n",
        "  return dataset\n",
        "\n",
        "dataset = format_dataset(dataset_raw)\n",
        "\n",
        "data = dataset[0]\n",
        "data"
      ]
    },
    {
      "cell_type": "code",
      "execution_count": null,
      "metadata": {
        "id": "XlgtwmQuHyEs",
        "outputId": "7d899eca-f891-474e-f2c1-179a6a633228"
      },
      "outputs": [
        {
          "data": {
            "text/plain": [
              "1    34022\n",
              "0    30664\n",
              "Name: count, dtype: int64"
            ]
          },
          "execution_count": 67,
          "metadata": {},
          "output_type": "execute_result"
        }
      ],
      "source": [
        "y = []\n",
        "for data in dataset:\n",
        "    y.append(data.y['CTwinsRound'].item())\n",
        "pd.DataFrame(y).value_counts()"
      ]
    },
    {
      "cell_type": "code",
      "execution_count": 10,
      "metadata": {
        "colab": {
          "base_uri": "https://localhost:8080/"
        },
        "id": "Dbg7niSjHyEt",
        "outputId": "1249f0f0-edc1-4455-b8e5-29741e978ad3"
      },
      "outputs": [
        {
          "output_type": "stream",
          "name": "stdout",
          "text": [
            "HeterogeneousGNN(\n",
            "  (convs): ModuleList(\n",
            "    (0-4): 5 x HeteroConv(num_relations=2)\n",
            "  )\n",
            "  (lin1): Linear(-1, 256, bias=True)\n",
            "  (lin2): Linear(256, 128, bias=True)\n",
            "  (lin3): Linear(128, 32, bias=True)\n",
            "  (lin4): Linear(32, 1, bias=True)\n",
            ")\n"
          ]
        },
        {
          "output_type": "stream",
          "name": "stderr",
          "text": [
            "/usr/local/lib/python3.10/dist-packages/torch_geometric/nn/conv/hetero_conv.py:77: UserWarning: There exist node types ({'player'}) whose representations do not get updated during message passing as they do not occur as destination type in any edge type. This may lead to unexpected behavior.\n",
            "  warnings.warn(\n"
          ]
        }
      ],
      "source": [
        "class HeterogeneousGNN(torch.nn.Module):\n",
        "\n",
        "    def __init__(self, hidden_channels, num_layers, edge_types):\n",
        "        super().__init__()\n",
        "\n",
        "        torch.manual_seed(42)\n",
        "\n",
        "        self.convs = torch.nn.ModuleList()\n",
        "        for layernum in range(num_layers):\n",
        "            conv = HeteroConv({\n",
        "                    edge_type: SAGEConv((-1, -1), hidden_channels)\n",
        "                    for edge_type in edge_types\n",
        "                }, aggr='sum')\n",
        "            self.convs.append(conv)\n",
        "        self.lin1 = Linear(-1, 256)\n",
        "        self.lin2 = Linear(256, 128)\n",
        "        self.lin3 = Linear(128, 32)\n",
        "        self.lin4 = Linear(32, 1)\n",
        "\n",
        "    def forward(self, x_dict, edge_index_dict, y):\n",
        "      graph_data = torch.tensor([y['roundNum'], y['sec'], y['team1AliveNum'], y['team2AliveNum']]).to('cuda')\n",
        "\n",
        "      for conv in self.convs:\n",
        "          temp = conv(x_dict, edge_index_dict)\n",
        "          x_dict['map'] = temp['map']\n",
        "          x_dict = {key: x.relu() for key, x in x_dict.items()}\n",
        "\n",
        "      x = torch.cat([torch.flatten(x_dict['player']), torch.flatten(x_dict['map']), torch.flatten(graph_data)])\n",
        "      x = self.lin1(x).relu()\n",
        "      #print(torch.sum(torch.isnan(x)))\n",
        "      x = self.lin2(x).relu()\n",
        "      x = self.lin3(x).relu()\n",
        "      x = self.lin4(x).sigmoid()\n",
        "      return x\n",
        "\n",
        "model = HeterogeneousGNN(hidden_channels=5, num_layers=5, edge_types=data.edge_types)\n",
        "print(model);"
      ]
    },
    {
      "cell_type": "code",
      "execution_count": 29,
      "metadata": {
        "colab": {
          "base_uri": "https://localhost:8080/"
        },
        "id": "LPmSLUPyHyEu",
        "outputId": "266edb39-7a75-4eed-984c-fa832a3176f3"
      },
      "outputs": [
        {
          "output_type": "stream",
          "name": "stdout",
          "text": [
            "tensor([0.5248], device='cuda:0')\n"
          ]
        }
      ],
      "source": [
        "train_loader = DataLoader(dataset[:500], batch_size=1, shuffle=True)\n",
        "val_loader = DataLoader(dataset[500:1000], batch_size=1, shuffle=True)\n",
        "data = dataset[0].to('cuda')\n",
        "\n",
        "model = HeterogeneousGNN(hidden_channels=4, num_layers=10, edge_types=data.edge_types).to('cuda')\n",
        "optimizer = torch.optim.AdamW(model.parameters(), lr=1)\n",
        "loss_function = torch.nn.BCELoss()\n",
        "\n",
        "with torch.no_grad():  # Initialize lazy modules.\n",
        "     out = model(data.x_dict, data.edge_index_dict, data.y)\n",
        "     print(out)"
      ]
    },
    {
      "cell_type": "code",
      "execution_count": 27,
      "metadata": {
        "id": "udrmk3NEHyEv"
      },
      "outputs": [],
      "source": [
        "def train():\n",
        "  for epoch in range(1, 10):\n",
        "    model.train()\n",
        "    for data in train_loader:  # Iterate in batches over the training dataset.\n",
        "        data.to('cuda')\n",
        "        out = model(data.x_dict, data.edge_index_dict, data.y).to(torch.float32)  # Perform a single forward pass.\n",
        "        target = data.y['CTwinsRound'].to(torch.float32)\n",
        "        loss = loss_function(out, target)  # Compute the loss.\n",
        "        optimizer.zero_grad()\n",
        "        loss.backward()  # Derive gradients.\n",
        "        optimizer.step()  # Update parameters based on gradients.\n",
        "\n",
        "    train_acc = validate(val_loader)\n",
        "    print('Epoch ', epoch, ': (avg_loss, accuracy) ', train_acc)\n",
        "\n",
        "\n",
        "def test(loader):\n",
        "     model.eval()\n",
        "\n",
        "     correct = 0\n",
        "     for data in loader:  # Iterate in batches over the training/test dataset.\n",
        "         out = model(data.x, data.edge_index, data.batch)\n",
        "         pred = out.argmax(dim=1)  # Use the class with highest probability.\n",
        "         correct += int((pred == data.y).sum())  # Check against ground-truth labels.\n",
        "     return correct / len(loader.dataset)  # Derive ratio of correct predictions.\n",
        "\n",
        "\n",
        "def validate(val_loader):\n",
        "    model.eval()  # Átkapcsoljuk a modellt értékelési üzemmódba.\n",
        "    total_loss = 0\n",
        "    correct_predictions = 0\n",
        "    total_samples = 0\n",
        "\n",
        "    with torch.no_grad():\n",
        "        for data in val_loader:  # Iterálunk a validációs adatokon.\n",
        "            data.to('cuda')\n",
        "            out = model(data.x_dict, data.edge_index_dict, data.y).to(torch.float32)\n",
        "            target = data.y['CTwinsRound'].to(torch.float32)\n",
        "            loss = loss_function(out, target)\n",
        "            total_loss += loss.item()\n",
        "            total_samples += len(target)\n",
        "\n",
        "            # Ellenőrizzük a helyes előrejelzéseket (például egy bináris probléma esetében).\n",
        "            predictions = (out > 0.5).float()\n",
        "            correct_predictions += (predictions == target).sum().item()\n",
        "\n",
        "    # Kiszámítjuk az átlagos veszteséget és a pontosságot.\n",
        "    avg_loss = total_loss / len(val_loader)\n",
        "    accuracy = correct_predictions / total_samples\n",
        "\n",
        "    return avg_loss, accuracy\n"
      ]
    },
    {
      "cell_type": "code",
      "execution_count": null,
      "metadata": {
        "id": "EU62DyBuHyEw"
      },
      "outputs": [],
      "source": [
        "data.to('cpu')\n",
        "model.to('cpu')"
      ]
    },
    {
      "cell_type": "code",
      "execution_count": 28,
      "metadata": {
        "colab": {
          "base_uri": "https://localhost:8080/"
        },
        "id": "3AdytWZTHyEx",
        "outputId": "79fdcbc3-ff91-4fd6-b9e7-e8cdf5b460d2"
      },
      "outputs": [
        {
          "output_type": "stream",
          "name": "stdout",
          "text": [
            "Epoch  1 : (avg_loss, accuracy)  (16.4, 0.836)\n",
            "Epoch  2 : (avg_loss, accuracy)  (16.4, 0.836)\n",
            "Epoch  3 : (avg_loss, accuracy)  (16.4, 0.836)\n",
            "Epoch  4 : (avg_loss, accuracy)  (16.4, 0.836)\n",
            "Epoch  5 : (avg_loss, accuracy)  (16.4, 0.836)\n",
            "Epoch  6 : (avg_loss, accuracy)  (16.4, 0.836)\n",
            "Epoch  7 : (avg_loss, accuracy)  (16.4, 0.836)\n",
            "Epoch  8 : (avg_loss, accuracy)  (16.4, 0.836)\n",
            "Epoch  9 : (avg_loss, accuracy)  (16.4, 0.836)\n"
          ]
        }
      ],
      "source": [
        "train()"
      ]
    }
  ],
  "metadata": {
    "kernelspec": {
      "display_name": "Python 3",
      "name": "python3"
    },
    "language_info": {
      "codemirror_mode": {
        "name": "ipython",
        "version": 3
      },
      "file_extension": ".py",
      "mimetype": "text/x-python",
      "name": "python",
      "nbconvert_exporter": "python",
      "pygments_lexer": "ipython3",
      "version": "3.11.5"
    },
    "colab": {
      "provenance": [],
      "gpuType": "T4"
    },
    "accelerator": "GPU"
  },
  "nbformat": 4,
  "nbformat_minor": 0
}