{
 "cells": [
  {
   "cell_type": "code",
   "execution_count": 5,
   "metadata": {},
   "outputs": [
    {
     "data": {
      "application/vnd.jupyter.widget-view+json": {
       "model_id": "80f477cab748443fbcc83b069e5de6db",
       "version_major": 2,
       "version_minor": 0
      },
      "text/plain": [
       "VBox(children=(HTML(value='<b>asd:</b> 123'), Accordion(children=(VBox(children=(HTML(value='<b>xz:</b>'), VBo…"
      ]
     },
     "metadata": {},
     "output_type": "display_data"
    }
   ],
   "source": [
    "import json\n",
    "import ipywidgets as widgets\n",
    "from IPython.display import display\n",
    "\n",
    "def create_json_widget(json_obj, show_key=True):\n",
    "    if isinstance(json_obj, dict):\n",
    "        items = []\n",
    "        for key, value in json_obj.items():\n",
    "            if isinstance(value, (dict, list)):\n",
    "                item = create_json_widget(value, show_key=False)\n",
    "                accordion = widgets.Accordion(children=[widgets.VBox([widgets.HTML(f\"<b>{key}:</b>\"), item])])\n",
    "                accordion.set_title(0, key)\n",
    "                items.append(accordion)\n",
    "            else:\n",
    "                items.append(widgets.HTML(f\"<b>{key}:</b> {value}\"))\n",
    "        return widgets.VBox(items)\n",
    "    elif isinstance(json_obj, list):\n",
    "        items = [create_json_widget(item, show_key=False) for item in json_obj]\n",
    "        return widgets.VBox(items)\n",
    "    else:\n",
    "        return widgets.HTML(str(json_obj))\n",
    "\n",
    "# Példa JSON adat\n",
    "data = {\n",
    "    \"asd\": 123,\n",
    "    \"xz\": {\n",
    "        \"test\": 1,\n",
    "        \"test2\": 3\n",
    "    },\n",
    "    \"valami\": {\n",
    "        \"valamitest\": 1\n",
    "    },\n",
    "    \"helo\": \"there\"\n",
    "}\n",
    "\n",
    "# Widget létrehozása a JSON struktúra alapján\n",
    "json_widget = create_json_widget(data)\n",
    "\n",
    "# JSON megjelenítése\n",
    "display(json_widget)\n"
   ]
  }
 ],
 "metadata": {
  "kernelspec": {
   "display_name": "Python 3",
   "language": "python",
   "name": "python3"
  },
  "language_info": {
   "codemirror_mode": {
    "name": "ipython",
    "version": 3
   },
   "file_extension": ".py",
   "mimetype": "text/x-python",
   "name": "python",
   "nbconvert_exporter": "python",
   "pygments_lexer": "ipython3",
   "version": "3.11.9"
  }
 },
 "nbformat": 4,
 "nbformat_minor": 2
}
